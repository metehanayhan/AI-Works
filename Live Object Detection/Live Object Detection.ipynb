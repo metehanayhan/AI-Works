{
 "cells": [
  {
   "cell_type": "markdown",
   "id": "d44c15f2-eec1-45f4-98d6-3986a847bc10",
   "metadata": {},
   "source": [
    "# Metehan Ayhan - Live Object Detection"
   ]
  },
  {
   "cell_type": "code",
   "execution_count": 1,
   "id": "294464a9-3045-4d11-abfa-8762f0301bdc",
   "metadata": {},
   "outputs": [],
   "source": [
    "#pip install opencv-python"
   ]
  },
  {
   "cell_type": "code",
   "execution_count": 1,
   "id": "7bed80d6-0a91-4c16-a356-21b59a439c81",
   "metadata": {},
   "outputs": [],
   "source": [
    "import cvlib as cv\n",
    "from cvlib.object_detection import draw_bbox\n",
    "import cv2"
   ]
  },
  {
   "cell_type": "code",
   "execution_count": 13,
   "id": "5999a263-e352-4a8b-87d3-f00f6b9de079",
   "metadata": {},
   "outputs": [],
   "source": [
    "webcam = cv2.VideoCapture('http://172.18.4.241:8080/video')\n",
    "\n",
    "while webcam.isOpened():\n",
    "    ret, frame =webcam.read()\n",
    "    bbox, label, conf=cv.detect_common_objects(frame)\n",
    "    out = draw_bbox(frame, bbox, label, conf)\n",
    "    cv2.imshow( 'Real time object detection', out)\n",
    "    \n",
    "    if cv2.waitKey(1) & 0xFF == ord('q'):\n",
    "        break\n",
    "\n",
    "webcam.release()\n",
    "cv2.destroyAllWindows()"
   ]
  }
 ],
 "metadata": {
  "kernelspec": {
   "display_name": "Python 3 (ipykernel)",
   "language": "python",
   "name": "python3"
  },
  "language_info": {
   "codemirror_mode": {
    "name": "ipython",
    "version": 3
   },
   "file_extension": ".py",
   "mimetype": "text/x-python",
   "name": "python",
   "nbconvert_exporter": "python",
   "pygments_lexer": "ipython3",
   "version": "3.12.4"
  }
 },
 "nbformat": 4,
 "nbformat_minor": 5
}
