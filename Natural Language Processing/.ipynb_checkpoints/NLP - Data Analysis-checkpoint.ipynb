{
 "cells": [
  {
   "cell_type": "markdown",
   "id": "cfb888ff-31f1-4b87-8168-ee5c45126ddf",
   "metadata": {},
   "source": [
    "# METEHAN AYHAN - NLP Data Analysis"
   ]
  },
  {
   "cell_type": "code",
   "execution_count": 2,
   "id": "a58ee650-8ef8-479d-b36f-d0fcaca199df",
   "metadata": {},
   "outputs": [],
   "source": [
    "#!pip install nltk #natural language toolkit"
   ]
  },
  {
   "cell_type": "code",
   "execution_count": 219,
   "id": "3b40b6cd-5279-4b73-889b-56f34c1c0e26",
   "metadata": {},
   "outputs": [],
   "source": [
    "import nltk\n",
    "#nltk.download('punkt')"
   ]
  },
  {
   "cell_type": "markdown",
   "id": "ece7dca6-de2b-4e6e-aa95-de8b56087f42",
   "metadata": {},
   "source": [
    "### Tokenization"
   ]
  },
  {
   "cell_type": "markdown",
   "id": "5119fa4c-e996-45ae-88af-ffa9a9faa025",
   "metadata": {},
   "source": [
    "Tokenization ilk yapacağımız iştir. Her bir kelimeyi virgülle ayırıp liste haline getirmektir."
   ]
  },
  {
   "cell_type": "code",
   "execution_count": 6,
   "id": "cb60bfd3-eeea-4083-b049-f36b96f5dfc9",
   "metadata": {},
   "outputs": [],
   "source": [
    "text='Yaylaya gitmişti yayla zamanı, Gülizar döndü de Döndü dönmedi. I hope you find it interesting'"
   ]
  },
  {
   "cell_type": "code",
   "execution_count": 7,
   "id": "2d8299b3-c2bf-47ac-a821-e08583b3613a",
   "metadata": {},
   "outputs": [],
   "source": [
    "# word tokenization"
   ]
  },
  {
   "cell_type": "code",
   "execution_count": 8,
   "id": "5f146437-430a-4323-993f-8f31c285adcd",
   "metadata": {},
   "outputs": [
    {
     "name": "stdout",
     "output_type": "stream",
     "text": [
      "['Yaylaya', 'gitmişti', 'yayla', 'zamanı,', 'Gülizar', 'döndü', 'de', 'Döndü', 'dönmedi.', 'I', 'hope', 'you', 'find', 'it', 'interesting']\n"
     ]
    }
   ],
   "source": [
    "print(text.split())"
   ]
  },
  {
   "cell_type": "code",
   "execution_count": 9,
   "id": "2a5ca247-103c-4128-81df-4db93b37a268",
   "metadata": {},
   "outputs": [],
   "source": [
    "#sentence tokenization"
   ]
  },
  {
   "cell_type": "code",
   "execution_count": 10,
   "id": "0f987806-0ddb-4abf-b9de-c6db900311fb",
   "metadata": {},
   "outputs": [
    {
     "name": "stdout",
     "output_type": "stream",
     "text": [
      "['Yaylaya gitmişti yayla zamanı, Gülizar döndü de Döndü dönmedi', ' I hope you find it interesting']\n"
     ]
    }
   ],
   "source": [
    "print(text.split('.'))"
   ]
  },
  {
   "cell_type": "code",
   "execution_count": 11,
   "id": "6d36ae0f-e68b-4712-b1fe-d0509dd6daa0",
   "metadata": {},
   "outputs": [
    {
     "data": {
      "text/plain": [
       "'yaylaya gitmişti yayla zamanı, gülizar döndü de döndü dönmedi. i hope you find it interesting'"
      ]
     },
     "execution_count": 11,
     "metadata": {},
     "output_type": "execute_result"
    }
   ],
   "source": [
    "text.lower()"
   ]
  },
  {
   "cell_type": "code",
   "execution_count": 12,
   "id": "9b6e21ea-87cd-4dcb-99d2-3459fdb44e88",
   "metadata": {},
   "outputs": [
    {
     "data": {
      "text/plain": [
       "'YAYLAYA GITMIŞTI YAYLA ZAMANI, GÜLIZAR DÖNDÜ DE DÖNDÜ DÖNMEDI. I HOPE YOU FIND IT INTERESTING'"
      ]
     },
     "execution_count": 12,
     "metadata": {},
     "output_type": "execute_result"
    }
   ],
   "source": [
    "text.upper()"
   ]
  },
  {
   "cell_type": "code",
   "execution_count": 13,
   "id": "a7b52f06-5bbb-4ed1-b137-c8af2f7812d1",
   "metadata": {},
   "outputs": [],
   "source": [
    "ex1=\"John did not go to Bank although the banker called him\""
   ]
  },
  {
   "cell_type": "code",
   "execution_count": 14,
   "id": "6d8e41d5-2077-4ec2-84e8-43fa2708c03c",
   "metadata": {},
   "outputs": [
    {
     "name": "stdout",
     "output_type": "stream",
     "text": [
      "['John', 'did', 'not', 'go', 'to', 'Bank', 'although', 'the', 'banker', 'called', 'him']\n"
     ]
    }
   ],
   "source": [
    "print(ex1.split())"
   ]
  },
  {
   "cell_type": "code",
   "execution_count": 15,
   "id": "dfba745d-f9b5-4376-8457-dd7c357869a7",
   "metadata": {},
   "outputs": [],
   "source": [
    "import re"
   ]
  },
  {
   "cell_type": "code",
   "execution_count": 16,
   "id": "ba9e5103-4cbd-40fe-be34-d2a30ddbe760",
   "metadata": {},
   "outputs": [
    {
     "name": "stdout",
     "output_type": "stream",
     "text": [
      "['John', 'did', 'not', 'go', 'to', 'Bank', 'although', 'the', 'banker', 'called', 'him']\n"
     ]
    }
   ],
   "source": [
    "print(re.split(r'\\W+',ex1))"
   ]
  },
  {
   "cell_type": "code",
   "execution_count": 17,
   "id": "aa68e493-89a9-4049-8857-141f2b36c3a5",
   "metadata": {},
   "outputs": [],
   "source": [
    "#didn't: did not, isnt:isnot i'm: i am"
   ]
  },
  {
   "cell_type": "code",
   "execution_count": 18,
   "id": "360dc35b-83b0-4a57-9928-d2bef337ff4a",
   "metadata": {},
   "outputs": [],
   "source": [
    "from nltk.tokenize import word_tokenize,sent_tokenize, WordPunctTokenizer, WhitespaceTokenizer, TreebankWordTokenizer"
   ]
  },
  {
   "cell_type": "code",
   "execution_count": 19,
   "id": "1a027cad-ca64-43f6-beaf-bb62dcd46f1a",
   "metadata": {},
   "outputs": [
    {
     "name": "stdout",
     "output_type": "stream",
     "text": [
      "['John', 'did', 'not', 'go', 'to', 'Bank', 'although', 'the', 'banker', 'called', 'him']\n"
     ]
    }
   ],
   "source": [
    "print(word_tokenize(ex1))"
   ]
  },
  {
   "cell_type": "code",
   "execution_count": 20,
   "id": "f5c5857b-3630-4195-8ce5-823dfb66ad89",
   "metadata": {},
   "outputs": [
    {
     "data": {
      "text/plain": [
       "['Yaylaya gitmişti yayla zamanı, Gülizar döndü de Döndü dönmedi.',\n",
       " 'I hope you find it interesting']"
      ]
     },
     "execution_count": 20,
     "metadata": {},
     "output_type": "execute_result"
    }
   ],
   "source": [
    "sent_tokenize(text)"
   ]
  },
  {
   "cell_type": "code",
   "execution_count": 21,
   "id": "28667570-801d-46ec-8211-c2754f1cd6d6",
   "metadata": {},
   "outputs": [],
   "source": [
    "# Stop Words - Gereksiz is, was, they, as ,like"
   ]
  },
  {
   "cell_type": "code",
   "execution_count": 22,
   "id": "54798363-c888-4318-9eb0-cc89f284f144",
   "metadata": {},
   "outputs": [
    {
     "name": "stdout",
     "output_type": "stream",
     "text": [
      "['i', 'me', 'my', 'myself', 'we', 'our', 'ours', 'ourselves', 'you', \"you're\", \"you've\", \"you'll\", \"you'd\", 'your', 'yours', 'yourself', 'yourselves', 'he', 'him', 'his', 'himself', 'she', \"she's\", 'her', 'hers', 'herself', 'it', \"it's\", 'its', 'itself', 'they', 'them', 'their', 'theirs', 'themselves', 'what', 'which', 'who', 'whom', 'this', 'that', \"that'll\", 'these', 'those', 'am', 'is', 'are', 'was', 'were', 'be', 'been', 'being', 'have', 'has', 'had', 'having', 'do', 'does', 'did', 'doing', 'a', 'an', 'the', 'and', 'but', 'if', 'or', 'because', 'as', 'until', 'while', 'of', 'at', 'by', 'for', 'with', 'about', 'against', 'between', 'into', 'through', 'during', 'before', 'after', 'above', 'below', 'to', 'from', 'up', 'down', 'in', 'out', 'on', 'off', 'over', 'under', 'again', 'further', 'then', 'once', 'here', 'there', 'when', 'where', 'why', 'how', 'all', 'any', 'both', 'each', 'few', 'more', 'most', 'other', 'some', 'such', 'no', 'nor', 'not', 'only', 'own', 'same', 'so', 'than', 'too', 'very', 's', 't', 'can', 'will', 'just', 'don', \"don't\", 'should', \"should've\", 'now', 'd', 'll', 'm', 'o', 're', 've', 'y', 'ain', 'aren', \"aren't\", 'couldn', \"couldn't\", 'didn', \"didn't\", 'doesn', \"doesn't\", 'hadn', \"hadn't\", 'hasn', \"hasn't\", 'haven', \"haven't\", 'isn', \"isn't\", 'ma', 'mightn', \"mightn't\", 'mustn', \"mustn't\", 'needn', \"needn't\", 'shan', \"shan't\", 'shouldn', \"shouldn't\", 'wasn', \"wasn't\", 'weren', \"weren't\", 'won', \"won't\", 'wouldn', \"wouldn't\"]\n"
     ]
    }
   ],
   "source": [
    "print(nltk.corpus.stopwords.words('english'))"
   ]
  },
  {
   "cell_type": "code",
   "execution_count": 221,
   "id": "c058e3d1-e20b-4040-86e0-5e4f85a86ce2",
   "metadata": {},
   "outputs": [],
   "source": [
    "#nltk.download('stopwords')"
   ]
  },
  {
   "cell_type": "code",
   "execution_count": 24,
   "id": "dc63fa38-1f85-4337-8398-8481ecc068c9",
   "metadata": {},
   "outputs": [],
   "source": [
    "from nltk.stem import PorterStemmer"
   ]
  },
  {
   "cell_type": "code",
   "execution_count": 25,
   "id": "6d200c41-ad43-4cb6-abc6-00a1b10cde2a",
   "metadata": {},
   "outputs": [],
   "source": [
    "ps=PorterStemmer()"
   ]
  },
  {
   "cell_type": "code",
   "execution_count": 26,
   "id": "f1e00972-a750-4f2d-bb2a-9f35d0f9a986",
   "metadata": {},
   "outputs": [
    {
     "data": {
      "text/plain": [
       "'happi'"
      ]
     },
     "execution_count": 26,
     "metadata": {},
     "output_type": "execute_result"
    }
   ],
   "source": [
    "ps.stem('happiness')"
   ]
  },
  {
   "cell_type": "code",
   "execution_count": 27,
   "id": "c946d474-ec4d-4492-a0b9-4b7b3e6c17b6",
   "metadata": {},
   "outputs": [
    {
     "data": {
      "text/plain": [
       "'play'"
      ]
     },
     "execution_count": 27,
     "metadata": {},
     "output_type": "execute_result"
    }
   ],
   "source": [
    "ps.stem('played')"
   ]
  },
  {
   "cell_type": "code",
   "execution_count": 28,
   "id": "2d2fe4bd-55df-4555-92c5-9ddd6a40e207",
   "metadata": {},
   "outputs": [],
   "source": [
    "from nltk.stem import LancasterStemmer"
   ]
  },
  {
   "cell_type": "code",
   "execution_count": 29,
   "id": "caea8f6e-025c-4ede-9b9e-efd4d7387a79",
   "metadata": {},
   "outputs": [
    {
     "data": {
      "text/plain": [
       "'happy'"
      ]
     },
     "execution_count": 29,
     "metadata": {},
     "output_type": "execute_result"
    }
   ],
   "source": [
    "LancasterStemmer().stem('Happiness')"
   ]
  },
  {
   "cell_type": "code",
   "execution_count": 30,
   "id": "2c3627db-d5e9-4bf0-bc1a-1604c1cd3614",
   "metadata": {},
   "outputs": [],
   "source": [
    "from nltk.stem import SnowballStemmer"
   ]
  },
  {
   "cell_type": "code",
   "execution_count": 31,
   "id": "7436a834-0dba-4a3a-aaed-638723d51a1e",
   "metadata": {},
   "outputs": [
    {
     "data": {
      "text/plain": [
       "('arabic',\n",
       " 'danish',\n",
       " 'dutch',\n",
       " 'english',\n",
       " 'finnish',\n",
       " 'french',\n",
       " 'german',\n",
       " 'hungarian',\n",
       " 'italian',\n",
       " 'norwegian',\n",
       " 'porter',\n",
       " 'portuguese',\n",
       " 'romanian',\n",
       " 'russian',\n",
       " 'spanish',\n",
       " 'swedish')"
      ]
     },
     "execution_count": 31,
     "metadata": {},
     "output_type": "execute_result"
    }
   ],
   "source": [
    "SnowballStemmer.languages"
   ]
  },
  {
   "cell_type": "code",
   "execution_count": 32,
   "id": "855c1187-564e-4290-8770-06ad689d5d0d",
   "metadata": {},
   "outputs": [],
   "source": [
    "#pip install TurkishStemmer"
   ]
  },
  {
   "cell_type": "code",
   "execution_count": 33,
   "id": "d334dedd-a05e-440c-97e4-a200fb3dff8f",
   "metadata": {},
   "outputs": [],
   "source": [
    "from TurkishStemmer import TurkishStemmer"
   ]
  },
  {
   "cell_type": "code",
   "execution_count": 34,
   "id": "85881dcb-da9f-45f8-8bf3-47beb21f98ae",
   "metadata": {},
   "outputs": [
    {
     "data": {
      "text/plain": [
       "'gidecek'"
      ]
     },
     "execution_count": 34,
     "metadata": {},
     "output_type": "execute_result"
    }
   ],
   "source": [
    "TurkishStemmer().stem('gidecektim')"
   ]
  },
  {
   "cell_type": "code",
   "execution_count": 35,
   "id": "c8d07c0b-217e-4b6f-8f8e-deff99ba67a5",
   "metadata": {},
   "outputs": [
    {
     "data": {
      "text/plain": [
       "'Öğreniyor'"
      ]
     },
     "execution_count": 35,
     "metadata": {},
     "output_type": "execute_result"
    }
   ],
   "source": [
    "TurkishStemmer().stem('Öğreniyor')"
   ]
  },
  {
   "cell_type": "code",
   "execution_count": 36,
   "id": "ec17c676-7018-44a1-bb12-9749894d39b3",
   "metadata": {},
   "outputs": [],
   "source": [
    "#POS - Part Of SPeech - Ozne nesne yüklem S verb Object Fiil fail meful"
   ]
  },
  {
   "cell_type": "code",
   "execution_count": 223,
   "id": "9efa44e3-a5c0-44d4-a975-6e83ae4dae15",
   "metadata": {},
   "outputs": [],
   "source": [
    "#nltk.download('averaged_perceptron_tagger')"
   ]
  },
  {
   "cell_type": "code",
   "execution_count": 38,
   "id": "9b98341c-8fab-4cc2-86f9-55bf76e84504",
   "metadata": {},
   "outputs": [],
   "source": [
    "cumle=\"Welcome, readers.. I hope you find it interesting. Please call me please\".split()"
   ]
  },
  {
   "cell_type": "code",
   "execution_count": 39,
   "id": "0bee2417-09bc-49f9-991d-15424255a1d3",
   "metadata": {},
   "outputs": [
    {
     "data": {
      "text/plain": [
       "[('Welcome,', 'NNP'),\n",
       " ('readers..', 'NN'),\n",
       " ('I', 'PRP'),\n",
       " ('hope', 'VBP'),\n",
       " ('you', 'PRP'),\n",
       " ('find', 'VBP'),\n",
       " ('it', 'PRP'),\n",
       " ('interesting.', 'JJ'),\n",
       " ('Please', 'NNP'),\n",
       " ('call', 'VB'),\n",
       " ('me', 'PRP'),\n",
       " ('please', 'VB')]"
      ]
     },
     "execution_count": 39,
     "metadata": {},
     "output_type": "execute_result"
    }
   ],
   "source": [
    "nltk.pos_tag(cumle) #kelime türlerini bulma "
   ]
  },
  {
   "cell_type": "code",
   "execution_count": 40,
   "id": "385fa932-24a3-41d8-bb50-e8f06d015f1b",
   "metadata": {},
   "outputs": [],
   "source": [
    "#pip install autocorrect"
   ]
  },
  {
   "cell_type": "code",
   "execution_count": 41,
   "id": "9ee737ed-5661-46c2-9c10-9ead02a676b8",
   "metadata": {},
   "outputs": [],
   "source": [
    "from autocorrect import spell"
   ]
  },
  {
   "cell_type": "code",
   "execution_count": 42,
   "id": "ba44c323-83a9-4459-98a2-7f86fa1958f7",
   "metadata": {},
   "outputs": [
    {
     "name": "stdout",
     "output_type": "stream",
     "text": [
      "autocorrect.spell is deprecated,             use autocorrect.Speller instead\n"
     ]
    },
    {
     "data": {
      "text/plain": [
       "'the'"
      ]
     },
     "execution_count": 42,
     "metadata": {},
     "output_type": "execute_result"
    }
   ],
   "source": [
    "spell('thle')"
   ]
  },
  {
   "cell_type": "code",
   "execution_count": 43,
   "id": "a9ae7ef8-3141-46c7-9b45-0e1c8dc0be96",
   "metadata": {},
   "outputs": [],
   "source": [
    "#pip install textblob"
   ]
  },
  {
   "cell_type": "code",
   "execution_count": 44,
   "id": "a5a5e28d-663f-44bf-a011-7925aa5ac603",
   "metadata": {},
   "outputs": [],
   "source": [
    "from textblob import TextBlob"
   ]
  },
  {
   "cell_type": "code",
   "execution_count": 45,
   "id": "7c804923-2ec0-467c-bd38-4461acc614bb",
   "metadata": {},
   "outputs": [],
   "source": [
    "b=TextBlob('I havee hoad speling')"
   ]
  },
  {
   "cell_type": "code",
   "execution_count": 46,
   "id": "e8116eb3-95ae-428e-972f-4ab172e9bd60",
   "metadata": {},
   "outputs": [
    {
     "data": {
      "text/plain": [
       "TextBlob(\"I have had spelling\")"
      ]
     },
     "execution_count": 46,
     "metadata": {},
     "output_type": "execute_result"
    }
   ],
   "source": [
    "b.correct()"
   ]
  },
  {
   "cell_type": "code",
   "execution_count": 47,
   "id": "a5999692-71f9-450d-bcb8-3e3979a79527",
   "metadata": {},
   "outputs": [
    {
     "name": "stdout",
     "output_type": "stream",
     "text": [
      "Defaulting to user installation because normal site-packages is not writeable\n",
      "Requirement already satisfied: langdetect in c:\\users\\metehan\\appdata\\roaming\\python\\python312\\site-packages (1.0.9)\n",
      "Requirement already satisfied: six in c:\\programdata\\anaconda3\\lib\\site-packages (from langdetect) (1.16.0)\n",
      "Note: you may need to restart the kernel to use updated packages.\n"
     ]
    }
   ],
   "source": [
    "pip install langdetect"
   ]
  },
  {
   "cell_type": "code",
   "execution_count": 48,
   "id": "bfeab6e3-fc47-4dd5-9955-d998e63bfaa9",
   "metadata": {},
   "outputs": [],
   "source": [
    "from langdetect import detect"
   ]
  },
  {
   "cell_type": "code",
   "execution_count": 49,
   "id": "c79bed8d-1994-4d41-a08d-943212efd946",
   "metadata": {},
   "outputs": [],
   "source": [
    "d=detect"
   ]
  },
  {
   "cell_type": "code",
   "execution_count": 50,
   "id": "6744195c-c3fa-4eff-9df3-fd3b0b7ed767",
   "metadata": {},
   "outputs": [
    {
     "data": {
      "text/plain": [
       "'tr'"
      ]
     },
     "execution_count": 50,
     "metadata": {},
     "output_type": "execute_result"
    }
   ],
   "source": [
    "d('Döndü dönmedi')"
   ]
  },
  {
   "cell_type": "code",
   "execution_count": 51,
   "id": "527bc8de-55d9-49e4-ae4f-89c2a0e9165a",
   "metadata": {},
   "outputs": [
    {
     "data": {
      "text/plain": [
       "'en'"
      ]
     },
     "execution_count": 51,
     "metadata": {},
     "output_type": "execute_result"
    }
   ],
   "source": [
    "d('prechies')"
   ]
  },
  {
   "cell_type": "code",
   "execution_count": 52,
   "id": "1524300d-35c4-45b1-b3ec-da06f35ddb66",
   "metadata": {},
   "outputs": [],
   "source": [
    "b=TextBlob('I am a free blackman from Africa')"
   ]
  },
  {
   "cell_type": "code",
   "execution_count": 53,
   "id": "37e310f7-40b2-4a3b-aa3f-9c3176466a05",
   "metadata": {},
   "outputs": [],
   "source": [
    "#b.translate(from_lang='en',to='tr')"
   ]
  },
  {
   "cell_type": "code",
   "execution_count": 54,
   "id": "15225857-968e-498d-9e03-805e16b839f9",
   "metadata": {},
   "outputs": [],
   "source": [
    "# Proje Adımları"
   ]
  },
  {
   "cell_type": "markdown",
   "id": "706875d3-4e8d-4311-9432-c498730ed7d1",
   "metadata": {},
   "source": [
    "1- Datayı oku\n",
    "\n",
    "\n",
    "2- Her şeyi küçük harfe çevir (ascii tablosunda değerleri farklı çünkü)\n",
    "\n",
    "3- Noktalama işaretlerini kaldır (Punctuation)\n",
    "\n",
    "4- Rakamları kaldır\n",
    "\n",
    "5- Satır sonlarını kaldır\n",
    "\n",
    "6- Stop wordsleri kaldır(gereksiz kelimeler)\n",
    "\n",
    "7- Tokenize et\n",
    "\n",
    "8- Ekleri kaldırıp kökleri bul\n",
    "\n",
    "9- Vectorize et\n",
    "\n",
    "10- TF/IDF "
   ]
  },
  {
   "cell_type": "code",
   "execution_count": 56,
   "id": "419dff57-134c-43f6-8660-7d86d25b2830",
   "metadata": {},
   "outputs": [],
   "source": [
    "text= ['call you tonight', 'call me a cab','please call me... PLEASE']"
   ]
  },
  {
   "cell_type": "code",
   "execution_count": 57,
   "id": "e6c51939-e412-4945-9f20-4ee9ae32ea5d",
   "metadata": {},
   "outputs": [],
   "source": [
    "from sklearn.feature_extraction.text import CountVectorizer, TfidfVectorizer"
   ]
  },
  {
   "cell_type": "code",
   "execution_count": 58,
   "id": "e092fa2d-b47f-45f0-937a-ab24b156bb40",
   "metadata": {},
   "outputs": [],
   "source": [
    "vect=CountVectorizer() # bir cümlede kaç kelime var sayıyor"
   ]
  },
  {
   "cell_type": "code",
   "execution_count": 59,
   "id": "355fc3bb-d274-49a0-9f3f-b2ec21533ae8",
   "metadata": {},
   "outputs": [],
   "source": [
    "import pandas as pd"
   ]
  },
  {
   "cell_type": "code",
   "execution_count": 60,
   "id": "72dae141-cf8e-4ee1-a306-6b5d10a5be5b",
   "metadata": {},
   "outputs": [],
   "source": [
    "tf=pd.DataFrame(vect.fit_transform(text).toarray(),columns=vect.get_feature_names_out())"
   ]
  },
  {
   "cell_type": "code",
   "execution_count": 61,
   "id": "22461dc5-365d-47d0-8f3b-05ed10d9f3b2",
   "metadata": {},
   "outputs": [
    {
     "data": {
      "text/html": [
       "<div>\n",
       "<style scoped>\n",
       "    .dataframe tbody tr th:only-of-type {\n",
       "        vertical-align: middle;\n",
       "    }\n",
       "\n",
       "    .dataframe tbody tr th {\n",
       "        vertical-align: top;\n",
       "    }\n",
       "\n",
       "    .dataframe thead th {\n",
       "        text-align: right;\n",
       "    }\n",
       "</style>\n",
       "<table border=\"1\" class=\"dataframe\">\n",
       "  <thead>\n",
       "    <tr style=\"text-align: right;\">\n",
       "      <th></th>\n",
       "      <th>cab</th>\n",
       "      <th>call</th>\n",
       "      <th>me</th>\n",
       "      <th>please</th>\n",
       "      <th>tonight</th>\n",
       "      <th>you</th>\n",
       "    </tr>\n",
       "  </thead>\n",
       "  <tbody>\n",
       "    <tr>\n",
       "      <th>0</th>\n",
       "      <td>0</td>\n",
       "      <td>1</td>\n",
       "      <td>0</td>\n",
       "      <td>0</td>\n",
       "      <td>1</td>\n",
       "      <td>1</td>\n",
       "    </tr>\n",
       "    <tr>\n",
       "      <th>1</th>\n",
       "      <td>1</td>\n",
       "      <td>1</td>\n",
       "      <td>1</td>\n",
       "      <td>0</td>\n",
       "      <td>0</td>\n",
       "      <td>0</td>\n",
       "    </tr>\n",
       "    <tr>\n",
       "      <th>2</th>\n",
       "      <td>0</td>\n",
       "      <td>1</td>\n",
       "      <td>1</td>\n",
       "      <td>2</td>\n",
       "      <td>0</td>\n",
       "      <td>0</td>\n",
       "    </tr>\n",
       "  </tbody>\n",
       "</table>\n",
       "</div>"
      ],
      "text/plain": [
       "   cab  call  me  please  tonight  you\n",
       "0    0     1   0       0        1    1\n",
       "1    1     1   1       0        0    0\n",
       "2    0     1   1       2        0    0"
      ]
     },
     "execution_count": 61,
     "metadata": {},
     "output_type": "execute_result"
    }
   ],
   "source": [
    "tf"
   ]
  },
  {
   "cell_type": "code",
   "execution_count": 62,
   "id": "37411154-7bea-497f-9d2d-399357223a6f",
   "metadata": {},
   "outputs": [],
   "source": [
    "df=vect.fit_transform(text).toarray().sum(axis=0)"
   ]
  },
  {
   "cell_type": "code",
   "execution_count": 63,
   "id": "fe8b646a-a5f2-4e1f-9152-626ea85fdf24",
   "metadata": {},
   "outputs": [
    {
     "data": {
      "text/html": [
       "<div>\n",
       "<style scoped>\n",
       "    .dataframe tbody tr th:only-of-type {\n",
       "        vertical-align: middle;\n",
       "    }\n",
       "\n",
       "    .dataframe tbody tr th {\n",
       "        vertical-align: top;\n",
       "    }\n",
       "\n",
       "    .dataframe thead th {\n",
       "        text-align: right;\n",
       "    }\n",
       "</style>\n",
       "<table border=\"1\" class=\"dataframe\">\n",
       "  <thead>\n",
       "    <tr style=\"text-align: right;\">\n",
       "      <th></th>\n",
       "      <th>cab</th>\n",
       "      <th>call</th>\n",
       "      <th>me</th>\n",
       "      <th>please</th>\n",
       "      <th>tonight</th>\n",
       "      <th>you</th>\n",
       "    </tr>\n",
       "  </thead>\n",
       "  <tbody>\n",
       "    <tr>\n",
       "      <th>0</th>\n",
       "      <td>0.0</td>\n",
       "      <td>0.333333</td>\n",
       "      <td>0.0</td>\n",
       "      <td>0.0</td>\n",
       "      <td>1.0</td>\n",
       "      <td>1.0</td>\n",
       "    </tr>\n",
       "    <tr>\n",
       "      <th>1</th>\n",
       "      <td>1.0</td>\n",
       "      <td>0.333333</td>\n",
       "      <td>0.5</td>\n",
       "      <td>0.0</td>\n",
       "      <td>0.0</td>\n",
       "      <td>0.0</td>\n",
       "    </tr>\n",
       "    <tr>\n",
       "      <th>2</th>\n",
       "      <td>0.0</td>\n",
       "      <td>0.333333</td>\n",
       "      <td>0.5</td>\n",
       "      <td>1.0</td>\n",
       "      <td>0.0</td>\n",
       "      <td>0.0</td>\n",
       "    </tr>\n",
       "  </tbody>\n",
       "</table>\n",
       "</div>"
      ],
      "text/plain": [
       "   cab      call   me  please  tonight  you\n",
       "0  0.0  0.333333  0.0     0.0      1.0  1.0\n",
       "1  1.0  0.333333  0.5     0.0      0.0  0.0\n",
       "2  0.0  0.333333  0.5     1.0      0.0  0.0"
      ]
     },
     "execution_count": 63,
     "metadata": {},
     "output_type": "execute_result"
    }
   ],
   "source": [
    "tf/df"
   ]
  },
  {
   "cell_type": "code",
   "execution_count": 64,
   "id": "e2d4d341-143c-4412-a40d-15140a6f8fe0",
   "metadata": {},
   "outputs": [],
   "source": [
    "#Datayı Oku"
   ]
  },
  {
   "cell_type": "code",
   "execution_count": 65,
   "id": "a954d48f-baf1-4df1-b9a9-a9475bb70605",
   "metadata": {},
   "outputs": [],
   "source": [
    "df=pd.read_csv('yelp.csv')"
   ]
  },
  {
   "cell_type": "code",
   "execution_count": 66,
   "id": "3420943d-83ee-4c45-ba88-d0eab669614c",
   "metadata": {},
   "outputs": [
    {
     "data": {
      "text/html": [
       "<div>\n",
       "<style scoped>\n",
       "    .dataframe tbody tr th:only-of-type {\n",
       "        vertical-align: middle;\n",
       "    }\n",
       "\n",
       "    .dataframe tbody tr th {\n",
       "        vertical-align: top;\n",
       "    }\n",
       "\n",
       "    .dataframe thead th {\n",
       "        text-align: right;\n",
       "    }\n",
       "</style>\n",
       "<table border=\"1\" class=\"dataframe\">\n",
       "  <thead>\n",
       "    <tr style=\"text-align: right;\">\n",
       "      <th></th>\n",
       "      <th>business_id</th>\n",
       "      <th>date</th>\n",
       "      <th>review_id</th>\n",
       "      <th>stars</th>\n",
       "      <th>text</th>\n",
       "      <th>type</th>\n",
       "      <th>user_id</th>\n",
       "      <th>cool</th>\n",
       "      <th>useful</th>\n",
       "      <th>funny</th>\n",
       "    </tr>\n",
       "  </thead>\n",
       "  <tbody>\n",
       "    <tr>\n",
       "      <th>0</th>\n",
       "      <td>9yKzy9PApeiPPOUJEtnvkg</td>\n",
       "      <td>2011-01-26</td>\n",
       "      <td>fWKvX83p0-ka4JS3dc6E5A</td>\n",
       "      <td>5</td>\n",
       "      <td>My wife took me here on my birthday for breakf...</td>\n",
       "      <td>review</td>\n",
       "      <td>rLtl8ZkDX5vH5nAx9C3q5Q</td>\n",
       "      <td>2</td>\n",
       "      <td>5</td>\n",
       "      <td>0</td>\n",
       "    </tr>\n",
       "    <tr>\n",
       "      <th>1</th>\n",
       "      <td>ZRJwVLyzEJq1VAihDhYiow</td>\n",
       "      <td>2011-07-27</td>\n",
       "      <td>IjZ33sJrzXqU-0X6U8NwyA</td>\n",
       "      <td>5</td>\n",
       "      <td>I have no idea why some people give bad review...</td>\n",
       "      <td>review</td>\n",
       "      <td>0a2KyEL0d3Yb1V6aivbIuQ</td>\n",
       "      <td>0</td>\n",
       "      <td>0</td>\n",
       "      <td>0</td>\n",
       "    </tr>\n",
       "    <tr>\n",
       "      <th>2</th>\n",
       "      <td>6oRAC4uyJCsJl1X0WZpVSA</td>\n",
       "      <td>2012-06-14</td>\n",
       "      <td>IESLBzqUCLdSzSqm0eCSxQ</td>\n",
       "      <td>4</td>\n",
       "      <td>love the gyro plate. Rice is so good and I als...</td>\n",
       "      <td>review</td>\n",
       "      <td>0hT2KtfLiobPvh6cDC8JQg</td>\n",
       "      <td>0</td>\n",
       "      <td>1</td>\n",
       "      <td>0</td>\n",
       "    </tr>\n",
       "    <tr>\n",
       "      <th>3</th>\n",
       "      <td>_1QQZuf4zZOyFCvXc0o6Vg</td>\n",
       "      <td>2010-05-27</td>\n",
       "      <td>G-WvGaISbqqaMHlNnByodA</td>\n",
       "      <td>5</td>\n",
       "      <td>Rosie, Dakota, and I LOVE Chaparral Dog Park!!...</td>\n",
       "      <td>review</td>\n",
       "      <td>uZetl9T0NcROGOyFfughhg</td>\n",
       "      <td>1</td>\n",
       "      <td>2</td>\n",
       "      <td>0</td>\n",
       "    </tr>\n",
       "    <tr>\n",
       "      <th>4</th>\n",
       "      <td>6ozycU1RpktNG2-1BroVtw</td>\n",
       "      <td>2012-01-05</td>\n",
       "      <td>1uJFq2r5QfJG_6ExMRCaGw</td>\n",
       "      <td>5</td>\n",
       "      <td>General Manager Scott Petello is a good egg!!!...</td>\n",
       "      <td>review</td>\n",
       "      <td>vYmM4KTsC8ZfQBg-j5MWkw</td>\n",
       "      <td>0</td>\n",
       "      <td>0</td>\n",
       "      <td>0</td>\n",
       "    </tr>\n",
       "  </tbody>\n",
       "</table>\n",
       "</div>"
      ],
      "text/plain": [
       "              business_id        date               review_id  stars  \\\n",
       "0  9yKzy9PApeiPPOUJEtnvkg  2011-01-26  fWKvX83p0-ka4JS3dc6E5A      5   \n",
       "1  ZRJwVLyzEJq1VAihDhYiow  2011-07-27  IjZ33sJrzXqU-0X6U8NwyA      5   \n",
       "2  6oRAC4uyJCsJl1X0WZpVSA  2012-06-14  IESLBzqUCLdSzSqm0eCSxQ      4   \n",
       "3  _1QQZuf4zZOyFCvXc0o6Vg  2010-05-27  G-WvGaISbqqaMHlNnByodA      5   \n",
       "4  6ozycU1RpktNG2-1BroVtw  2012-01-05  1uJFq2r5QfJG_6ExMRCaGw      5   \n",
       "\n",
       "                                                text    type  \\\n",
       "0  My wife took me here on my birthday for breakf...  review   \n",
       "1  I have no idea why some people give bad review...  review   \n",
       "2  love the gyro plate. Rice is so good and I als...  review   \n",
       "3  Rosie, Dakota, and I LOVE Chaparral Dog Park!!...  review   \n",
       "4  General Manager Scott Petello is a good egg!!!...  review   \n",
       "\n",
       "                  user_id  cool  useful  funny  \n",
       "0  rLtl8ZkDX5vH5nAx9C3q5Q     2       5      0  \n",
       "1  0a2KyEL0d3Yb1V6aivbIuQ     0       0      0  \n",
       "2  0hT2KtfLiobPvh6cDC8JQg     0       1      0  \n",
       "3  uZetl9T0NcROGOyFfughhg     1       2      0  \n",
       "4  vYmM4KTsC8ZfQBg-j5MWkw     0       0      0  "
      ]
     },
     "execution_count": 66,
     "metadata": {},
     "output_type": "execute_result"
    }
   ],
   "source": [
    "df.head()"
   ]
  },
  {
   "cell_type": "code",
   "execution_count": 67,
   "id": "8dc7f562-4b2a-4153-8a3e-235d9156bc14",
   "metadata": {},
   "outputs": [],
   "source": [
    "#Küçük harfe çevir"
   ]
  },
  {
   "cell_type": "code",
   "execution_count": 68,
   "id": "620c11a2-8edd-414c-87fe-335a451ea8de",
   "metadata": {},
   "outputs": [],
   "source": [
    "df['text']=df['text'].str.lower()"
   ]
  },
  {
   "cell_type": "code",
   "execution_count": 69,
   "id": "26570e5c-d231-467c-8311-9deb44d2b9e4",
   "metadata": {},
   "outputs": [
    {
     "data": {
      "text/html": [
       "<div>\n",
       "<style scoped>\n",
       "    .dataframe tbody tr th:only-of-type {\n",
       "        vertical-align: middle;\n",
       "    }\n",
       "\n",
       "    .dataframe tbody tr th {\n",
       "        vertical-align: top;\n",
       "    }\n",
       "\n",
       "    .dataframe thead th {\n",
       "        text-align: right;\n",
       "    }\n",
       "</style>\n",
       "<table border=\"1\" class=\"dataframe\">\n",
       "  <thead>\n",
       "    <tr style=\"text-align: right;\">\n",
       "      <th></th>\n",
       "      <th>business_id</th>\n",
       "      <th>date</th>\n",
       "      <th>review_id</th>\n",
       "      <th>stars</th>\n",
       "      <th>text</th>\n",
       "      <th>type</th>\n",
       "      <th>user_id</th>\n",
       "      <th>cool</th>\n",
       "      <th>useful</th>\n",
       "      <th>funny</th>\n",
       "    </tr>\n",
       "  </thead>\n",
       "  <tbody>\n",
       "    <tr>\n",
       "      <th>0</th>\n",
       "      <td>9yKzy9PApeiPPOUJEtnvkg</td>\n",
       "      <td>2011-01-26</td>\n",
       "      <td>fWKvX83p0-ka4JS3dc6E5A</td>\n",
       "      <td>5</td>\n",
       "      <td>my wife took me here on my birthday for breakf...</td>\n",
       "      <td>review</td>\n",
       "      <td>rLtl8ZkDX5vH5nAx9C3q5Q</td>\n",
       "      <td>2</td>\n",
       "      <td>5</td>\n",
       "      <td>0</td>\n",
       "    </tr>\n",
       "    <tr>\n",
       "      <th>1</th>\n",
       "      <td>ZRJwVLyzEJq1VAihDhYiow</td>\n",
       "      <td>2011-07-27</td>\n",
       "      <td>IjZ33sJrzXqU-0X6U8NwyA</td>\n",
       "      <td>5</td>\n",
       "      <td>i have no idea why some people give bad review...</td>\n",
       "      <td>review</td>\n",
       "      <td>0a2KyEL0d3Yb1V6aivbIuQ</td>\n",
       "      <td>0</td>\n",
       "      <td>0</td>\n",
       "      <td>0</td>\n",
       "    </tr>\n",
       "    <tr>\n",
       "      <th>2</th>\n",
       "      <td>6oRAC4uyJCsJl1X0WZpVSA</td>\n",
       "      <td>2012-06-14</td>\n",
       "      <td>IESLBzqUCLdSzSqm0eCSxQ</td>\n",
       "      <td>4</td>\n",
       "      <td>love the gyro plate. rice is so good and i als...</td>\n",
       "      <td>review</td>\n",
       "      <td>0hT2KtfLiobPvh6cDC8JQg</td>\n",
       "      <td>0</td>\n",
       "      <td>1</td>\n",
       "      <td>0</td>\n",
       "    </tr>\n",
       "    <tr>\n",
       "      <th>3</th>\n",
       "      <td>_1QQZuf4zZOyFCvXc0o6Vg</td>\n",
       "      <td>2010-05-27</td>\n",
       "      <td>G-WvGaISbqqaMHlNnByodA</td>\n",
       "      <td>5</td>\n",
       "      <td>rosie, dakota, and i love chaparral dog park!!...</td>\n",
       "      <td>review</td>\n",
       "      <td>uZetl9T0NcROGOyFfughhg</td>\n",
       "      <td>1</td>\n",
       "      <td>2</td>\n",
       "      <td>0</td>\n",
       "    </tr>\n",
       "    <tr>\n",
       "      <th>4</th>\n",
       "      <td>6ozycU1RpktNG2-1BroVtw</td>\n",
       "      <td>2012-01-05</td>\n",
       "      <td>1uJFq2r5QfJG_6ExMRCaGw</td>\n",
       "      <td>5</td>\n",
       "      <td>general manager scott petello is a good egg!!!...</td>\n",
       "      <td>review</td>\n",
       "      <td>vYmM4KTsC8ZfQBg-j5MWkw</td>\n",
       "      <td>0</td>\n",
       "      <td>0</td>\n",
       "      <td>0</td>\n",
       "    </tr>\n",
       "  </tbody>\n",
       "</table>\n",
       "</div>"
      ],
      "text/plain": [
       "              business_id        date               review_id  stars  \\\n",
       "0  9yKzy9PApeiPPOUJEtnvkg  2011-01-26  fWKvX83p0-ka4JS3dc6E5A      5   \n",
       "1  ZRJwVLyzEJq1VAihDhYiow  2011-07-27  IjZ33sJrzXqU-0X6U8NwyA      5   \n",
       "2  6oRAC4uyJCsJl1X0WZpVSA  2012-06-14  IESLBzqUCLdSzSqm0eCSxQ      4   \n",
       "3  _1QQZuf4zZOyFCvXc0o6Vg  2010-05-27  G-WvGaISbqqaMHlNnByodA      5   \n",
       "4  6ozycU1RpktNG2-1BroVtw  2012-01-05  1uJFq2r5QfJG_6ExMRCaGw      5   \n",
       "\n",
       "                                                text    type  \\\n",
       "0  my wife took me here on my birthday for breakf...  review   \n",
       "1  i have no idea why some people give bad review...  review   \n",
       "2  love the gyro plate. rice is so good and i als...  review   \n",
       "3  rosie, dakota, and i love chaparral dog park!!...  review   \n",
       "4  general manager scott petello is a good egg!!!...  review   \n",
       "\n",
       "                  user_id  cool  useful  funny  \n",
       "0  rLtl8ZkDX5vH5nAx9C3q5Q     2       5      0  \n",
       "1  0a2KyEL0d3Yb1V6aivbIuQ     0       0      0  \n",
       "2  0hT2KtfLiobPvh6cDC8JQg     0       1      0  \n",
       "3  uZetl9T0NcROGOyFfughhg     1       2      0  \n",
       "4  vYmM4KTsC8ZfQBg-j5MWkw     0       0      0  "
      ]
     },
     "execution_count": 69,
     "metadata": {},
     "output_type": "execute_result"
    }
   ],
   "source": [
    "df.head()"
   ]
  },
  {
   "cell_type": "code",
   "execution_count": 70,
   "id": "4796079d-997a-409a-bd8a-80df3d16e779",
   "metadata": {},
   "outputs": [
    {
     "data": {
      "text/plain": [
       "(10000, 10)"
      ]
     },
     "execution_count": 70,
     "metadata": {},
     "output_type": "execute_result"
    }
   ],
   "source": [
    "df.shape"
   ]
  },
  {
   "cell_type": "code",
   "execution_count": 71,
   "id": "5ce1c450-04f3-40ee-8bb4-0d30647f8212",
   "metadata": {},
   "outputs": [],
   "source": [
    "#Noktalama işaretlerini kaldır"
   ]
  },
  {
   "cell_type": "code",
   "execution_count": 72,
   "id": "4135db54-260b-49e0-a950-34f626459d80",
   "metadata": {},
   "outputs": [
    {
     "name": "stderr",
     "output_type": "stream",
     "text": [
      "<>:1: SyntaxWarning: invalid escape sequence '\\w'\n",
      "<>:1: SyntaxWarning: invalid escape sequence '\\w'\n",
      "C:\\Users\\metehan\\AppData\\Local\\Temp\\ipykernel_11332\\3141220434.py:1: SyntaxWarning: invalid escape sequence '\\w'\n",
      "  df['text']=df['text'].str.replace('[^\\w\\s]','',regex=True)\n"
     ]
    }
   ],
   "source": [
    "df['text']=df['text'].str.replace('[^\\w\\s]','',regex=True) "
   ]
  },
  {
   "cell_type": "code",
   "execution_count": 73,
   "id": "94b517d7-6e36-4196-b583-4717737daec7",
   "metadata": {},
   "outputs": [
    {
     "name": "stderr",
     "output_type": "stream",
     "text": [
      "<>:1: SyntaxWarning: invalid escape sequence '\\d'\n",
      "<>:1: SyntaxWarning: invalid escape sequence '\\d'\n",
      "C:\\Users\\metehan\\AppData\\Local\\Temp\\ipykernel_11332\\3116688992.py:1: SyntaxWarning: invalid escape sequence '\\d'\n",
      "  df['text']=df['text'].str.replace('\\d+','',regex=True)\n"
     ]
    }
   ],
   "source": [
    "df['text']=df['text'].str.replace('\\d+','',regex=True) "
   ]
  },
  {
   "cell_type": "code",
   "execution_count": 74,
   "id": "19456d8c-dd9a-4c2e-88ed-6428698a4c53",
   "metadata": {},
   "outputs": [],
   "source": [
    "df['text']=df['text'].str.replace('\\n','',regex=True) "
   ]
  },
  {
   "cell_type": "code",
   "execution_count": 75,
   "id": "cb8b0b2a-084d-46b6-a4c7-c7c63292adac",
   "metadata": {},
   "outputs": [],
   "source": [
    "df['text']=df['text'].str.replace('\\r','',regex=True) "
   ]
  },
  {
   "cell_type": "code",
   "execution_count": 76,
   "id": "3faa4448-de63-436c-8dda-53f354055aaa",
   "metadata": {},
   "outputs": [
    {
     "data": {
      "text/plain": [
       "'my wife took me here on my birthday for breakfast and it was excellent  the weather was perfect which made sitting outside overlooking their grounds an absolute pleasure  our waitress was excellent and our food arrived quickly on the semibusy saturday morning  it looked like the place fills up pretty quickly so the earlier you get here the betterdo yourself a favor and get their bloody mary  it was phenomenal and simply the best ive ever had  im pretty sure they only use ingredients from their garden and blend them fresh when you order it  it was amazingwhile everything on the menu looks excellent i had the white truffle scrambled eggs vegetable skillet and it was tasty and delicious  it came with  pieces of their griddled bread with was amazing and it absolutely made the meal complete  it was the best toast ive ever hadanyway i cant wait to go back'"
      ]
     },
     "execution_count": 76,
     "metadata": {},
     "output_type": "execute_result"
    }
   ],
   "source": [
    "df['text'][0]"
   ]
  },
  {
   "cell_type": "markdown",
   "id": "558d22f9-f0e7-40d5-9383-3e00fd5ffa10",
   "metadata": {},
   "source": [
    "Sentiment Analysis"
   ]
  },
  {
   "cell_type": "code",
   "execution_count": 78,
   "id": "b1f88fb6-f171-4b33-a51c-8a6c63321b66",
   "metadata": {},
   "outputs": [],
   "source": [
    "ybw=df[(df.stars==1)|(df.stars==5)]"
   ]
  },
  {
   "cell_type": "code",
   "execution_count": 79,
   "id": "6861209f-809d-4cff-a2db-a0fbf2ee61f7",
   "metadata": {},
   "outputs": [
    {
     "data": {
      "text/html": [
       "<div>\n",
       "<style scoped>\n",
       "    .dataframe tbody tr th:only-of-type {\n",
       "        vertical-align: middle;\n",
       "    }\n",
       "\n",
       "    .dataframe tbody tr th {\n",
       "        vertical-align: top;\n",
       "    }\n",
       "\n",
       "    .dataframe thead th {\n",
       "        text-align: right;\n",
       "    }\n",
       "</style>\n",
       "<table border=\"1\" class=\"dataframe\">\n",
       "  <thead>\n",
       "    <tr style=\"text-align: right;\">\n",
       "      <th></th>\n",
       "      <th>business_id</th>\n",
       "      <th>date</th>\n",
       "      <th>review_id</th>\n",
       "      <th>stars</th>\n",
       "      <th>text</th>\n",
       "      <th>type</th>\n",
       "      <th>user_id</th>\n",
       "      <th>cool</th>\n",
       "      <th>useful</th>\n",
       "      <th>funny</th>\n",
       "    </tr>\n",
       "  </thead>\n",
       "  <tbody>\n",
       "    <tr>\n",
       "      <th>0</th>\n",
       "      <td>9yKzy9PApeiPPOUJEtnvkg</td>\n",
       "      <td>2011-01-26</td>\n",
       "      <td>fWKvX83p0-ka4JS3dc6E5A</td>\n",
       "      <td>5</td>\n",
       "      <td>my wife took me here on my birthday for breakf...</td>\n",
       "      <td>review</td>\n",
       "      <td>rLtl8ZkDX5vH5nAx9C3q5Q</td>\n",
       "      <td>2</td>\n",
       "      <td>5</td>\n",
       "      <td>0</td>\n",
       "    </tr>\n",
       "    <tr>\n",
       "      <th>1</th>\n",
       "      <td>ZRJwVLyzEJq1VAihDhYiow</td>\n",
       "      <td>2011-07-27</td>\n",
       "      <td>IjZ33sJrzXqU-0X6U8NwyA</td>\n",
       "      <td>5</td>\n",
       "      <td>i have no idea why some people give bad review...</td>\n",
       "      <td>review</td>\n",
       "      <td>0a2KyEL0d3Yb1V6aivbIuQ</td>\n",
       "      <td>0</td>\n",
       "      <td>0</td>\n",
       "      <td>0</td>\n",
       "    </tr>\n",
       "    <tr>\n",
       "      <th>3</th>\n",
       "      <td>_1QQZuf4zZOyFCvXc0o6Vg</td>\n",
       "      <td>2010-05-27</td>\n",
       "      <td>G-WvGaISbqqaMHlNnByodA</td>\n",
       "      <td>5</td>\n",
       "      <td>rosie dakota and i love chaparral dog park its...</td>\n",
       "      <td>review</td>\n",
       "      <td>uZetl9T0NcROGOyFfughhg</td>\n",
       "      <td>1</td>\n",
       "      <td>2</td>\n",
       "      <td>0</td>\n",
       "    </tr>\n",
       "    <tr>\n",
       "      <th>4</th>\n",
       "      <td>6ozycU1RpktNG2-1BroVtw</td>\n",
       "      <td>2012-01-05</td>\n",
       "      <td>1uJFq2r5QfJG_6ExMRCaGw</td>\n",
       "      <td>5</td>\n",
       "      <td>general manager scott petello is a good egg no...</td>\n",
       "      <td>review</td>\n",
       "      <td>vYmM4KTsC8ZfQBg-j5MWkw</td>\n",
       "      <td>0</td>\n",
       "      <td>0</td>\n",
       "      <td>0</td>\n",
       "    </tr>\n",
       "    <tr>\n",
       "      <th>6</th>\n",
       "      <td>zp713qNhx8d9KCJJnrw1xA</td>\n",
       "      <td>2010-02-12</td>\n",
       "      <td>riFQ3vxNpP4rWLk_CSri2A</td>\n",
       "      <td>5</td>\n",
       "      <td>drop what youre doing and drive here after i a...</td>\n",
       "      <td>review</td>\n",
       "      <td>wFweIWhv2fREZV_dYkz_1g</td>\n",
       "      <td>7</td>\n",
       "      <td>7</td>\n",
       "      <td>4</td>\n",
       "    </tr>\n",
       "  </tbody>\n",
       "</table>\n",
       "</div>"
      ],
      "text/plain": [
       "              business_id        date               review_id  stars  \\\n",
       "0  9yKzy9PApeiPPOUJEtnvkg  2011-01-26  fWKvX83p0-ka4JS3dc6E5A      5   \n",
       "1  ZRJwVLyzEJq1VAihDhYiow  2011-07-27  IjZ33sJrzXqU-0X6U8NwyA      5   \n",
       "3  _1QQZuf4zZOyFCvXc0o6Vg  2010-05-27  G-WvGaISbqqaMHlNnByodA      5   \n",
       "4  6ozycU1RpktNG2-1BroVtw  2012-01-05  1uJFq2r5QfJG_6ExMRCaGw      5   \n",
       "6  zp713qNhx8d9KCJJnrw1xA  2010-02-12  riFQ3vxNpP4rWLk_CSri2A      5   \n",
       "\n",
       "                                                text    type  \\\n",
       "0  my wife took me here on my birthday for breakf...  review   \n",
       "1  i have no idea why some people give bad review...  review   \n",
       "3  rosie dakota and i love chaparral dog park its...  review   \n",
       "4  general manager scott petello is a good egg no...  review   \n",
       "6  drop what youre doing and drive here after i a...  review   \n",
       "\n",
       "                  user_id  cool  useful  funny  \n",
       "0  rLtl8ZkDX5vH5nAx9C3q5Q     2       5      0  \n",
       "1  0a2KyEL0d3Yb1V6aivbIuQ     0       0      0  \n",
       "3  uZetl9T0NcROGOyFfughhg     1       2      0  \n",
       "4  vYmM4KTsC8ZfQBg-j5MWkw     0       0      0  \n",
       "6  wFweIWhv2fREZV_dYkz_1g     7       7      4  "
      ]
     },
     "execution_count": 79,
     "metadata": {},
     "output_type": "execute_result"
    }
   ],
   "source": [
    "ybw.head()"
   ]
  },
  {
   "cell_type": "code",
   "execution_count": 80,
   "id": "4990189e-390b-409f-8171-611385b45a09",
   "metadata": {},
   "outputs": [],
   "source": [
    "#index sırası bozuldu"
   ]
  },
  {
   "cell_type": "code",
   "execution_count": 81,
   "id": "7c486003-bd36-4396-b236-867f5ed1ef60",
   "metadata": {},
   "outputs": [],
   "source": [
    "ybw= ybw.reset_index(drop=True)"
   ]
  },
  {
   "cell_type": "code",
   "execution_count": 82,
   "id": "2dc6a08e-6ad8-4235-8c33-5420aedf6340",
   "metadata": {},
   "outputs": [
    {
     "data": {
      "text/html": [
       "<div>\n",
       "<style scoped>\n",
       "    .dataframe tbody tr th:only-of-type {\n",
       "        vertical-align: middle;\n",
       "    }\n",
       "\n",
       "    .dataframe tbody tr th {\n",
       "        vertical-align: top;\n",
       "    }\n",
       "\n",
       "    .dataframe thead th {\n",
       "        text-align: right;\n",
       "    }\n",
       "</style>\n",
       "<table border=\"1\" class=\"dataframe\">\n",
       "  <thead>\n",
       "    <tr style=\"text-align: right;\">\n",
       "      <th></th>\n",
       "      <th>business_id</th>\n",
       "      <th>date</th>\n",
       "      <th>review_id</th>\n",
       "      <th>stars</th>\n",
       "      <th>text</th>\n",
       "      <th>type</th>\n",
       "      <th>user_id</th>\n",
       "      <th>cool</th>\n",
       "      <th>useful</th>\n",
       "      <th>funny</th>\n",
       "    </tr>\n",
       "  </thead>\n",
       "  <tbody>\n",
       "    <tr>\n",
       "      <th>0</th>\n",
       "      <td>9yKzy9PApeiPPOUJEtnvkg</td>\n",
       "      <td>2011-01-26</td>\n",
       "      <td>fWKvX83p0-ka4JS3dc6E5A</td>\n",
       "      <td>5</td>\n",
       "      <td>my wife took me here on my birthday for breakf...</td>\n",
       "      <td>review</td>\n",
       "      <td>rLtl8ZkDX5vH5nAx9C3q5Q</td>\n",
       "      <td>2</td>\n",
       "      <td>5</td>\n",
       "      <td>0</td>\n",
       "    </tr>\n",
       "    <tr>\n",
       "      <th>1</th>\n",
       "      <td>ZRJwVLyzEJq1VAihDhYiow</td>\n",
       "      <td>2011-07-27</td>\n",
       "      <td>IjZ33sJrzXqU-0X6U8NwyA</td>\n",
       "      <td>5</td>\n",
       "      <td>i have no idea why some people give bad review...</td>\n",
       "      <td>review</td>\n",
       "      <td>0a2KyEL0d3Yb1V6aivbIuQ</td>\n",
       "      <td>0</td>\n",
       "      <td>0</td>\n",
       "      <td>0</td>\n",
       "    </tr>\n",
       "    <tr>\n",
       "      <th>2</th>\n",
       "      <td>_1QQZuf4zZOyFCvXc0o6Vg</td>\n",
       "      <td>2010-05-27</td>\n",
       "      <td>G-WvGaISbqqaMHlNnByodA</td>\n",
       "      <td>5</td>\n",
       "      <td>rosie dakota and i love chaparral dog park its...</td>\n",
       "      <td>review</td>\n",
       "      <td>uZetl9T0NcROGOyFfughhg</td>\n",
       "      <td>1</td>\n",
       "      <td>2</td>\n",
       "      <td>0</td>\n",
       "    </tr>\n",
       "    <tr>\n",
       "      <th>3</th>\n",
       "      <td>6ozycU1RpktNG2-1BroVtw</td>\n",
       "      <td>2012-01-05</td>\n",
       "      <td>1uJFq2r5QfJG_6ExMRCaGw</td>\n",
       "      <td>5</td>\n",
       "      <td>general manager scott petello is a good egg no...</td>\n",
       "      <td>review</td>\n",
       "      <td>vYmM4KTsC8ZfQBg-j5MWkw</td>\n",
       "      <td>0</td>\n",
       "      <td>0</td>\n",
       "      <td>0</td>\n",
       "    </tr>\n",
       "    <tr>\n",
       "      <th>4</th>\n",
       "      <td>zp713qNhx8d9KCJJnrw1xA</td>\n",
       "      <td>2010-02-12</td>\n",
       "      <td>riFQ3vxNpP4rWLk_CSri2A</td>\n",
       "      <td>5</td>\n",
       "      <td>drop what youre doing and drive here after i a...</td>\n",
       "      <td>review</td>\n",
       "      <td>wFweIWhv2fREZV_dYkz_1g</td>\n",
       "      <td>7</td>\n",
       "      <td>7</td>\n",
       "      <td>4</td>\n",
       "    </tr>\n",
       "  </tbody>\n",
       "</table>\n",
       "</div>"
      ],
      "text/plain": [
       "              business_id        date               review_id  stars  \\\n",
       "0  9yKzy9PApeiPPOUJEtnvkg  2011-01-26  fWKvX83p0-ka4JS3dc6E5A      5   \n",
       "1  ZRJwVLyzEJq1VAihDhYiow  2011-07-27  IjZ33sJrzXqU-0X6U8NwyA      5   \n",
       "2  _1QQZuf4zZOyFCvXc0o6Vg  2010-05-27  G-WvGaISbqqaMHlNnByodA      5   \n",
       "3  6ozycU1RpktNG2-1BroVtw  2012-01-05  1uJFq2r5QfJG_6ExMRCaGw      5   \n",
       "4  zp713qNhx8d9KCJJnrw1xA  2010-02-12  riFQ3vxNpP4rWLk_CSri2A      5   \n",
       "\n",
       "                                                text    type  \\\n",
       "0  my wife took me here on my birthday for breakf...  review   \n",
       "1  i have no idea why some people give bad review...  review   \n",
       "2  rosie dakota and i love chaparral dog park its...  review   \n",
       "3  general manager scott petello is a good egg no...  review   \n",
       "4  drop what youre doing and drive here after i a...  review   \n",
       "\n",
       "                  user_id  cool  useful  funny  \n",
       "0  rLtl8ZkDX5vH5nAx9C3q5Q     2       5      0  \n",
       "1  0a2KyEL0d3Yb1V6aivbIuQ     0       0      0  \n",
       "2  uZetl9T0NcROGOyFfughhg     1       2      0  \n",
       "3  vYmM4KTsC8ZfQBg-j5MWkw     0       0      0  \n",
       "4  wFweIWhv2fREZV_dYkz_1g     7       7      4  "
      ]
     },
     "execution_count": 82,
     "metadata": {},
     "output_type": "execute_result"
    }
   ],
   "source": [
    "ybw.head()"
   ]
  },
  {
   "cell_type": "code",
   "execution_count": 83,
   "id": "51f3f45b-09e9-4562-86e7-f941755f1abc",
   "metadata": {},
   "outputs": [],
   "source": [
    "x=ybw[['text']]\n",
    "y=ybw[['stars']]"
   ]
  },
  {
   "cell_type": "code",
   "execution_count": 84,
   "id": "2009a5b4-7c67-43e3-b182-43458acc1315",
   "metadata": {},
   "outputs": [],
   "source": [
    "from sklearn.model_selection import train_test_split\n",
    "from sklearn.naive_bayes import MultinomialNB"
   ]
  },
  {
   "cell_type": "code",
   "execution_count": 85,
   "id": "14163339-94d6-479e-a439-2727af49e0f7",
   "metadata": {},
   "outputs": [
    {
     "data": {
      "text/html": [
       "<div>\n",
       "<style scoped>\n",
       "    .dataframe tbody tr th:only-of-type {\n",
       "        vertical-align: middle;\n",
       "    }\n",
       "\n",
       "    .dataframe tbody tr th {\n",
       "        vertical-align: top;\n",
       "    }\n",
       "\n",
       "    .dataframe thead th {\n",
       "        text-align: right;\n",
       "    }\n",
       "</style>\n",
       "<table border=\"1\" class=\"dataframe\">\n",
       "  <thead>\n",
       "    <tr style=\"text-align: right;\">\n",
       "      <th></th>\n",
       "      <th>text</th>\n",
       "    </tr>\n",
       "  </thead>\n",
       "  <tbody>\n",
       "    <tr>\n",
       "      <th>0</th>\n",
       "      <td>my wife took me here on my birthday for breakf...</td>\n",
       "    </tr>\n",
       "    <tr>\n",
       "      <th>1</th>\n",
       "      <td>i have no idea why some people give bad review...</td>\n",
       "    </tr>\n",
       "    <tr>\n",
       "      <th>2</th>\n",
       "      <td>rosie dakota and i love chaparral dog park its...</td>\n",
       "    </tr>\n",
       "    <tr>\n",
       "      <th>3</th>\n",
       "      <td>general manager scott petello is a good egg no...</td>\n",
       "    </tr>\n",
       "    <tr>\n",
       "      <th>4</th>\n",
       "      <td>drop what youre doing and drive here after i a...</td>\n",
       "    </tr>\n",
       "  </tbody>\n",
       "</table>\n",
       "</div>"
      ],
      "text/plain": [
       "                                                text\n",
       "0  my wife took me here on my birthday for breakf...\n",
       "1  i have no idea why some people give bad review...\n",
       "2  rosie dakota and i love chaparral dog park its...\n",
       "3  general manager scott petello is a good egg no...\n",
       "4  drop what youre doing and drive here after i a..."
      ]
     },
     "execution_count": 85,
     "metadata": {},
     "output_type": "execute_result"
    }
   ],
   "source": [
    "x.head()"
   ]
  },
  {
   "cell_type": "code",
   "execution_count": 86,
   "id": "696711de-2143-4c41-a085-a2cce3f49924",
   "metadata": {},
   "outputs": [],
   "source": [
    "vect=CountVectorizer(stop_words='english',ngram_range=(1,2))"
   ]
  },
  {
   "cell_type": "code",
   "execution_count": 87,
   "id": "49ebdd55-8737-4e6d-ba83-9ec53a56274a",
   "metadata": {},
   "outputs": [],
   "source": [
    "xyeni=vect.fit_transform(x['text'])"
   ]
  },
  {
   "cell_type": "code",
   "execution_count": 88,
   "id": "74408145-4c18-4119-90aa-de60a1a92ef7",
   "metadata": {},
   "outputs": [],
   "source": [
    "x_train,x_test,y_train,y_test=train_test_split(xyeni,y,random_state=42,test_size=0.20)"
   ]
  },
  {
   "cell_type": "code",
   "execution_count": 89,
   "id": "e48fb2ac-437b-4e57-8be9-1513146298e9",
   "metadata": {},
   "outputs": [],
   "source": [
    "nb=MultinomialNB()"
   ]
  },
  {
   "cell_type": "code",
   "execution_count": 90,
   "id": "712e19c5-423f-4c55-83bd-b387b76e3241",
   "metadata": {},
   "outputs": [
    {
     "name": "stderr",
     "output_type": "stream",
     "text": [
      "C:\\ProgramData\\anaconda3\\Lib\\site-packages\\sklearn\\utils\\validation.py:1300: DataConversionWarning: A column-vector y was passed when a 1d array was expected. Please change the shape of y to (n_samples, ), for example using ravel().\n",
      "  y = column_or_1d(y, warn=True)\n"
     ]
    }
   ],
   "source": [
    "model=nb.fit(x_train,y_train)"
   ]
  },
  {
   "cell_type": "code",
   "execution_count": 91,
   "id": "7b57fce9-fb15-48bb-bf90-4ffb5d1820d0",
   "metadata": {},
   "outputs": [],
   "source": [
    "pred=model.predict(x_test)"
   ]
  },
  {
   "cell_type": "code",
   "execution_count": 92,
   "id": "b278afc0-c9a5-417a-adf5-0837146f9c29",
   "metadata": {},
   "outputs": [],
   "source": [
    "from sklearn.metrics import accuracy_score"
   ]
  },
  {
   "cell_type": "code",
   "execution_count": 93,
   "id": "008bae34-3eb2-479f-afa9-9f18040d4005",
   "metadata": {},
   "outputs": [
    {
     "data": {
      "text/plain": [
       "0.89119804400978"
      ]
     },
     "execution_count": 93,
     "metadata": {},
     "output_type": "execute_result"
    }
   ],
   "source": [
    "accuracy_score(y_test,pred)"
   ]
  },
  {
   "cell_type": "markdown",
   "id": "96067c69-511d-4707-adcd-0850870dea4e",
   "metadata": {},
   "source": [
    "### NLP with Neattext"
   ]
  },
  {
   "cell_type": "code",
   "execution_count": 95,
   "id": "1b026491-fd9d-4bec-8b4d-ea0aeb2efc2b",
   "metadata": {},
   "outputs": [],
   "source": [
    "#pip install neattext"
   ]
  },
  {
   "cell_type": "markdown",
   "id": "e28deafe-43a1-42c3-89d7-b0b8dc4b5ac6",
   "metadata": {},
   "source": [
    "Yukarıda uzunca yaptığımız her şeyi bu kısaca yapıyor.."
   ]
  },
  {
   "cell_type": "code",
   "execution_count": 97,
   "id": "83f32b3f-c73a-4cfe-bc8c-0c4be8e2e17a",
   "metadata": {},
   "outputs": [],
   "source": [
    "import neattext.functions as nfx"
   ]
  },
  {
   "cell_type": "code",
   "execution_count": 1,
   "id": "743c5534-23da-44da-8b62-70f874922249",
   "metadata": {},
   "outputs": [],
   "source": [
    "#dir(nfx) #özellikleri"
   ]
  },
  {
   "cell_type": "code",
   "execution_count": 5,
   "id": "92cfdf41-f819-4201-873f-b2537bdb9b2a",
   "metadata": {},
   "outputs": [],
   "source": [
    "#df['text'].tolist()"
   ]
  },
  {
   "cell_type": "code",
   "execution_count": 100,
   "id": "4aeae3cb-f82c-43cc-9db6-f5ec06af8d7f",
   "metadata": {},
   "outputs": [],
   "source": [
    "#normalize her şeyi yapıyor.."
   ]
  },
  {
   "cell_type": "code",
   "execution_count": 101,
   "id": "8c963200-8575-4dfe-aa3b-5b704597d493",
   "metadata": {},
   "outputs": [],
   "source": [
    "s=' '.join(df['text'].tolist())"
   ]
  },
  {
   "cell_type": "code",
   "execution_count": 102,
   "id": "5aab883b-0250-452b-8da2-382f29bd87f7",
   "metadata": {},
   "outputs": [],
   "source": [
    "from collections import Counter"
   ]
  },
  {
   "cell_type": "code",
   "execution_count": 2,
   "id": "076ba527-2618-4af5-bba7-0dc76db910c5",
   "metadata": {},
   "outputs": [],
   "source": [
    "#Counter(s.split())   #Her kelimenin frekansını bulur."
   ]
  },
  {
   "cell_type": "markdown",
   "id": "08a09860-9bfb-47cb-b8ef-2d424c6bfbd5",
   "metadata": {},
   "source": [
    "Counter({'the': 65095,\n",
    "         'and': 43457,\n",
    "         'a': 35868,\n",
    "         'i': 34648,\n",
    "         'to': 30083,\n",
    "         'of': 20856,\n",
    "         'was': 19970,\n",
    "         'is': 17237,\n",
    "         'it': 16606,\n",
    "         'for': 15155,\n",
    "         'in': 14655,\n",
    "         'that': 11792,\n",
    "         'my': 10943,\n",
    "         'with': 10741,\n",
    "         'but': 10442,\n",
    "         'you': 10116,\n",
    "         'this': 10004,\n",
    "         'on': 9208,\n",
    "         'they': 9122,\n",
    "         'have': 8696,\n",
    "         'we': 8411,\n",
    "         'not': 7510,\n",
    "         'had': 7210,\n",
    "         'are': 7044,\n",
    "         'place': 6544,\n",
    "         'good': 6507,\n",
    "         'at': 6499,\n",
    "         'so': 6409,\n",
    "         'were': 6091,\n",
    "         .\n",
    "         .\n",
    "         ."
   ]
  },
  {
   "cell_type": "code",
   "execution_count": 104,
   "id": "0ba9a599-ba19-47cc-ab94-717531a8d707",
   "metadata": {},
   "outputs": [],
   "source": [
    "#bastakiler stopwords"
   ]
  },
  {
   "cell_type": "code",
   "execution_count": 105,
   "id": "803b5828-2963-4d80-85f4-bad493f0fd56",
   "metadata": {},
   "outputs": [],
   "source": [
    "s2=nfx.remove_stopwords(s)"
   ]
  },
  {
   "cell_type": "code",
   "execution_count": 5,
   "id": "212619f5-0502-4804-ae17-d8cb2d016b9a",
   "metadata": {},
   "outputs": [],
   "source": [
    "#Counter(s2.split())"
   ]
  },
  {
   "cell_type": "markdown",
   "id": "66c42db4-4993-4360-b5ac-bf6e71e49b40",
   "metadata": {},
   "source": [
    "Counter({'place': 6544,\n",
    "         'good': 6507,\n",
    "         'food': 5930,\n",
    "         'great': 4945,\n",
    "         'like': 4934,\n",
    "         'time': 3371,\n",
    "         'service': 2969,\n",
    "         'dont': 2566,\n",
    "         'love': 2212,\n",
    "         'little': 2212,\n",
    "         'im': 2179,\n",
    "         'nice': 2156,\n",
    "         'ive': 2034,\n",
    "         'best': 1914,\n",
    "         'got': 1823,\n",
    "         'pretty': 1796,\n",
    "         'ordered': 1689,\n",
    "         'chicken': 1686,\n",
    "         'try': 1678,\n",
    "         'restaurant': 1659,\n",
    "         'didnt': 1641,\n",
    "         'people': 1622,\n",
    "         'menu': 1614,\n",
    "         'know': 1576,\n",
    "         'order': 1546,\n",
    "         'think': 1541,\n",
    "         'bar': 1505,\n",
    "         'better': 1488,\n",
    "         'went': 1485,\n",
    "         'friendly': 1447,\n",
    "         'staff': 1442,\n",
    "         'way': 1431,\n",
    "         'night': 1424,\n",
    "         'going': 1415,\n",
    "         'right': 1324,\n",
    "         'cheese': 1308,\n",
    "         'pizza': 1304,\n",
    "         'came': 1301,\n",
    "         'want': 1281,\n",
    "         'delicious': 1259,\n",
    "         'salad': 1227,\n",
    "         'come': 1226,\n",
    "         'lunch': 1218,\n",
    "         'new': 1211,\n",
    "         'fresh': 1168,\n",
    "         'sauce': 1165,\n",
    "         'eat': 1135,\n",
    "         'sure': 1125,\n",
    "         'day': 1125,\n",
    "         'definitely': 1121,\n",
    "         'experience': 1101,\n",
    "         'happy': 1099,\n",
    "         'cant': 1098,\n",
    "         'wait': 1088,\n",
    "         'times': 1062,\n",
    "         'find': 1056,\n",
    "         'bit': 1050,\n",
    "         'said': 1028,\n",
    "         'area': 1017,\n",
    "         'amazing': 1008,\n",
    "         'table': 995,\n",
    "         'meal': 990,"
   ]
  },
  {
   "cell_type": "code",
   "execution_count": 107,
   "id": "fabe1086-61cf-450e-9ac8-e1d68033dfd2",
   "metadata": {},
   "outputs": [],
   "source": [
    "# en çok tekrar eden kelimeleri görselleştirelim"
   ]
  },
  {
   "cell_type": "code",
   "execution_count": 108,
   "id": "fd4fc22f-9925-454c-aafa-4af6d200b891",
   "metadata": {},
   "outputs": [],
   "source": [
    "data=Counter(s2.split()).most_common(30)"
   ]
  },
  {
   "cell_type": "code",
   "execution_count": 109,
   "id": "4e453877-91be-4f39-9a3a-d9ad0f630e47",
   "metadata": {},
   "outputs": [],
   "source": [
    "data=dict(data)"
   ]
  },
  {
   "cell_type": "code",
   "execution_count": 110,
   "id": "cf2be048-2b4f-4010-ba95-ac16174bc00f",
   "metadata": {},
   "outputs": [
    {
     "data": {
      "text/plain": [
       "{'place': 6544,\n",
       " 'good': 6507,\n",
       " 'food': 5930,\n",
       " 'great': 4945,\n",
       " 'like': 4934,\n",
       " 'time': 3371,\n",
       " 'service': 2969,\n",
       " 'dont': 2566,\n",
       " 'love': 2212,\n",
       " 'little': 2212,\n",
       " 'im': 2179,\n",
       " 'nice': 2156,\n",
       " 'ive': 2034,\n",
       " 'best': 1914,\n",
       " 'got': 1823,\n",
       " 'pretty': 1796,\n",
       " 'ordered': 1689,\n",
       " 'chicken': 1686,\n",
       " 'try': 1678,\n",
       " 'restaurant': 1659,\n",
       " 'didnt': 1641,\n",
       " 'people': 1622,\n",
       " 'menu': 1614,\n",
       " 'know': 1576,\n",
       " 'order': 1546,\n",
       " 'think': 1541,\n",
       " 'bar': 1505,\n",
       " 'better': 1488,\n",
       " 'went': 1485,\n",
       " 'friendly': 1447}"
      ]
     },
     "execution_count": 110,
     "metadata": {},
     "output_type": "execute_result"
    }
   ],
   "source": [
    "data"
   ]
  },
  {
   "cell_type": "code",
   "execution_count": 111,
   "id": "4c671791-3736-491f-85e6-00ac6c5e3e0a",
   "metadata": {},
   "outputs": [],
   "source": [
    "import matplotlib.pyplot as plt"
   ]
  },
  {
   "cell_type": "code",
   "execution_count": 112,
   "id": "65e1d2f1-a52e-49a3-a861-b006997cd1e3",
   "metadata": {},
   "outputs": [
    {
     "data": {
      "image/png": "[encoded data removed]",
      "text/plain": [
       "<Figure size 1200x800 with 1 Axes>"
      ]
     },
     "metadata": {},
     "output_type": "display_data"
    }
   ],
   "source": [
    "plt.figure(figsize=(12,8))\n",
    "plt.bar(data.keys(),data.values())\n",
    "plt.xticks(rotation=90);"
   ]
  },
  {
   "cell_type": "code",
   "execution_count": 113,
   "id": "fa4f4a2c-53f0-4ad4-ab6c-e40acd0a2e3a",
   "metadata": {},
   "outputs": [],
   "source": [
    "import seaborn as sns"
   ]
  },
  {
   "cell_type": "code",
   "execution_count": 114,
   "id": "acced6b6-8f2d-468e-a68a-3cabc06a7841",
   "metadata": {},
   "outputs": [
    {
     "data": {
      "image/png": "[encoded data removed]",
      "text/plain": [
       "<Figure size 1200x800 with 1 Axes>"
      ]
     },
     "metadata": {},
     "output_type": "display_data"
    }
   ],
   "source": [
    "plt.figure(figsize=(12,8))\n",
    "sns.barplot(x=data.keys(),y=data.values(),hue=data.keys())\n",
    "plt.xticks(rotation=90);"
   ]
  },
  {
   "cell_type": "code",
   "execution_count": 115,
   "id": "eae7ca69-1935-4e39-a1a4-9d67335e72aa",
   "metadata": {},
   "outputs": [],
   "source": [
    "df['text']=df['text'].apply(lambda x: nfx.clean_text(x))"
   ]
  },
  {
   "cell_type": "code",
   "execution_count": 116,
   "id": "bca7bf8f-2795-4336-a946-282e6dfee319",
   "metadata": {},
   "outputs": [],
   "source": [
    "df['text']=df['text'].apply(lambda x: nfx.normalize(x))"
   ]
  },
  {
   "cell_type": "code",
   "execution_count": 117,
   "id": "afb4d195-21ff-405f-96e7-319de84197a8",
   "metadata": {},
   "outputs": [
    {
     "data": {
      "text/plain": [
       "'wife took birthday breakfast excellent weather perfect sitting outside overlooking grounds absolute pleasure waitress excellent food arrived quickly semibusy saturday morning looked like place fills pretty quickly earlier betterdo favor bloody mary phenomenal simply best ive im pretty sure use ingredients garden blend fresh order amazingwhile menu looks excellent white truffle scrambled eggs vegetable skillet tasty delicious came pieces griddled bread amazing absolutely meal complete best toast ive hadanyway cant wait'"
      ]
     },
     "execution_count": 117,
     "metadata": {},
     "output_type": "execute_result"
    }
   ],
   "source": [
    "df['text'][0]"
   ]
  },
  {
   "cell_type": "code",
   "execution_count": 118,
   "id": "8e19407b-b097-4e51-951c-492d42bf2496",
   "metadata": {},
   "outputs": [],
   "source": [
    "def kokbul(text):\n",
    "    words=TextBlob(text).words\n",
    "    return [word.stem() for word in words]"
   ]
  },
  {
   "cell_type": "code",
   "execution_count": 119,
   "id": "6e672bfb-2d39-443c-a2f8-5a6f7c9d2ac5",
   "metadata": {},
   "outputs": [],
   "source": [
    "#nltk.download('wordnet')  "
   ]
  },
  {
   "cell_type": "code",
   "execution_count": 120,
   "id": "2da23e9c-ed73-4c1f-a6cf-fc6766017218",
   "metadata": {},
   "outputs": [],
   "source": [
    "#df['text']=df['text'].apply(lambda x: kokbul(x))"
   ]
  },
  {
   "cell_type": "code",
   "execution_count": 121,
   "id": "f1455afe-b071-4ef8-b2d6-ffcb68a30fa3",
   "metadata": {},
   "outputs": [],
   "source": [
    "df['text']=df['text'].apply(lambda x: nfx.remove_stopwords(x))"
   ]
  },
  {
   "cell_type": "code",
   "execution_count": 122,
   "id": "1866b904-db6a-4ad7-af26-970bb92d70a2",
   "metadata": {},
   "outputs": [],
   "source": [
    "ybw=df[(df.stars==1)|(df.stars==5)]"
   ]
  },
  {
   "cell_type": "code",
   "execution_count": 123,
   "id": "f5ce4e16-1088-49e3-a72e-06797734dd68",
   "metadata": {},
   "outputs": [],
   "source": [
    "ybw= ybw.reset_index(drop=True)"
   ]
  },
  {
   "cell_type": "code",
   "execution_count": 124,
   "id": "5aab1691-b65a-4782-9bb4-cefa9231238b",
   "metadata": {},
   "outputs": [],
   "source": [
    "x=ybw[['text']]\n",
    "y=ybw[['stars']]"
   ]
  },
  {
   "cell_type": "code",
   "execution_count": 125,
   "id": "1ff50f5d-9fdd-4ce6-823b-5bf92d32e8c4",
   "metadata": {},
   "outputs": [],
   "source": [
    "x_train,x_test,y_train,y_test=train_test_split(xyeni,y,random_state=42,test_size=0.20)"
   ]
  },
  {
   "cell_type": "code",
   "execution_count": 126,
   "id": "c0e236f7-95dd-4289-b345-45d4546c0943",
   "metadata": {},
   "outputs": [],
   "source": [
    "vect=CountVectorizer(analyzer=kokbul,ngram_range=(1,2))"
   ]
  },
  {
   "cell_type": "code",
   "execution_count": 127,
   "id": "70297141-3bb2-41a1-86b3-7fb909c66698",
   "metadata": {},
   "outputs": [
    {
     "name": "stderr",
     "output_type": "stream",
     "text": [
      "C:\\ProgramData\\anaconda3\\Lib\\site-packages\\sklearn\\feature_extraction\\text.py:541: UserWarning: The parameter 'ngram_range' will not be used since 'analyzer' is callable'\n",
      "  warnings.warn(\n"
     ]
    }
   ],
   "source": [
    "xyeni=vect.fit_transform(x['text'])"
   ]
  },
  {
   "cell_type": "code",
   "execution_count": 128,
   "id": "91eaba51-f82f-4abb-b954-5a8e77c02153",
   "metadata": {},
   "outputs": [
    {
     "data": {
      "text/plain": [
       "array(['zankou', 'zappo', 'zen', 'zenlik', 'zenroad', 'zero', 'zerobut',\n",
       "       'zerostar', 'zest', 'zesti', 'zexperi', 'zgrill', 'zha', 'zhou',\n",
       "       'zia', 'zichini', 'zilch', 'zillion', 'zin', 'zinburg',\n",
       "       'zinburgergeist', 'zinc', 'zinfandel', 'zing', 'zip', 'zipcar',\n",
       "       'ziploc', 'zipp', 'zipper', 'ziti', 'zoe', 'zombi', 'zombiesth',\n",
       "       'zone', 'zoner', 'zoo', 'zoom', 'zoyo', 'zucca', 'zucchini',\n",
       "       'zucchiniw', 'zuccini', 'zuchinni', 'zumba', 'zupa', 'zuzu',\n",
       "       'zwiebelkräut', 'éclair', 'école', 'ém'], dtype=object)"
      ]
     },
     "execution_count": 128,
     "metadata": {},
     "output_type": "execute_result"
    }
   ],
   "source": [
    "vect.get_feature_names_out()[-50:]"
   ]
  },
  {
   "cell_type": "code",
   "execution_count": 129,
   "id": "ee33cfe7-fa77-4fe2-b154-e938b54a851e",
   "metadata": {},
   "outputs": [],
   "source": [
    "x_train,x_test,y_train,y_test=train_test_split(xyeni,y,random_state=42,test_size=0.20)"
   ]
  },
  {
   "cell_type": "code",
   "execution_count": 130,
   "id": "5aec5d3c-289f-4f05-b77d-4c706209b3f3",
   "metadata": {},
   "outputs": [],
   "source": [
    "nb=MultinomialNB()"
   ]
  },
  {
   "cell_type": "code",
   "execution_count": 131,
   "id": "e1ac286d-4701-4f50-a6b3-f1fac7ea30ff",
   "metadata": {},
   "outputs": [
    {
     "name": "stderr",
     "output_type": "stream",
     "text": [
      "C:\\ProgramData\\anaconda3\\Lib\\site-packages\\sklearn\\utils\\validation.py:1300: DataConversionWarning: A column-vector y was passed when a 1d array was expected. Please change the shape of y to (n_samples, ), for example using ravel().\n",
      "  y = column_or_1d(y, warn=True)\n"
     ]
    }
   ],
   "source": [
    "model=nb.fit(x_train,y_train)"
   ]
  },
  {
   "cell_type": "code",
   "execution_count": 132,
   "id": "bb987a57-3fbf-4c00-995b-72a627257e2d",
   "metadata": {},
   "outputs": [],
   "source": [
    "pred=model.predict(x_test)"
   ]
  },
  {
   "cell_type": "code",
   "execution_count": 133,
   "id": "da22a7b4-db5f-4cf5-96c3-1ea0930abd97",
   "metadata": {},
   "outputs": [
    {
     "data": {
      "text/plain": [
       "0.8973105134474327"
      ]
     },
     "execution_count": 133,
     "metadata": {},
     "output_type": "execute_result"
    }
   ],
   "source": [
    "accuracy_score(y_test,pred)"
   ]
  },
  {
   "cell_type": "markdown",
   "id": "01c721bc-5721-4d18-ab24-529592bfa8c4",
   "metadata": {},
   "source": [
    "## Twitterdan Veri Çekme ve Temizleme"
   ]
  },
  {
   "cell_type": "code",
   "execution_count": 225,
   "id": "13dafde7-6ad4-45e9-9227-1f2ad643a50d",
   "metadata": {},
   "outputs": [],
   "source": [
    "#pip install ntscraper"
   ]
  },
  {
   "cell_type": "code",
   "execution_count": 141,
   "id": "70597d5c-242e-41f3-9105-4a65f5a4eb2b",
   "metadata": {},
   "outputs": [],
   "source": [
    "from ntscraper import Nitter"
   ]
  },
  {
   "cell_type": "code",
   "execution_count": 143,
   "id": "e5167b9d-5706-439d-b24d-d4977bd86ef8",
   "metadata": {},
   "outputs": [
    {
     "name": "stderr",
     "output_type": "stream",
     "text": [
      "Testing instances: 100%|███████████████████████████████████████████████████████████████| 77/77 [01:23<00:00,  1.08s/it]\n"
     ]
    }
   ],
   "source": [
    "ts=Nitter()"
   ]
  },
  {
   "cell_type": "code",
   "execution_count": 155,
   "id": "f0cf62b8-ea80-43df-97f7-6c7f01e8ef31",
   "metadata": {},
   "outputs": [],
   "source": [
    "import pandas as pd"
   ]
  },
  {
   "cell_type": "code",
   "execution_count": 181,
   "id": "1e32ff04-cdd4-4c86-8c86-0b3c7b4093ec",
   "metadata": {},
   "outputs": [
    {
     "name": "stderr",
     "output_type": "stream",
     "text": [
      "Testing instances: 100%|███████████████████████████████████████████████████████████████| 77/77 [01:13<00:00,  1.04it/s]"
     ]
    },
    {
     "name": "stdout",
     "output_type": "stream",
     "text": [
      "11-Aug-24 13:46:59 - No instance specified, using random instance https://nitter.privacydev.net\n"
     ]
    },
    {
     "name": "stderr",
     "output_type": "stream",
     "text": [
      "\n"
     ]
    },
    {
     "name": "stdout",
     "output_type": "stream",
     "text": [
      "11-Aug-24 13:47:04 - Current stats for fatihaltayli: 14 tweets, 0 threads...\n",
      "11-Aug-24 13:47:05 - Empty page on https://nitter.privacydev.net\n"
     ]
    }
   ],
   "source": [
    "tweets=Nitter().get_tweets('fatihaltayli',mode='user',number=50)"
   ]
  },
  {
   "cell_type": "code",
   "execution_count": 209,
   "id": "8e663ac6-e438-492e-b5a0-377bcd51d00e",
   "metadata": {},
   "outputs": [],
   "source": [
    "df=pd.DataFrame(tweets['tweets'])"
   ]
  },
  {
   "cell_type": "code",
   "execution_count": 185,
   "id": "899ed9af-c64d-4345-b98d-a7f4853f1b4f",
   "metadata": {},
   "outputs": [
    {
     "data": {
      "text/html": [
       "<div>\n",
       "<style scoped>\n",
       "    .dataframe tbody tr th:only-of-type {\n",
       "        vertical-align: middle;\n",
       "    }\n",
       "\n",
       "    .dataframe tbody tr th {\n",
       "        vertical-align: top;\n",
       "    }\n",
       "\n",
       "    .dataframe thead th {\n",
       "        text-align: right;\n",
       "    }\n",
       "</style>\n",
       "<table border=\"1\" class=\"dataframe\">\n",
       "  <thead>\n",
       "    <tr style=\"text-align: right;\">\n",
       "      <th></th>\n",
       "      <th>link</th>\n",
       "      <th>text</th>\n",
       "      <th>user</th>\n",
       "      <th>date</th>\n",
       "      <th>is-retweet</th>\n",
       "      <th>is-pinned</th>\n",
       "      <th>external-link</th>\n",
       "      <th>replying-to</th>\n",
       "      <th>quoted-post</th>\n",
       "      <th>stats</th>\n",
       "      <th>pictures</th>\n",
       "      <th>videos</th>\n",
       "      <th>gifs</th>\n",
       "    </tr>\n",
       "  </thead>\n",
       "  <tbody>\n",
       "    <tr>\n",
       "      <th>0</th>\n",
       "      <td>https://twitter.com/bugradt/status/18225434172...</td>\n",
       "      <td>Kaan ile uyuma saatinde @jeandpardaillan ve @f...</td>\n",
       "      <td>{'name': 'Buğra D.', 'username': '@bugradt', '...</td>\n",
       "      <td>Aug 11, 2024 · 7:59 AM UTC</td>\n",
       "      <td>True</td>\n",
       "      <td>False</td>\n",
       "      <td></td>\n",
       "      <td>[]</td>\n",
       "      <td>{}</td>\n",
       "      <td>{'comments': 3, 'retweets': 3, 'quotes': 0, 'l...</td>\n",
       "      <td>[]</td>\n",
       "      <td>[]</td>\n",
       "      <td>[]</td>\n",
       "    </tr>\n",
       "    <tr>\n",
       "      <th>1</th>\n",
       "      <td>https://twitter.com/ozersozers/status/18223761...</td>\n",
       "      <td>saklasalar oluyor mu?</td>\n",
       "      <td>{'name': 'Ozer SARACOGLU', 'username': '@ozers...</td>\n",
       "      <td>Aug 10, 2024 · 8:55 PM UTC</td>\n",
       "      <td>True</td>\n",
       "      <td>False</td>\n",
       "      <td></td>\n",
       "      <td>[]</td>\n",
       "      <td>{'link': 'https://twitter.com/gusholderhaber/s...</td>\n",
       "      <td>{'comments': 49, 'retweets': 31, 'quotes': 0, ...</td>\n",
       "      <td>[]</td>\n",
       "      <td>[]</td>\n",
       "      <td>[]</td>\n",
       "    </tr>\n",
       "    <tr>\n",
       "      <th>2</th>\n",
       "      <td>https://twitter.com/fatihaltayli/status/182235...</td>\n",
       "      <td>Ve basketbol finali.  Amerika Fransa ya karşı....</td>\n",
       "      <td>{'name': 'Fatih Altayli 🔴🇹🇷', 'username': '@fa...</td>\n",
       "      <td>Aug 10, 2024 · 7:20 PM UTC</td>\n",
       "      <td>False</td>\n",
       "      <td>False</td>\n",
       "      <td></td>\n",
       "      <td>[]</td>\n",
       "      <td>{}</td>\n",
       "      <td>{'comments': 69, 'retweets': 11, 'quotes': 3, ...</td>\n",
       "      <td>[]</td>\n",
       "      <td>[https://video.twimg.com/amplify_video/1822351...</td>\n",
       "      <td>[]</td>\n",
       "    </tr>\n",
       "    <tr>\n",
       "      <th>3</th>\n",
       "      <td>https://twitter.com/fatihaltayli/status/182219...</td>\n",
       "      <td>Küresel iklim değişikliği on milyonlarca Pakis...</td>\n",
       "      <td>{'name': 'Fatih Altayli 🔴🇹🇷', 'username': '@fa...</td>\n",
       "      <td>Aug 10, 2024 · 8:53 AM UTC</td>\n",
       "      <td>False</td>\n",
       "      <td>False</td>\n",
       "      <td></td>\n",
       "      <td>[]</td>\n",
       "      <td>{}</td>\n",
       "      <td>{'comments': 47, 'retweets': 45, 'quotes': 2, ...</td>\n",
       "      <td>[]</td>\n",
       "      <td>[]</td>\n",
       "      <td>[]</td>\n",
       "    </tr>\n",
       "    <tr>\n",
       "      <th>4</th>\n",
       "      <td>https://twitter.com/fatihaltayli/status/182218...</td>\n",
       "      <td>Tarihin akışını değiştiren saat! / Prof. Dr. E...</td>\n",
       "      <td>{'name': 'Fatih Altayli 🔴🇹🇷', 'username': '@fa...</td>\n",
       "      <td>Aug 10, 2024 · 8:32 AM UTC</td>\n",
       "      <td>False</td>\n",
       "      <td>False</td>\n",
       "      <td></td>\n",
       "      <td>[]</td>\n",
       "      <td>{}</td>\n",
       "      <td>{'comments': 28, 'retweets': 26, 'quotes': 3, ...</td>\n",
       "      <td>[]</td>\n",
       "      <td>[]</td>\n",
       "      <td>[]</td>\n",
       "    </tr>\n",
       "  </tbody>\n",
       "</table>\n",
       "</div>"
      ],
      "text/plain": [
       "                                                link  \\\n",
       "0  https://twitter.com/bugradt/status/18225434172...   \n",
       "1  https://twitter.com/ozersozers/status/18223761...   \n",
       "2  https://twitter.com/fatihaltayli/status/182235...   \n",
       "3  https://twitter.com/fatihaltayli/status/182219...   \n",
       "4  https://twitter.com/fatihaltayli/status/182218...   \n",
       "\n",
       "                                                text  \\\n",
       "0  Kaan ile uyuma saatinde @jeandpardaillan ve @f...   \n",
       "1                              saklasalar oluyor mu?   \n",
       "2  Ve basketbol finali.  Amerika Fransa ya karşı....   \n",
       "3  Küresel iklim değişikliği on milyonlarca Pakis...   \n",
       "4  Tarihin akışını değiştiren saat! / Prof. Dr. E...   \n",
       "\n",
       "                                                user  \\\n",
       "0  {'name': 'Buğra D.', 'username': '@bugradt', '...   \n",
       "1  {'name': 'Ozer SARACOGLU', 'username': '@ozers...   \n",
       "2  {'name': 'Fatih Altayli 🔴🇹🇷', 'username': '@fa...   \n",
       "3  {'name': 'Fatih Altayli 🔴🇹🇷', 'username': '@fa...   \n",
       "4  {'name': 'Fatih Altayli 🔴🇹🇷', 'username': '@fa...   \n",
       "\n",
       "                         date  is-retweet  is-pinned external-link  \\\n",
       "0  Aug 11, 2024 · 7:59 AM UTC        True      False                 \n",
       "1  Aug 10, 2024 · 8:55 PM UTC        True      False                 \n",
       "2  Aug 10, 2024 · 7:20 PM UTC       False      False                 \n",
       "3  Aug 10, 2024 · 8:53 AM UTC       False      False                 \n",
       "4  Aug 10, 2024 · 8:32 AM UTC       False      False                 \n",
       "\n",
       "  replying-to                                        quoted-post  \\\n",
       "0          []                                                 {}   \n",
       "1          []  {'link': 'https://twitter.com/gusholderhaber/s...   \n",
       "2          []                                                 {}   \n",
       "3          []                                                 {}   \n",
       "4          []                                                 {}   \n",
       "\n",
       "                                               stats pictures  \\\n",
       "0  {'comments': 3, 'retweets': 3, 'quotes': 0, 'l...       []   \n",
       "1  {'comments': 49, 'retweets': 31, 'quotes': 0, ...       []   \n",
       "2  {'comments': 69, 'retweets': 11, 'quotes': 3, ...       []   \n",
       "3  {'comments': 47, 'retweets': 45, 'quotes': 2, ...       []   \n",
       "4  {'comments': 28, 'retweets': 26, 'quotes': 3, ...       []   \n",
       "\n",
       "                                              videos gifs  \n",
       "0                                                 []   []  \n",
       "1                                                 []   []  \n",
       "2  [https://video.twimg.com/amplify_video/1822351...   []  \n",
       "3                                                 []   []  \n",
       "4                                                 []   []  "
      ]
     },
     "execution_count": 185,
     "metadata": {},
     "output_type": "execute_result"
    }
   ],
   "source": [
    "df.head()"
   ]
  },
  {
   "cell_type": "code",
   "execution_count": 187,
   "id": "47b1be20-ed1a-40bd-a6db-cf9aab382c8d",
   "metadata": {},
   "outputs": [],
   "source": [
    "df['name']=df['user'].apply(lambda x: x['name'])\n",
    "df['username']=df['user'].apply(lambda x: x['username'])\n",
    "df['avatar']=df['user'].apply(lambda x: x['avatar'])"
   ]
  },
  {
   "cell_type": "code",
   "execution_count": 189,
   "id": "56537f3a-b179-4b06-8975-e789cb506fac",
   "metadata": {},
   "outputs": [
    {
     "data": {
      "text/html": [
       "<div>\n",
       "<style scoped>\n",
       "    .dataframe tbody tr th:only-of-type {\n",
       "        vertical-align: middle;\n",
       "    }\n",
       "\n",
       "    .dataframe tbody tr th {\n",
       "        vertical-align: top;\n",
       "    }\n",
       "\n",
       "    .dataframe thead th {\n",
       "        text-align: right;\n",
       "    }\n",
       "</style>\n",
       "<table border=\"1\" class=\"dataframe\">\n",
       "  <thead>\n",
       "    <tr style=\"text-align: right;\">\n",
       "      <th></th>\n",
       "      <th>link</th>\n",
       "      <th>text</th>\n",
       "      <th>user</th>\n",
       "      <th>date</th>\n",
       "      <th>is-retweet</th>\n",
       "      <th>is-pinned</th>\n",
       "      <th>external-link</th>\n",
       "      <th>replying-to</th>\n",
       "      <th>quoted-post</th>\n",
       "      <th>stats</th>\n",
       "      <th>pictures</th>\n",
       "      <th>videos</th>\n",
       "      <th>gifs</th>\n",
       "      <th>name</th>\n",
       "      <th>username</th>\n",
       "      <th>avatar</th>\n",
       "    </tr>\n",
       "  </thead>\n",
       "  <tbody>\n",
       "    <tr>\n",
       "      <th>0</th>\n",
       "      <td>https://twitter.com/bugradt/status/18225434172...</td>\n",
       "      <td>Kaan ile uyuma saatinde @jeandpardaillan ve @f...</td>\n",
       "      <td>{'name': 'Buğra D.', 'username': '@bugradt', '...</td>\n",
       "      <td>Aug 11, 2024 · 7:59 AM UTC</td>\n",
       "      <td>True</td>\n",
       "      <td>False</td>\n",
       "      <td></td>\n",
       "      <td>[]</td>\n",
       "      <td>{}</td>\n",
       "      <td>{'comments': 3, 'retweets': 3, 'quotes': 0, 'l...</td>\n",
       "      <td>[]</td>\n",
       "      <td>[]</td>\n",
       "      <td>[]</td>\n",
       "      <td>Buğra D.</td>\n",
       "      <td>@bugradt</td>\n",
       "      <td>https://pbs.twimg.com/profile_images/119544548...</td>\n",
       "    </tr>\n",
       "    <tr>\n",
       "      <th>1</th>\n",
       "      <td>https://twitter.com/ozersozers/status/18223761...</td>\n",
       "      <td>saklasalar oluyor mu?</td>\n",
       "      <td>{'name': 'Ozer SARACOGLU', 'username': '@ozers...</td>\n",
       "      <td>Aug 10, 2024 · 8:55 PM UTC</td>\n",
       "      <td>True</td>\n",
       "      <td>False</td>\n",
       "      <td></td>\n",
       "      <td>[]</td>\n",
       "      <td>{'link': 'https://twitter.com/gusholderhaber/s...</td>\n",
       "      <td>{'comments': 49, 'retweets': 31, 'quotes': 0, ...</td>\n",
       "      <td>[]</td>\n",
       "      <td>[]</td>\n",
       "      <td>[]</td>\n",
       "      <td>Ozer SARACOGLU</td>\n",
       "      <td>@ozersozers</td>\n",
       "      <td>https://pbs.twimg.com/profile_images/884516772...</td>\n",
       "    </tr>\n",
       "    <tr>\n",
       "      <th>2</th>\n",
       "      <td>https://twitter.com/fatihaltayli/status/182235...</td>\n",
       "      <td>Ve basketbol finali.  Amerika Fransa ya karşı....</td>\n",
       "      <td>{'name': 'Fatih Altayli 🔴🇹🇷', 'username': '@fa...</td>\n",
       "      <td>Aug 10, 2024 · 7:20 PM UTC</td>\n",
       "      <td>False</td>\n",
       "      <td>False</td>\n",
       "      <td></td>\n",
       "      <td>[]</td>\n",
       "      <td>{}</td>\n",
       "      <td>{'comments': 69, 'retweets': 11, 'quotes': 3, ...</td>\n",
       "      <td>[]</td>\n",
       "      <td>[https://video.twimg.com/amplify_video/1822351...</td>\n",
       "      <td>[]</td>\n",
       "      <td>Fatih Altayli 🔴🇹🇷</td>\n",
       "      <td>@fatihaltayli</td>\n",
       "      <td>https://pbs.twimg.com/profile_images/177187351...</td>\n",
       "    </tr>\n",
       "    <tr>\n",
       "      <th>3</th>\n",
       "      <td>https://twitter.com/fatihaltayli/status/182219...</td>\n",
       "      <td>Küresel iklim değişikliği on milyonlarca Pakis...</td>\n",
       "      <td>{'name': 'Fatih Altayli 🔴🇹🇷', 'username': '@fa...</td>\n",
       "      <td>Aug 10, 2024 · 8:53 AM UTC</td>\n",
       "      <td>False</td>\n",
       "      <td>False</td>\n",
       "      <td></td>\n",
       "      <td>[]</td>\n",
       "      <td>{}</td>\n",
       "      <td>{'comments': 47, 'retweets': 45, 'quotes': 2, ...</td>\n",
       "      <td>[]</td>\n",
       "      <td>[]</td>\n",
       "      <td>[]</td>\n",
       "      <td>Fatih Altayli 🔴🇹🇷</td>\n",
       "      <td>@fatihaltayli</td>\n",
       "      <td>https://pbs.twimg.com/profile_images/177187351...</td>\n",
       "    </tr>\n",
       "    <tr>\n",
       "      <th>4</th>\n",
       "      <td>https://twitter.com/fatihaltayli/status/182218...</td>\n",
       "      <td>Tarihin akışını değiştiren saat! / Prof. Dr. E...</td>\n",
       "      <td>{'name': 'Fatih Altayli 🔴🇹🇷', 'username': '@fa...</td>\n",
       "      <td>Aug 10, 2024 · 8:32 AM UTC</td>\n",
       "      <td>False</td>\n",
       "      <td>False</td>\n",
       "      <td></td>\n",
       "      <td>[]</td>\n",
       "      <td>{}</td>\n",
       "      <td>{'comments': 28, 'retweets': 26, 'quotes': 3, ...</td>\n",
       "      <td>[]</td>\n",
       "      <td>[]</td>\n",
       "      <td>[]</td>\n",
       "      <td>Fatih Altayli 🔴🇹🇷</td>\n",
       "      <td>@fatihaltayli</td>\n",
       "      <td>https://pbs.twimg.com/profile_images/177187351...</td>\n",
       "    </tr>\n",
       "  </tbody>\n",
       "</table>\n",
       "</div>"
      ],
      "text/plain": [
       "                                                link  \\\n",
       "0  https://twitter.com/bugradt/status/18225434172...   \n",
       "1  https://twitter.com/ozersozers/status/18223761...   \n",
       "2  https://twitter.com/fatihaltayli/status/182235...   \n",
       "3  https://twitter.com/fatihaltayli/status/182219...   \n",
       "4  https://twitter.com/fatihaltayli/status/182218...   \n",
       "\n",
       "                                                text  \\\n",
       "0  Kaan ile uyuma saatinde @jeandpardaillan ve @f...   \n",
       "1                              saklasalar oluyor mu?   \n",
       "2  Ve basketbol finali.  Amerika Fransa ya karşı....   \n",
       "3  Küresel iklim değişikliği on milyonlarca Pakis...   \n",
       "4  Tarihin akışını değiştiren saat! / Prof. Dr. E...   \n",
       "\n",
       "                                                user  \\\n",
       "0  {'name': 'Buğra D.', 'username': '@bugradt', '...   \n",
       "1  {'name': 'Ozer SARACOGLU', 'username': '@ozers...   \n",
       "2  {'name': 'Fatih Altayli 🔴🇹🇷', 'username': '@fa...   \n",
       "3  {'name': 'Fatih Altayli 🔴🇹🇷', 'username': '@fa...   \n",
       "4  {'name': 'Fatih Altayli 🔴🇹🇷', 'username': '@fa...   \n",
       "\n",
       "                         date  is-retweet  is-pinned external-link  \\\n",
       "0  Aug 11, 2024 · 7:59 AM UTC        True      False                 \n",
       "1  Aug 10, 2024 · 8:55 PM UTC        True      False                 \n",
       "2  Aug 10, 2024 · 7:20 PM UTC       False      False                 \n",
       "3  Aug 10, 2024 · 8:53 AM UTC       False      False                 \n",
       "4  Aug 10, 2024 · 8:32 AM UTC       False      False                 \n",
       "\n",
       "  replying-to                                        quoted-post  \\\n",
       "0          []                                                 {}   \n",
       "1          []  {'link': 'https://twitter.com/gusholderhaber/s...   \n",
       "2          []                                                 {}   \n",
       "3          []                                                 {}   \n",
       "4          []                                                 {}   \n",
       "\n",
       "                                               stats pictures  \\\n",
       "0  {'comments': 3, 'retweets': 3, 'quotes': 0, 'l...       []   \n",
       "1  {'comments': 49, 'retweets': 31, 'quotes': 0, ...       []   \n",
       "2  {'comments': 69, 'retweets': 11, 'quotes': 3, ...       []   \n",
       "3  {'comments': 47, 'retweets': 45, 'quotes': 2, ...       []   \n",
       "4  {'comments': 28, 'retweets': 26, 'quotes': 3, ...       []   \n",
       "\n",
       "                                              videos gifs               name  \\\n",
       "0                                                 []   []           Buğra D.   \n",
       "1                                                 []   []     Ozer SARACOGLU   \n",
       "2  [https://video.twimg.com/amplify_video/1822351...   []  Fatih Altayli 🔴🇹🇷   \n",
       "3                                                 []   []  Fatih Altayli 🔴🇹🇷   \n",
       "4                                                 []   []  Fatih Altayli 🔴🇹🇷   \n",
       "\n",
       "        username                                             avatar  \n",
       "0       @bugradt  https://pbs.twimg.com/profile_images/119544548...  \n",
       "1    @ozersozers  https://pbs.twimg.com/profile_images/884516772...  \n",
       "2  @fatihaltayli  https://pbs.twimg.com/profile_images/177187351...  \n",
       "3  @fatihaltayli  https://pbs.twimg.com/profile_images/177187351...  \n",
       "4  @fatihaltayli  https://pbs.twimg.com/profile_images/177187351...  "
      ]
     },
     "execution_count": 189,
     "metadata": {},
     "output_type": "execute_result"
    }
   ],
   "source": [
    "df.head()"
   ]
  },
  {
   "cell_type": "code",
   "execution_count": 191,
   "id": "df445a1c-3eb2-4dc9-80e7-21ba152f439f",
   "metadata": {},
   "outputs": [],
   "source": [
    "df['comment']=df['stats'].apply(lambda x: x['comments'])\n",
    "df['likes']=df['stats'].apply(lambda x: x['likes'])"
   ]
  },
  {
   "cell_type": "code",
   "execution_count": 193,
   "id": "a3693dca-14bc-4307-aa41-73657fe52b41",
   "metadata": {},
   "outputs": [
    {
     "data": {
      "text/html": [
       "<div>\n",
       "<style scoped>\n",
       "    .dataframe tbody tr th:only-of-type {\n",
       "        vertical-align: middle;\n",
       "    }\n",
       "\n",
       "    .dataframe tbody tr th {\n",
       "        vertical-align: top;\n",
       "    }\n",
       "\n",
       "    .dataframe thead th {\n",
       "        text-align: right;\n",
       "    }\n",
       "</style>\n",
       "<table border=\"1\" class=\"dataframe\">\n",
       "  <thead>\n",
       "    <tr style=\"text-align: right;\">\n",
       "      <th></th>\n",
       "      <th>link</th>\n",
       "      <th>text</th>\n",
       "      <th>user</th>\n",
       "      <th>date</th>\n",
       "      <th>is-retweet</th>\n",
       "      <th>is-pinned</th>\n",
       "      <th>external-link</th>\n",
       "      <th>replying-to</th>\n",
       "      <th>quoted-post</th>\n",
       "      <th>stats</th>\n",
       "      <th>pictures</th>\n",
       "      <th>videos</th>\n",
       "      <th>gifs</th>\n",
       "      <th>name</th>\n",
       "      <th>username</th>\n",
       "      <th>avatar</th>\n",
       "      <th>comment</th>\n",
       "      <th>likes</th>\n",
       "    </tr>\n",
       "  </thead>\n",
       "  <tbody>\n",
       "    <tr>\n",
       "      <th>0</th>\n",
       "      <td>https://twitter.com/bugradt/status/18225434172...</td>\n",
       "      <td>Kaan ile uyuma saatinde @jeandpardaillan ve @f...</td>\n",
       "      <td>{'name': 'Buğra D.', 'username': '@bugradt', '...</td>\n",
       "      <td>Aug 11, 2024 · 7:59 AM UTC</td>\n",
       "      <td>True</td>\n",
       "      <td>False</td>\n",
       "      <td></td>\n",
       "      <td>[]</td>\n",
       "      <td>{}</td>\n",
       "      <td>{'comments': 3, 'retweets': 3, 'quotes': 0, 'l...</td>\n",
       "      <td>[]</td>\n",
       "      <td>[]</td>\n",
       "      <td>[]</td>\n",
       "      <td>Buğra D.</td>\n",
       "      <td>@bugradt</td>\n",
       "      <td>https://pbs.twimg.com/profile_images/119544548...</td>\n",
       "      <td>3</td>\n",
       "      <td>70</td>\n",
       "    </tr>\n",
       "    <tr>\n",
       "      <th>1</th>\n",
       "      <td>https://twitter.com/ozersozers/status/18223761...</td>\n",
       "      <td>saklasalar oluyor mu?</td>\n",
       "      <td>{'name': 'Ozer SARACOGLU', 'username': '@ozers...</td>\n",
       "      <td>Aug 10, 2024 · 8:55 PM UTC</td>\n",
       "      <td>True</td>\n",
       "      <td>False</td>\n",
       "      <td></td>\n",
       "      <td>[]</td>\n",
       "      <td>{'link': 'https://twitter.com/gusholderhaber/s...</td>\n",
       "      <td>{'comments': 49, 'retweets': 31, 'quotes': 0, ...</td>\n",
       "      <td>[]</td>\n",
       "      <td>[]</td>\n",
       "      <td>[]</td>\n",
       "      <td>Ozer SARACOGLU</td>\n",
       "      <td>@ozersozers</td>\n",
       "      <td>https://pbs.twimg.com/profile_images/884516772...</td>\n",
       "      <td>49</td>\n",
       "      <td>430</td>\n",
       "    </tr>\n",
       "    <tr>\n",
       "      <th>2</th>\n",
       "      <td>https://twitter.com/fatihaltayli/status/182235...</td>\n",
       "      <td>Ve basketbol finali.  Amerika Fransa ya karşı....</td>\n",
       "      <td>{'name': 'Fatih Altayli 🔴🇹🇷', 'username': '@fa...</td>\n",
       "      <td>Aug 10, 2024 · 7:20 PM UTC</td>\n",
       "      <td>False</td>\n",
       "      <td>False</td>\n",
       "      <td></td>\n",
       "      <td>[]</td>\n",
       "      <td>{}</td>\n",
       "      <td>{'comments': 69, 'retweets': 11, 'quotes': 3, ...</td>\n",
       "      <td>[]</td>\n",
       "      <td>[https://video.twimg.com/amplify_video/1822351...</td>\n",
       "      <td>[]</td>\n",
       "      <td>Fatih Altayli 🔴🇹🇷</td>\n",
       "      <td>@fatihaltayli</td>\n",
       "      <td>https://pbs.twimg.com/profile_images/177187351...</td>\n",
       "      <td>69</td>\n",
       "      <td>611</td>\n",
       "    </tr>\n",
       "    <tr>\n",
       "      <th>3</th>\n",
       "      <td>https://twitter.com/fatihaltayli/status/182219...</td>\n",
       "      <td>Küresel iklim değişikliği on milyonlarca Pakis...</td>\n",
       "      <td>{'name': 'Fatih Altayli 🔴🇹🇷', 'username': '@fa...</td>\n",
       "      <td>Aug 10, 2024 · 8:53 AM UTC</td>\n",
       "      <td>False</td>\n",
       "      <td>False</td>\n",
       "      <td></td>\n",
       "      <td>[]</td>\n",
       "      <td>{}</td>\n",
       "      <td>{'comments': 47, 'retweets': 45, 'quotes': 2, ...</td>\n",
       "      <td>[]</td>\n",
       "      <td>[]</td>\n",
       "      <td>[]</td>\n",
       "      <td>Fatih Altayli 🔴🇹🇷</td>\n",
       "      <td>@fatihaltayli</td>\n",
       "      <td>https://pbs.twimg.com/profile_images/177187351...</td>\n",
       "      <td>47</td>\n",
       "      <td>366</td>\n",
       "    </tr>\n",
       "    <tr>\n",
       "      <th>4</th>\n",
       "      <td>https://twitter.com/fatihaltayli/status/182218...</td>\n",
       "      <td>Tarihin akışını değiştiren saat! / Prof. Dr. E...</td>\n",
       "      <td>{'name': 'Fatih Altayli 🔴🇹🇷', 'username': '@fa...</td>\n",
       "      <td>Aug 10, 2024 · 8:32 AM UTC</td>\n",
       "      <td>False</td>\n",
       "      <td>False</td>\n",
       "      <td></td>\n",
       "      <td>[]</td>\n",
       "      <td>{}</td>\n",
       "      <td>{'comments': 28, 'retweets': 26, 'quotes': 3, ...</td>\n",
       "      <td>[]</td>\n",
       "      <td>[]</td>\n",
       "      <td>[]</td>\n",
       "      <td>Fatih Altayli 🔴🇹🇷</td>\n",
       "      <td>@fatihaltayli</td>\n",
       "      <td>https://pbs.twimg.com/profile_images/177187351...</td>\n",
       "      <td>28</td>\n",
       "      <td>335</td>\n",
       "    </tr>\n",
       "  </tbody>\n",
       "</table>\n",
       "</div>"
      ],
      "text/plain": [
       "                                                link  \\\n",
       "0  https://twitter.com/bugradt/status/18225434172...   \n",
       "1  https://twitter.com/ozersozers/status/18223761...   \n",
       "2  https://twitter.com/fatihaltayli/status/182235...   \n",
       "3  https://twitter.com/fatihaltayli/status/182219...   \n",
       "4  https://twitter.com/fatihaltayli/status/182218...   \n",
       "\n",
       "                                                text  \\\n",
       "0  Kaan ile uyuma saatinde @jeandpardaillan ve @f...   \n",
       "1                              saklasalar oluyor mu?   \n",
       "2  Ve basketbol finali.  Amerika Fransa ya karşı....   \n",
       "3  Küresel iklim değişikliği on milyonlarca Pakis...   \n",
       "4  Tarihin akışını değiştiren saat! / Prof. Dr. E...   \n",
       "\n",
       "                                                user  \\\n",
       "0  {'name': 'Buğra D.', 'username': '@bugradt', '...   \n",
       "1  {'name': 'Ozer SARACOGLU', 'username': '@ozers...   \n",
       "2  {'name': 'Fatih Altayli 🔴🇹🇷', 'username': '@fa...   \n",
       "3  {'name': 'Fatih Altayli 🔴🇹🇷', 'username': '@fa...   \n",
       "4  {'name': 'Fatih Altayli 🔴🇹🇷', 'username': '@fa...   \n",
       "\n",
       "                         date  is-retweet  is-pinned external-link  \\\n",
       "0  Aug 11, 2024 · 7:59 AM UTC        True      False                 \n",
       "1  Aug 10, 2024 · 8:55 PM UTC        True      False                 \n",
       "2  Aug 10, 2024 · 7:20 PM UTC       False      False                 \n",
       "3  Aug 10, 2024 · 8:53 AM UTC       False      False                 \n",
       "4  Aug 10, 2024 · 8:32 AM UTC       False      False                 \n",
       "\n",
       "  replying-to                                        quoted-post  \\\n",
       "0          []                                                 {}   \n",
       "1          []  {'link': 'https://twitter.com/gusholderhaber/s...   \n",
       "2          []                                                 {}   \n",
       "3          []                                                 {}   \n",
       "4          []                                                 {}   \n",
       "\n",
       "                                               stats pictures  \\\n",
       "0  {'comments': 3, 'retweets': 3, 'quotes': 0, 'l...       []   \n",
       "1  {'comments': 49, 'retweets': 31, 'quotes': 0, ...       []   \n",
       "2  {'comments': 69, 'retweets': 11, 'quotes': 3, ...       []   \n",
       "3  {'comments': 47, 'retweets': 45, 'quotes': 2, ...       []   \n",
       "4  {'comments': 28, 'retweets': 26, 'quotes': 3, ...       []   \n",
       "\n",
       "                                              videos gifs               name  \\\n",
       "0                                                 []   []           Buğra D.   \n",
       "1                                                 []   []     Ozer SARACOGLU   \n",
       "2  [https://video.twimg.com/amplify_video/1822351...   []  Fatih Altayli 🔴🇹🇷   \n",
       "3                                                 []   []  Fatih Altayli 🔴🇹🇷   \n",
       "4                                                 []   []  Fatih Altayli 🔴🇹🇷   \n",
       "\n",
       "        username                                             avatar  comment  \\\n",
       "0       @bugradt  https://pbs.twimg.com/profile_images/119544548...        3   \n",
       "1    @ozersozers  https://pbs.twimg.com/profile_images/884516772...       49   \n",
       "2  @fatihaltayli  https://pbs.twimg.com/profile_images/177187351...       69   \n",
       "3  @fatihaltayli  https://pbs.twimg.com/profile_images/177187351...       47   \n",
       "4  @fatihaltayli  https://pbs.twimg.com/profile_images/177187351...       28   \n",
       "\n",
       "   likes  \n",
       "0     70  \n",
       "1    430  \n",
       "2    611  \n",
       "3    366  \n",
       "4    335  "
      ]
     },
     "execution_count": 193,
     "metadata": {},
     "output_type": "execute_result"
    }
   ],
   "source": [
    "df.head()"
   ]
  },
  {
   "cell_type": "code",
   "execution_count": 195,
   "id": "30aa91e7-a269-46a3-adff-2bdba74d773b",
   "metadata": {},
   "outputs": [],
   "source": [
    "#snscrape : sosyal medyadan veri çekme"
   ]
  },
  {
   "cell_type": "code",
   "execution_count": 197,
   "id": "6b82cce4-4215-49a5-bf5c-5ba75d1af776",
   "metadata": {},
   "outputs": [
    {
     "data": {
      "text/plain": [
       "'Kaan ile uyuma saatinde @jeandpardaillan ve @fatihaltayli izliyoruz ☺️ Emrah hocanın hızlı konuşmasından ötürü çocukta uyku kalmadı 😁 Oğlum benim yaşıma geldiğinde de umarım izleyebileceği ve faydalanabileceği böyle insanlar olur.'"
      ]
     },
     "execution_count": 197,
     "metadata": {},
     "output_type": "execute_result"
    }
   ],
   "source": [
    "df['text'][0]"
   ]
  },
  {
   "cell_type": "code",
   "execution_count": 199,
   "id": "bb81ba09-3b9f-405d-bb80-7eefca536a76",
   "metadata": {},
   "outputs": [],
   "source": [
    "df['text']=df['text'].apply(nfx.remove_hashtags)"
   ]
  },
  {
   "cell_type": "code",
   "execution_count": 201,
   "id": "ea4a9e46-3ecb-4bbe-9993-d5333c487578",
   "metadata": {},
   "outputs": [],
   "source": [
    "df['text']=df['text'].apply(nfx.remove_userhandles)"
   ]
  },
  {
   "cell_type": "code",
   "execution_count": 203,
   "id": "323e2dcd-4125-4f17-9058-121a87a1d75c",
   "metadata": {},
   "outputs": [
    {
     "data": {
      "text/plain": [
       "'Kaan ile uyuma saatinde   ve   izliyoruz ☺️ Emrah hocanın hızlı konuşmasından ötürü çocukta uyku kalmadı 😁 Oğlum benim yaşıma geldiğinde de umarım izleyebileceği ve faydalanabileceği böyle insanlar olur.'"
      ]
     },
     "execution_count": 203,
     "metadata": {},
     "output_type": "execute_result"
    }
   ],
   "source": [
    "df['text'][0]"
   ]
  },
  {
   "cell_type": "code",
   "execution_count": 205,
   "id": "d3b1b939-ea84-4f0a-babf-4358b192cdcd",
   "metadata": {},
   "outputs": [],
   "source": [
    "df['text']=df['text'].apply(nfx.remove_emojis)"
   ]
  },
  {
   "cell_type": "code",
   "execution_count": 207,
   "id": "09653831-b88b-4cec-a75f-ea5c71aad679",
   "metadata": {},
   "outputs": [
    {
     "data": {
      "text/plain": [
       "'Kaan ile uyuma saatinde   ve   izliyoruz  Emrah hocanın hızlı konuşmasından ötürü çocukta uyku kalmadı  Oğlum benim yaşıma geldiğinde de umarım izleyebileceği ve faydalanabileceği böyle insanlar olur.'"
      ]
     },
     "execution_count": 207,
     "metadata": {},
     "output_type": "execute_result"
    }
   ],
   "source": [
    "df['text'][0]"
   ]
  },
  {
   "cell_type": "code",
   "execution_count": 215,
   "id": "61a0ee00-4b0b-421e-a062-34289641c8dc",
   "metadata": {},
   "outputs": [],
   "source": [
    "df['text']=df['text'].apply(nfx.clean_text)"
   ]
  },
  {
   "cell_type": "code",
   "execution_count": 217,
   "id": "bbdeebd2-4b43-4c85-b0c9-803545a4a52a",
   "metadata": {},
   "outputs": [
    {
     "data": {
      "text/plain": [
       "'kaan ile uyuma saatinde @jeandpardaillan @fatihaltayli izliyoruz emrah hocanın hızlı konuşmasından ötürü çocukta uyku kalmadı oğlum benim yaşıma geldiğinde de umarım izleyebileceği faydalanabileceği böyle insanlar olur.'"
      ]
     },
     "execution_count": 217,
     "metadata": {},
     "output_type": "execute_result"
    }
   ],
   "source": [
    "df['text'][0]"
   ]
  },
  {
   "cell_type": "code",
   "execution_count": null,
   "id": "f6e1a15a-6979-412d-b264-7139143006dc",
   "metadata": {},
   "outputs": [],
   "source": []
  }
 ],
 "metadata": {
  "kernelspec": {
   "display_name": "Python 3 (ipykernel)",
   "language": "python",
   "name": "python3"
  },
  "language_info": {
   "codemirror_mode": {
    "name": "ipython",
    "version": 3
   },
   "file_extension": ".py",
   "mimetype": "text/x-python",
   "name": "python",
   "nbconvert_exporter": "python",
   "pygments_lexer": "ipython3",
   "version": "3.12.4"
  }
 },
 "nbformat": 4,
 "nbformat_minor": 5
}
