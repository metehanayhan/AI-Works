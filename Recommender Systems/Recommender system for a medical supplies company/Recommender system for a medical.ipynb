{
 "cells": [
  {
   "cell_type": "markdown",
   "id": "4d4dbceb-2c8e-4866-82e5-4cffcb9fe5d2",
   "metadata": {},
   "source": [
    "# Metehan Ayhan - Recommender system for a medical supplies company project"
   ]
  },
  {
   "cell_type": "markdown",
   "id": "2ff26cad-46dc-4eae-bd2a-4a43f0296167",
   "metadata": {},
   "source": [
    "Bu proje, bir medikal malzeme şirketinin satışlarını artırmak amacıyla öneri sistemi geliştirmeyi hedeflemektedir. Proje kapsamında, eksik verilerin analiz edilmesi, en popüler ürünlerin satış hacmi ve dolar tutarı bazında belirlenmesi, en çok satın alma yapan firmanın bulunması ve iki farklı öneri sistemi oluşturulması planlanmaktadır. İlk olarak, popülerlik tabanlı bir öneri sistemi ile en çok satan ürünlerin tavsiyesi yapılacaktır. Ardından, matrix factorization yöntemi kullanılarak kişiselleştirilmiş öneriler sunulacaktır. Ayrıca, ürün açıklamaları arasında cosine similarity hesaplanarak, benzer ürünlerin önerilmesi sağlanacaktır. Bu şekilde, şirketin müşteri memnuniyetini ve satış hacmini artırmaya yönelik etkili bir çözüm sunulması amaçlanmaktadır."
   ]
  },
  {
   "cell_type": "markdown",
   "id": "bf839db3-1082-406e-9d55-d7341788f061",
   "metadata": {},
   "source": [
    "### Import Packet"
   ]
  },
  {
   "cell_type": "code",
   "execution_count": 5,
   "id": "4c01b603-ccae-446b-89e6-1f5c8b0894bc",
   "metadata": {},
   "outputs": [],
   "source": [
    "import pandas as pd\n",
    "import numpy as np\n",
    "\n",
    "from datetime import date, timedelta\n",
    "import datetime\n",
    "import matplotlib.pyplot as plt\n",
    "from statsmodels.tsa.seasonal import seasonal_decompose\n",
    "from statsmodels.tsa.arima_model import ARIMA\n",
    "import statsmodels.api as sm\n",
    "from sklearn.model_selection import train_test_split\n",
    "from scipy.sparse import csr_matrix\n",
    "from sklearn.decomposition import TruncatedSVD\n",
    "import matplotlib.pyplot as plt\n",
    "\n",
    "import warnings\n",
    "warnings.filterwarnings('ignore')"
   ]
  },
  {
   "cell_type": "markdown",
   "id": "836e6a46-8eb3-4c39-afbd-b7797e5221a3",
   "metadata": {},
   "source": [
    "### Import Data"
   ]
  },
  {
   "cell_type": "code",
   "execution_count": 7,
   "id": "65f29680-3e5c-451b-9e18-0bf34ad22b0b",
   "metadata": {},
   "outputs": [],
   "source": [
    "df = pd.read_csv(\"PBL 5 recommendation data.csv\", encoding='latin1')    "
   ]
  },
  {
   "cell_type": "code",
   "execution_count": 8,
   "id": "f854a986-91bd-427e-814f-44b45738bbea",
   "metadata": {},
   "outputs": [
    {
     "data": {
      "text/html": [
       "<div>\n",
       "<style scoped>\n",
       "    .dataframe tbody tr th:only-of-type {\n",
       "        vertical-align: middle;\n",
       "    }\n",
       "\n",
       "    .dataframe tbody tr th {\n",
       "        vertical-align: top;\n",
       "    }\n",
       "\n",
       "    .dataframe thead th {\n",
       "        text-align: right;\n",
       "    }\n",
       "</style>\n",
       "<table border=\"1\" class=\"dataframe\">\n",
       "  <thead>\n",
       "    <tr style=\"text-align: right;\">\n",
       "      <th></th>\n",
       "      <th>Customers.id</th>\n",
       "      <th>Customers.fname</th>\n",
       "      <th>Customers.lname</th>\n",
       "      <th>Customers.company</th>\n",
       "      <th>Customers.create_date</th>\n",
       "      <th>Customers.status</th>\n",
       "      <th>Customers.mailing</th>\n",
       "      <th>Customers.reminders</th>\n",
       "      <th>Customers.tax_exempt</th>\n",
       "      <th>Customers.account_id</th>\n",
       "      <th>...</th>\n",
       "      <th>Products.google_shopping_label</th>\n",
       "      <th>Products.product_option</th>\n",
       "      <th>Products.size</th>\n",
       "      <th>Products.material</th>\n",
       "      <th>Products.arm_style</th>\n",
       "      <th>Products.leg_style</th>\n",
       "      <th>Products.seat_size</th>\n",
       "      <th>Products.family_id</th>\n",
       "      <th>Products.saved_status</th>\n",
       "      <th>Products.freight_cost</th>\n",
       "    </tr>\n",
       "  </thead>\n",
       "  <tbody>\n",
       "    <tr>\n",
       "      <th>2240</th>\n",
       "      <td>1879</td>\n",
       "      <td>Betty</td>\n",
       "      <td>Schoenbaum</td>\n",
       "      <td>NaN</td>\n",
       "      <td>1449249407</td>\n",
       "      <td>NaN</td>\n",
       "      <td>1.0</td>\n",
       "      <td>NaN</td>\n",
       "      <td>NaN</td>\n",
       "      <td>NaN</td>\n",
       "      <td>...</td>\n",
       "      <td>NaN</td>\n",
       "      <td>NaN</td>\n",
       "      <td>NaN</td>\n",
       "      <td>NaN</td>\n",
       "      <td>NaN</td>\n",
       "      <td>NaN</td>\n",
       "      <td>NaN</td>\n",
       "      <td>CM10</td>\n",
       "      <td>0.0</td>\n",
       "      <td>NaN</td>\n",
       "    </tr>\n",
       "    <tr>\n",
       "      <th>3232</th>\n",
       "      <td>2770</td>\n",
       "      <td>Sally</td>\n",
       "      <td>Crank</td>\n",
       "      <td>Company316</td>\n",
       "      <td>1457485504</td>\n",
       "      <td>NaN</td>\n",
       "      <td>1.0</td>\n",
       "      <td>NaN</td>\n",
       "      <td>NaN</td>\n",
       "      <td>NaN</td>\n",
       "      <td>...</td>\n",
       "      <td>NaN</td>\n",
       "      <td>NaN</td>\n",
       "      <td>NaN</td>\n",
       "      <td>NaN</td>\n",
       "      <td>NaN</td>\n",
       "      <td>NaN</td>\n",
       "      <td>NaN</td>\n",
       "      <td>BS2</td>\n",
       "      <td>0.0</td>\n",
       "      <td>NaN</td>\n",
       "    </tr>\n",
       "    <tr>\n",
       "      <th>680</th>\n",
       "      <td>562</td>\n",
       "      <td>Diane</td>\n",
       "      <td>Gonzalez</td>\n",
       "      <td>NaN</td>\n",
       "      <td>1419781056</td>\n",
       "      <td>NaN</td>\n",
       "      <td>1.0</td>\n",
       "      <td>NaN</td>\n",
       "      <td>NaN</td>\n",
       "      <td>NaN</td>\n",
       "      <td>...</td>\n",
       "      <td>NaN</td>\n",
       "      <td>NaN</td>\n",
       "      <td>23 x 36\"</td>\n",
       "      <td>Air Permeable</td>\n",
       "      <td>NaN</td>\n",
       "      <td>NaN</td>\n",
       "      <td>NaN</td>\n",
       "      <td>PF66986</td>\n",
       "      <td>0.0</td>\n",
       "      <td>NaN</td>\n",
       "    </tr>\n",
       "  </tbody>\n",
       "</table>\n",
       "<p>3 rows × 181 columns</p>\n",
       "</div>"
      ],
      "text/plain": [
       "      Customers.id Customers.fname Customers.lname Customers.company  \\\n",
       "2240          1879           Betty      Schoenbaum               NaN   \n",
       "3232          2770           Sally           Crank        Company316   \n",
       "680            562           Diane        Gonzalez               NaN   \n",
       "\n",
       "      Customers.create_date  Customers.status  Customers.mailing  \\\n",
       "2240             1449249407               NaN                1.0   \n",
       "3232             1457485504               NaN                1.0   \n",
       "680              1419781056               NaN                1.0   \n",
       "\n",
       "      Customers.reminders  Customers.tax_exempt  Customers.account_id  ...  \\\n",
       "2240                  NaN                   NaN                   NaN  ...   \n",
       "3232                  NaN                   NaN                   NaN  ...   \n",
       "680                   NaN                   NaN                   NaN  ...   \n",
       "\n",
       "      Products.google_shopping_label  Products.product_option  Products.size  \\\n",
       "2240                             NaN                      NaN            NaN   \n",
       "3232                             NaN                      NaN            NaN   \n",
       "680                              NaN                      NaN       23 x 36\"   \n",
       "\n",
       "      Products.material  Products.arm_style  Products.leg_style  \\\n",
       "2240                NaN                 NaN                 NaN   \n",
       "3232                NaN                 NaN                 NaN   \n",
       "680       Air Permeable                 NaN                 NaN   \n",
       "\n",
       "      Products.seat_size Products.family_id Products.saved_status  \\\n",
       "2240                 NaN               CM10                   0.0   \n",
       "3232                 NaN                BS2                   0.0   \n",
       "680                  NaN            PF66986                   0.0   \n",
       "\n",
       "     Products.freight_cost  \n",
       "2240                   NaN  \n",
       "3232                   NaN  \n",
       "680                    NaN  \n",
       "\n",
       "[3 rows x 181 columns]"
      ]
     },
     "execution_count": 8,
     "metadata": {},
     "output_type": "execute_result"
    }
   ],
   "source": [
    "df.sample(3)"
   ]
  },
  {
   "cell_type": "code",
   "execution_count": 9,
   "id": "635fa9c1-3a3e-4052-8528-778b7b044e77",
   "metadata": {},
   "outputs": [
    {
     "name": "stdout",
     "output_type": "stream",
     "text": [
      "<class 'pandas.core.frame.DataFrame'>\n",
      "RangeIndex: 4194 entries, 0 to 4193\n",
      "Columns: 181 entries, Customers.id to Products.freight_cost\n",
      "dtypes: float64(98), int64(10), object(73)\n",
      "memory usage: 5.8+ MB\n"
     ]
    }
   ],
   "source": [
    "df.info()"
   ]
  },
  {
   "cell_type": "code",
   "execution_count": 10,
   "id": "f9e1a8c5-b555-4ff5-b94e-2f3940d69908",
   "metadata": {},
   "outputs": [
    {
     "data": {
      "text/plain": [
       "Customers.id                0\n",
       "Customers.fname             0\n",
       "Customers.lname             0\n",
       "Customers.company        3467\n",
       "Customers.create_date       0\n",
       "                         ... \n",
       "Products.leg_style       4194\n",
       "Products.seat_size       4032\n",
       "Products.family_id        325\n",
       "Products.saved_status     264\n",
       "Products.freight_cost    4194\n",
       "Length: 181, dtype: int64"
      ]
     },
     "execution_count": 10,
     "metadata": {},
     "output_type": "execute_result"
    }
   ],
   "source": [
    "df.isnull().sum()"
   ]
  },
  {
   "cell_type": "markdown",
   "id": "3995cbae-25a7-47cf-b022-66daa40e22a2",
   "metadata": {},
   "source": [
    "## Popularity Based"
   ]
  },
  {
   "cell_type": "markdown",
   "id": "76d6e87a-136b-4e67-82c6-4411723fae8a",
   "metadata": {},
   "source": [
    "Satış hacmine (miktar) ve dolar cinsinden toplam satış tutarına göre en popüler 5 ürünü bulalım."
   ]
  },
  {
   "cell_type": "code",
   "execution_count": 13,
   "id": "21b0adec-d49c-44d9-ad50-20bc94aa65d3",
   "metadata": {},
   "outputs": [
    {
     "data": {
      "text/html": [
       "<div>\n",
       "<style scoped>\n",
       "    .dataframe tbody tr th:only-of-type {\n",
       "        vertical-align: middle;\n",
       "    }\n",
       "\n",
       "    .dataframe tbody tr th {\n",
       "        vertical-align: top;\n",
       "    }\n",
       "\n",
       "    .dataframe thead th {\n",
       "        text-align: right;\n",
       "    }\n",
       "</style>\n",
       "<table border=\"1\" class=\"dataframe\">\n",
       "  <thead>\n",
       "    <tr style=\"text-align: right;\">\n",
       "      <th></th>\n",
       "      <th>Order_Items.product_id</th>\n",
       "      <th>total_qty</th>\n",
       "      <th>total_sales</th>\n",
       "    </tr>\n",
       "  </thead>\n",
       "  <tbody>\n",
       "    <tr>\n",
       "      <th>623</th>\n",
       "      <td>1846.0</td>\n",
       "      <td>396</td>\n",
       "      <td>13705.56</td>\n",
       "    </tr>\n",
       "    <tr>\n",
       "      <th>686</th>\n",
       "      <td>2107.0</td>\n",
       "      <td>228</td>\n",
       "      <td>12542.26</td>\n",
       "    </tr>\n",
       "    <tr>\n",
       "      <th>589</th>\n",
       "      <td>1672.0</td>\n",
       "      <td>220</td>\n",
       "      <td>5559.40</td>\n",
       "    </tr>\n",
       "    <tr>\n",
       "      <th>580</th>\n",
       "      <td>1648.0</td>\n",
       "      <td>133</td>\n",
       "      <td>5628.56</td>\n",
       "    </tr>\n",
       "    <tr>\n",
       "      <th>622</th>\n",
       "      <td>1842.0</td>\n",
       "      <td>112</td>\n",
       "      <td>1776.10</td>\n",
       "    </tr>\n",
       "  </tbody>\n",
       "</table>\n",
       "</div>"
      ],
      "text/plain": [
       "     Order_Items.product_id  total_qty  total_sales\n",
       "623                  1846.0        396     13705.56\n",
       "686                  2107.0        228     12542.26\n",
       "589                  1672.0        220      5559.40\n",
       "580                  1648.0        133      5628.56\n",
       "622                  1842.0        112      1776.10"
      ]
     },
     "execution_count": 13,
     "metadata": {},
     "output_type": "execute_result"
    }
   ],
   "source": [
    "popular_products = df.groupby('Order_Items.product_id').agg(\n",
    "    total_qty=('Order_Items.qty', 'sum'),\n",
    "    total_sales=('Order_Items.price', lambda x: (x * df['Order_Items.qty']).sum())\n",
    ").reset_index()\n",
    "\n",
    "top_5 = popular_products.sort_values(by=['total_qty', 'total_sales'], ascending=False).head(5)\n",
    "top_5"
   ]
  },
  {
   "cell_type": "markdown",
   "id": "06144aa8-1392-43ec-9b4d-732908d4beba",
   "metadata": {},
   "source": [
    "### Company with a maximum purchase"
   ]
  },
  {
   "cell_type": "code",
   "execution_count": 15,
   "id": "8678ee0e-3922-48e1-9513-0ee923af8e97",
   "metadata": {},
   "outputs": [
    {
     "name": "stdout",
     "output_type": "stream",
     "text": [
      "    Orders.company  total_orders  total_spent  avg_order_value\n",
      "53      Company145            27      8530.28       315.936296\n",
      "37      Company130            17      7330.23       431.190000\n",
      "378      Company59            15     12790.69       852.712667\n",
      "371      Company52            13      1364.43       104.956154\n",
      "82      Company171            12      3297.56       274.796667\n"
     ]
    }
   ],
   "source": [
    "# Şirketlere göre sipariş sayısı, toplam harcama ve ortalama sipariş tutarını hesaplayalım\n",
    "top_companies = df.groupby('Orders.company').agg(\n",
    "    total_orders=('Orders.id', 'count'),            # Toplam sipariş sayısı\n",
    "    total_spent=('Orders.total', 'sum'),            # Toplam harcama (toplam satış tutarı)\n",
    "    avg_order_value=('Orders.total', 'mean')        # Ortalama sipariş tutarı\n",
    ").reset_index()\n",
    "\n",
    "top_companies_sorted = top_companies.sort_values(by=['total_orders', 'total_spent'], ascending=False).head(5)\n",
    "\n",
    "print(top_companies_sorted)\n"
   ]
  },
  {
   "cell_type": "markdown",
   "id": "fe7c3465-7395-4d5a-842e-e4623b42dc2d",
   "metadata": {},
   "source": [
    "### Recommender System Using Matrix Factorization"
   ]
  },
  {
   "cell_type": "code",
   "execution_count": 17,
   "id": "4c917180-3845-44fd-b9ab-373a5475330f",
   "metadata": {},
   "outputs": [
    {
     "name": "stdout",
     "output_type": "stream",
     "text": [
      "Matris çarpanlarına ayırma ile önerilen ürün ID'leri: [4704.0, 15772.0, 1862.0, 11079.0, 4354.0]\n"
     ]
    }
   ],
   "source": [
    "from sklearn.decomposition import TruncatedSVD\n",
    "\n",
    "user_product_matrix = df.pivot_table(index=['Customers.id'], columns=['Order_Items.product_id'], values='Order_Items.qty', fill_value=0)\n",
    "\n",
    "# Perform matrix factorization with SVD\n",
    "svd = TruncatedSVD(n_components=5)\n",
    "user_factors = svd.fit_transform(user_product_matrix)\n",
    "product_factors = svd.components_\n",
    "\n",
    "user_id = 4\n",
    "user_index = user_product_matrix.index.get_loc(user_id)\n",
    "predicted_scores = user_factors[user_index].dot(product_factors)\n",
    "\n",
    "top_product_indices = predicted_scores.argsort()[::-1][:5]\n",
    "top_products = user_product_matrix.columns[top_product_indices]\n",
    "print(\"Matris çarpanlarına ayırma ile önerilen ürün ID'leri:\", top_products.tolist())"
   ]
  },
  {
   "cell_type": "code",
   "execution_count": 50,
   "id": "afc7e92c-4cfb-4c2e-9d86-4d392859a29b",
   "metadata": {},
   "outputs": [],
   "source": [
    "def recommend_products(user_id, product_count=5):\n",
    "  \n",
    "    try :\n",
    "        user_index = user_product_matrix.index.get_loc(user_id)\n",
    "        predicted_scores = user_factors[user_index].dot(product_factors)\n",
    "        top_product_indices = predicted_scores.argsort()[::-1][:product_count]\n",
    "        top_products = user_product_matrix.columns[top_product_indices]\n",
    "\n",
    "        user_name = df[df['Customers.id'] == user_id]['Customers.fname'].values[0]\n",
    "        last_name = df[df['Customers.id'] == user_id]['Customers.lname'].values[0]\n",
    "        print('Customer:',user_name ,last_name)\n",
    "\n",
    "        top_products_name = df[df['Products.id'].isin(top_products)]['Products.name']\n",
    "\n",
    "        data = pd.DataFrame({'Product ID': top_products, 'Product Name': top_products_name})\n",
    "    \n",
    "    except:\n",
    "        data = 'User not found'\n",
    "\n",
    "        return data"
   ]
  },
  {
   "cell_type": "code",
   "execution_count": 54,
   "id": "6cfe0607-7224-4306-9da9-ac8497cb2d84",
   "metadata": {},
   "outputs": [
    {
     "name": "stdout",
     "output_type": "stream",
     "text": [
      "Customer: peggy  thompson\n"
     ]
    }
   ],
   "source": [
    "recommend_products(7, 4)"
   ]
  },
  {
   "cell_type": "markdown",
   "id": "e359effa-9a0c-4b33-bc31-fd9cfff42211",
   "metadata": {},
   "source": [
    "### Cosine Similarity"
   ]
  },
  {
   "cell_type": "code",
   "execution_count": 21,
   "id": "d0f455a5-5337-4441-906d-29f2e213cd40",
   "metadata": {},
   "outputs": [],
   "source": [
    "from sklearn.metrics.pairwise import cosine_similarity"
   ]
  },
  {
   "cell_type": "code",
   "execution_count": 22,
   "id": "e61d17c9-6441-4a99-a7d1-88deab44f447",
   "metadata": {},
   "outputs": [],
   "source": [
    "product_user_matrix = df.pivot_table(index='Order_Items.product_id', columns='Customers.id', values='Order_Items.qty', aggfunc='sum', fill_value=0)"
   ]
  },
  {
   "cell_type": "code",
   "execution_count": 23,
   "id": "622e4d1e-d36f-4812-aed4-12185aa52e81",
   "metadata": {},
   "outputs": [],
   "source": [
    "cosine_sim = cosine_similarity(product_user_matrix)\n",
    "cosine_sim_df = pd.DataFrame(cosine_sim, index=product_user_matrix.index, columns=product_user_matrix.index)"
   ]
  },
  {
   "cell_type": "code",
   "execution_count": 46,
   "id": "224bcede-4f6c-41c8-bddf-ac7bf9c3d09e",
   "metadata": {},
   "outputs": [],
   "source": [
    "def similar_products(product_id, top_n=5):\n",
    "    \"\"\"\n",
    "    Recommend similar products based on the product-user matrix using cosine similarity.\n",
    "    \n",
    "    Parameters:\n",
    "    product_id: int, the product id to find similar products\n",
    "    top_n: int, the number of similar products to return\n",
    "    \n",
    "    Returns:\n",
    "    DataFrame containing Product ID, Product Name, and Shopping Brand of similar products.\n",
    "    \"\"\"\n",
    "    try:\n",
    "        similar_products = cosine_sim_df[product_id].sort_values(ascending=False)\n",
    "        similar_products_df = pd.DataFrame(similar_products).reset_index()\n",
    "        top_n_similar_products = similar_products.index[0:top_n+1]\n",
    "        product_names = df[df['Order_Items.product_id'].isin(top_n_similar_products)][['Products.name']]\n",
    "        data = pd.DataFrame({'Product ID': top_n_similar_products, 'Product Name': product_names['Products.name']})\n",
    "    except KeyError:\n",
    "        data = 'Product ID not found'\n",
    "    \n",
    "    return similar_products_df"
   ]
  },
  {
   "cell_type": "code",
   "execution_count": 48,
   "id": "b2f09a84-8d48-4078-9e16-f31d29411db0",
   "metadata": {},
   "outputs": [
    {
     "data": {
      "text/html": [
       "<div>\n",
       "<style scoped>\n",
       "    .dataframe tbody tr th:only-of-type {\n",
       "        vertical-align: middle;\n",
       "    }\n",
       "\n",
       "    .dataframe tbody tr th {\n",
       "        vertical-align: top;\n",
       "    }\n",
       "\n",
       "    .dataframe thead th {\n",
       "        text-align: right;\n",
       "    }\n",
       "</style>\n",
       "<table border=\"1\" class=\"dataframe\">\n",
       "  <thead>\n",
       "    <tr style=\"text-align: right;\">\n",
       "      <th></th>\n",
       "      <th>Order_Items.product_id</th>\n",
       "      <th>562.0</th>\n",
       "    </tr>\n",
       "  </thead>\n",
       "  <tbody>\n",
       "    <tr>\n",
       "      <th>0</th>\n",
       "      <td>562.0</td>\n",
       "      <td>1.0</td>\n",
       "    </tr>\n",
       "    <tr>\n",
       "      <th>1</th>\n",
       "      <td>1.0</td>\n",
       "      <td>0.0</td>\n",
       "    </tr>\n",
       "    <tr>\n",
       "      <th>2</th>\n",
       "      <td>7538.0</td>\n",
       "      <td>0.0</td>\n",
       "    </tr>\n",
       "    <tr>\n",
       "      <th>3</th>\n",
       "      <td>7856.0</td>\n",
       "      <td>0.0</td>\n",
       "    </tr>\n",
       "    <tr>\n",
       "      <th>4</th>\n",
       "      <td>7855.0</td>\n",
       "      <td>0.0</td>\n",
       "    </tr>\n",
       "    <tr>\n",
       "      <th>...</th>\n",
       "      <td>...</td>\n",
       "      <td>...</td>\n",
       "    </tr>\n",
       "    <tr>\n",
       "      <th>1748</th>\n",
       "      <td>1652.0</td>\n",
       "      <td>0.0</td>\n",
       "    </tr>\n",
       "    <tr>\n",
       "      <th>1749</th>\n",
       "      <td>1648.0</td>\n",
       "      <td>0.0</td>\n",
       "    </tr>\n",
       "    <tr>\n",
       "      <th>1750</th>\n",
       "      <td>1642.0</td>\n",
       "      <td>0.0</td>\n",
       "    </tr>\n",
       "    <tr>\n",
       "      <th>1751</th>\n",
       "      <td>1641.0</td>\n",
       "      <td>0.0</td>\n",
       "    </tr>\n",
       "    <tr>\n",
       "      <th>1752</th>\n",
       "      <td>26175.0</td>\n",
       "      <td>0.0</td>\n",
       "    </tr>\n",
       "  </tbody>\n",
       "</table>\n",
       "<p>1753 rows × 2 columns</p>\n",
       "</div>"
      ],
      "text/plain": [
       "      Order_Items.product_id  562.0\n",
       "0                      562.0    1.0\n",
       "1                        1.0    0.0\n",
       "2                     7538.0    0.0\n",
       "3                     7856.0    0.0\n",
       "4                     7855.0    0.0\n",
       "...                      ...    ...\n",
       "1748                  1652.0    0.0\n",
       "1749                  1648.0    0.0\n",
       "1750                  1642.0    0.0\n",
       "1751                  1641.0    0.0\n",
       "1752                 26175.0    0.0\n",
       "\n",
       "[1753 rows x 2 columns]"
      ]
     },
     "execution_count": 48,
     "metadata": {},
     "output_type": "execute_result"
    }
   ],
   "source": [
    "similar_products(562,5)"
   ]
  },
  {
   "cell_type": "markdown",
   "id": "fddcd081-2190-407b-baf0-9c70d4798099",
   "metadata": {},
   "source": [
    "Bu proje, bir medikal malzeme şirketinin satışlarını artırmaya yönelik etkili bir öneri sistemi geliştirmeyi amaçlamaktadır. Proje kapsamında gerçekleştirilen analizler, kullanıcı davranışları ve ürün etkileşimleri hakkında değerli bilgiler sağlamıştır. Popülarite tabanlı öneri sistemi ile en çok satan ürünler belirlenmiş ve bu ürünlerin satış hacmi ve gelirleri analiz edilmiştir. Ayrıca, matrix faktörizasyonu yöntemi kullanılarak kişiselleştirilmiş öneriler sunulmuş, bu sayede kullanıcıların ilgi alanlarına uygun ürünler önerilmiştir. Son olarak, ürün açıklamaları arasındaki benzerlikler kullanılarak cosine benzerliği hesaplanmış ve benzer ürünlerin önerilmesi sağlanmıştır."
   ]
  }
 ],
 "metadata": {
  "kernelspec": {
   "display_name": "Python 3 (ipykernel)",
   "language": "python",
   "name": "python3"
  },
  "language_info": {
   "codemirror_mode": {
    "name": "ipython",
    "version": 3
   },
   "file_extension": ".py",
   "mimetype": "text/x-python",
   "name": "python",
   "nbconvert_exporter": "python",
   "pygments_lexer": "ipython3",
   "version": "3.12.4"
  }
 },
 "nbformat": 4,
 "nbformat_minor": 5
}
