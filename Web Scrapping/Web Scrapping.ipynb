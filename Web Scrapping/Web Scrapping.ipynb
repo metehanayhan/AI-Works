{
 "cells": [
  {
   "cell_type": "markdown",
   "metadata": {},
   "source": [
    "# Metehan Ayhan - Web Scrapping"
   ]
  },
  {
   "cell_type": "markdown",
   "metadata": {},
   "source": [
    "### Getting data from the net"
   ]
  },
  {
   "cell_type": "code",
   "execution_count": 16,
   "metadata": {},
   "outputs": [],
   "source": [
    "import pandas as pd"
   ]
  },
  {
   "cell_type": "code",
   "execution_count": 17,
   "metadata": {},
   "outputs": [],
   "source": [
    "df = pd.read_html(\"https://en.wikipedia.org/wiki/List_of_countries_and_dependencies_by_population\")[0]"
   ]
  },
  {
   "cell_type": "code",
   "execution_count": 18,
   "metadata": {},
   "outputs": [
    {
     "data": {
      "text/html": [
       "<div>\n",
       "<style scoped>\n",
       "    .dataframe tbody tr th:only-of-type {\n",
       "        vertical-align: middle;\n",
       "    }\n",
       "\n",
       "    .dataframe tbody tr th {\n",
       "        vertical-align: top;\n",
       "    }\n",
       "\n",
       "    .dataframe thead th {\n",
       "        text-align: right;\n",
       "    }\n",
       "</style>\n",
       "<table border=\"1\" class=\"dataframe\">\n",
       "  <thead>\n",
       "    <tr style=\"text-align: right;\">\n",
       "      <th></th>\n",
       "      <th>Unnamed: 0</th>\n",
       "      <th>Location</th>\n",
       "      <th>Population</th>\n",
       "      <th>% of world</th>\n",
       "      <th>Date</th>\n",
       "      <th>Source (official or from the United Nations)</th>\n",
       "      <th>Unnamed: 6</th>\n",
       "    </tr>\n",
       "  </thead>\n",
       "  <tbody>\n",
       "    <tr>\n",
       "      <th>0</th>\n",
       "      <td>–</td>\n",
       "      <td>World</td>\n",
       "      <td>8120793000</td>\n",
       "      <td>100%</td>\n",
       "      <td>27 Jul 2024</td>\n",
       "      <td>UN projection[3]</td>\n",
       "      <td>NaN</td>\n",
       "    </tr>\n",
       "    <tr>\n",
       "      <th>1</th>\n",
       "      <td>1/2 [b]</td>\n",
       "      <td>China</td>\n",
       "      <td>1409670000</td>\n",
       "      <td>17.4%</td>\n",
       "      <td>31 Dec 2023</td>\n",
       "      <td>Official estimate[5]</td>\n",
       "      <td>[c]</td>\n",
       "    </tr>\n",
       "    <tr>\n",
       "      <th>2</th>\n",
       "      <td>1/2 [b]</td>\n",
       "      <td>India</td>\n",
       "      <td>1404910000</td>\n",
       "      <td>17.3%</td>\n",
       "      <td>1 Jul 2024</td>\n",
       "      <td>Official projection[6]</td>\n",
       "      <td>[d]</td>\n",
       "    </tr>\n",
       "    <tr>\n",
       "      <th>3</th>\n",
       "      <td>3</td>\n",
       "      <td>United States</td>\n",
       "      <td>335893238</td>\n",
       "      <td>4.1%</td>\n",
       "      <td>1 Jan 2024</td>\n",
       "      <td>Official estimate[7]</td>\n",
       "      <td>[e]</td>\n",
       "    </tr>\n",
       "    <tr>\n",
       "      <th>4</th>\n",
       "      <td>4</td>\n",
       "      <td>Indonesia</td>\n",
       "      <td>281603800</td>\n",
       "      <td>3.5%</td>\n",
       "      <td>1 Jul 2024</td>\n",
       "      <td>National annual projection[8]</td>\n",
       "      <td>NaN</td>\n",
       "    </tr>\n",
       "  </tbody>\n",
       "</table>\n",
       "</div>"
      ],
      "text/plain": [
       "  Unnamed: 0       Location  Population % of world         Date  \\\n",
       "0          –          World  8120793000       100%  27 Jul 2024   \n",
       "1    1/2 [b]          China  1409670000      17.4%  31 Dec 2023   \n",
       "2    1/2 [b]          India  1404910000      17.3%   1 Jul 2024   \n",
       "3          3  United States   335893238       4.1%   1 Jan 2024   \n",
       "4          4      Indonesia   281603800       3.5%   1 Jul 2024   \n",
       "\n",
       "  Source (official or from the United Nations) Unnamed: 6  \n",
       "0                             UN projection[3]        NaN  \n",
       "1                         Official estimate[5]        [c]  \n",
       "2                       Official projection[6]        [d]  \n",
       "3                         Official estimate[7]        [e]  \n",
       "4                National annual projection[8]        NaN  "
      ]
     },
     "execution_count": 18,
     "metadata": {},
     "output_type": "execute_result"
    }
   ],
   "source": [
    "df.head()"
   ]
  },
  {
   "cell_type": "code",
   "execution_count": 19,
   "metadata": {},
   "outputs": [],
   "source": [
    "df.to_excel(\"countries.xlsx\")"
   ]
  },
  {
   "cell_type": "code",
   "execution_count": 20,
   "metadata": {},
   "outputs": [],
   "source": [
    "#df = pd.read_clipboard(header = None) # use this site that not allowed to scrapping by copying datas"
   ]
  },
  {
   "cell_type": "code",
   "execution_count": 21,
   "metadata": {},
   "outputs": [
    {
     "data": {
      "text/html": [
       "<div>\n",
       "<style scoped>\n",
       "    .dataframe tbody tr th:only-of-type {\n",
       "        vertical-align: middle;\n",
       "    }\n",
       "\n",
       "    .dataframe tbody tr th {\n",
       "        vertical-align: top;\n",
       "    }\n",
       "\n",
       "    .dataframe thead th {\n",
       "        text-align: right;\n",
       "    }\n",
       "</style>\n",
       "<table border=\"1\" class=\"dataframe\">\n",
       "  <thead>\n",
       "    <tr style=\"text-align: right;\">\n",
       "      <th></th>\n",
       "      <th>Unnamed: 0</th>\n",
       "      <th>Location</th>\n",
       "      <th>Population</th>\n",
       "      <th>% of world</th>\n",
       "      <th>Date</th>\n",
       "      <th>Source (official or from the United Nations)</th>\n",
       "      <th>Unnamed: 6</th>\n",
       "    </tr>\n",
       "  </thead>\n",
       "  <tbody>\n",
       "    <tr>\n",
       "      <th>0</th>\n",
       "      <td>–</td>\n",
       "      <td>World</td>\n",
       "      <td>8120793000</td>\n",
       "      <td>100%</td>\n",
       "      <td>27 Jul 2024</td>\n",
       "      <td>UN projection[3]</td>\n",
       "      <td>NaN</td>\n",
       "    </tr>\n",
       "    <tr>\n",
       "      <th>1</th>\n",
       "      <td>1/2 [b]</td>\n",
       "      <td>China</td>\n",
       "      <td>1409670000</td>\n",
       "      <td>17.4%</td>\n",
       "      <td>31 Dec 2023</td>\n",
       "      <td>Official estimate[5]</td>\n",
       "      <td>[c]</td>\n",
       "    </tr>\n",
       "    <tr>\n",
       "      <th>2</th>\n",
       "      <td>1/2 [b]</td>\n",
       "      <td>India</td>\n",
       "      <td>1404910000</td>\n",
       "      <td>17.3%</td>\n",
       "      <td>1 Jul 2024</td>\n",
       "      <td>Official projection[6]</td>\n",
       "      <td>[d]</td>\n",
       "    </tr>\n",
       "    <tr>\n",
       "      <th>3</th>\n",
       "      <td>3</td>\n",
       "      <td>United States</td>\n",
       "      <td>335893238</td>\n",
       "      <td>4.1%</td>\n",
       "      <td>1 Jan 2024</td>\n",
       "      <td>Official estimate[7]</td>\n",
       "      <td>[e]</td>\n",
       "    </tr>\n",
       "    <tr>\n",
       "      <th>4</th>\n",
       "      <td>4</td>\n",
       "      <td>Indonesia</td>\n",
       "      <td>281603800</td>\n",
       "      <td>3.5%</td>\n",
       "      <td>1 Jul 2024</td>\n",
       "      <td>National annual projection[8]</td>\n",
       "      <td>NaN</td>\n",
       "    </tr>\n",
       "  </tbody>\n",
       "</table>\n",
       "</div>"
      ],
      "text/plain": [
       "  Unnamed: 0       Location  Population % of world         Date  \\\n",
       "0          –          World  8120793000       100%  27 Jul 2024   \n",
       "1    1/2 [b]          China  1409670000      17.4%  31 Dec 2023   \n",
       "2    1/2 [b]          India  1404910000      17.3%   1 Jul 2024   \n",
       "3          3  United States   335893238       4.1%   1 Jan 2024   \n",
       "4          4      Indonesia   281603800       3.5%   1 Jul 2024   \n",
       "\n",
       "  Source (official or from the United Nations) Unnamed: 6  \n",
       "0                             UN projection[3]        NaN  \n",
       "1                         Official estimate[5]        [c]  \n",
       "2                       Official projection[6]        [d]  \n",
       "3                         Official estimate[7]        [e]  \n",
       "4                National annual projection[8]        NaN  "
      ]
     },
     "execution_count": 21,
     "metadata": {},
     "output_type": "execute_result"
    }
   ],
   "source": [
    "df.head()"
   ]
  },
  {
   "cell_type": "code",
   "execution_count": null,
   "metadata": {},
   "outputs": [],
   "source": [
    "#df.columns = [\"Name\",\"Position\",\"Office\",\"Age\",\"Start-date\",\"Salary\"]"
   ]
  },
  {
   "cell_type": "code",
   "execution_count": 22,
   "metadata": {},
   "outputs": [
    {
     "data": {
      "text/html": [
       "<div>\n",
       "<style scoped>\n",
       "    .dataframe tbody tr th:only-of-type {\n",
       "        vertical-align: middle;\n",
       "    }\n",
       "\n",
       "    .dataframe tbody tr th {\n",
       "        vertical-align: top;\n",
       "    }\n",
       "\n",
       "    .dataframe thead th {\n",
       "        text-align: right;\n",
       "    }\n",
       "</style>\n",
       "<table border=\"1\" class=\"dataframe\">\n",
       "  <thead>\n",
       "    <tr style=\"text-align: right;\">\n",
       "      <th></th>\n",
       "      <th>Unnamed: 0</th>\n",
       "      <th>Location</th>\n",
       "      <th>Population</th>\n",
       "      <th>% of world</th>\n",
       "      <th>Date</th>\n",
       "      <th>Source (official or from the United Nations)</th>\n",
       "      <th>Unnamed: 6</th>\n",
       "    </tr>\n",
       "  </thead>\n",
       "  <tbody>\n",
       "    <tr>\n",
       "      <th>0</th>\n",
       "      <td>–</td>\n",
       "      <td>World</td>\n",
       "      <td>8120793000</td>\n",
       "      <td>100%</td>\n",
       "      <td>27 Jul 2024</td>\n",
       "      <td>UN projection[3]</td>\n",
       "      <td>NaN</td>\n",
       "    </tr>\n",
       "    <tr>\n",
       "      <th>1</th>\n",
       "      <td>1/2 [b]</td>\n",
       "      <td>China</td>\n",
       "      <td>1409670000</td>\n",
       "      <td>17.4%</td>\n",
       "      <td>31 Dec 2023</td>\n",
       "      <td>Official estimate[5]</td>\n",
       "      <td>[c]</td>\n",
       "    </tr>\n",
       "    <tr>\n",
       "      <th>2</th>\n",
       "      <td>1/2 [b]</td>\n",
       "      <td>India</td>\n",
       "      <td>1404910000</td>\n",
       "      <td>17.3%</td>\n",
       "      <td>1 Jul 2024</td>\n",
       "      <td>Official projection[6]</td>\n",
       "      <td>[d]</td>\n",
       "    </tr>\n",
       "    <tr>\n",
       "      <th>3</th>\n",
       "      <td>3</td>\n",
       "      <td>United States</td>\n",
       "      <td>335893238</td>\n",
       "      <td>4.1%</td>\n",
       "      <td>1 Jan 2024</td>\n",
       "      <td>Official estimate[7]</td>\n",
       "      <td>[e]</td>\n",
       "    </tr>\n",
       "    <tr>\n",
       "      <th>4</th>\n",
       "      <td>4</td>\n",
       "      <td>Indonesia</td>\n",
       "      <td>281603800</td>\n",
       "      <td>3.5%</td>\n",
       "      <td>1 Jul 2024</td>\n",
       "      <td>National annual projection[8]</td>\n",
       "      <td>NaN</td>\n",
       "    </tr>\n",
       "  </tbody>\n",
       "</table>\n",
       "</div>"
      ],
      "text/plain": [
       "  Unnamed: 0       Location  Population % of world         Date  \\\n",
       "0          –          World  8120793000       100%  27 Jul 2024   \n",
       "1    1/2 [b]          China  1409670000      17.4%  31 Dec 2023   \n",
       "2    1/2 [b]          India  1404910000      17.3%   1 Jul 2024   \n",
       "3          3  United States   335893238       4.1%   1 Jan 2024   \n",
       "4          4      Indonesia   281603800       3.5%   1 Jul 2024   \n",
       "\n",
       "  Source (official or from the United Nations) Unnamed: 6  \n",
       "0                             UN projection[3]        NaN  \n",
       "1                         Official estimate[5]        [c]  \n",
       "2                       Official projection[6]        [d]  \n",
       "3                         Official estimate[7]        [e]  \n",
       "4                National annual projection[8]        NaN  "
      ]
     },
     "execution_count": 22,
     "metadata": {},
     "output_type": "execute_result"
    }
   ],
   "source": [
    "df.head()"
   ]
  },
  {
   "cell_type": "code",
   "execution_count": 60,
   "metadata": {},
   "outputs": [],
   "source": [
    "from bs4 import BeautifulSoup\n",
    "import requests"
   ]
  },
  {
   "cell_type": "code",
   "execution_count": 62,
   "metadata": {},
   "outputs": [],
   "source": [
    "page = requests.get(\"http://localhost:8000/\")"
   ]
  },
  {
   "cell_type": "code",
   "execution_count": 64,
   "metadata": {},
   "outputs": [
    {
     "data": {
      "text/plain": [
       "b'<html>\\n<head>\\n\\t<title>My first emotional webpage</title>\\n</head>\\n<body>\\n<marquee><font color=blue size=20> Welcome to my first emotional webpage. </font></marquee>\\n<marquee direction = right><font color=red size=20> Welcome to my first emotional webpage. </font></marquee>\\n<a href= https://github.com/metehanayhan target=blank> Go my github from here. </a>\\n\\n<p>\\n<pre>\\nLorem ipsum dolor sit amet consectetur adipisicing elit. Quam, earum deleniti possimus corrupti pariatur quasi temporibus hic eligendi quas optio\\n distinctio explicabo consequuntur, repudiandae sint quaerat eaque nemo numquam, ipsam laudantium minus neque eos dolorem? Consequuntur alias pariatu\\n r sed quod sunt voluptate officia laborum recusandae exercitationem vero modi esse facere autem, dolore, obcaecati ad adipisci error doloremque volupta\\n tem? Consectetur quas consequatur deleniti rerum eius cumque laudantium aliquid. Eaque nam dolor fuga voluptatum. Odit, ducimus repudiandae consequatur\\n  neque architecto soluta, distinctio corrupti voluptatum cumque nemo earum accusamus eaque, voluptatem cupiditate. Ipsam commodi non molestiae fugit \\n  facilis voluptates eaque vero reiciendis assumenda!\\n</p>\\n\\n</body>\\n</html>'"
      ]
     },
     "execution_count": 64,
     "metadata": {},
     "output_type": "execute_result"
    }
   ],
   "source": [
    "page.content"
   ]
  },
  {
   "cell_type": "code",
   "execution_count": 66,
   "metadata": {},
   "outputs": [],
   "source": [
    "page2 = requests.get(\"http://www.cnn.com\")"
   ]
  },
  {
   "cell_type": "code",
   "execution_count": 2,
   "metadata": {},
   "outputs": [],
   "source": [
    "#page2.content   içeriği çok uzun olduğu için github'a yüklerken bazı kısımları yorum satırına aldım."
   ]
  },
  {
   "cell_type": "code",
   "execution_count": 70,
   "metadata": {},
   "outputs": [],
   "source": [
    "soup = BeautifulSoup(page.content,\"html.parser\")"
   ]
  },
  {
   "cell_type": "code",
   "execution_count": 72,
   "metadata": {},
   "outputs": [
    {
     "data": {
      "text/plain": [
       "<bound method Tag.prettify of <html>\n",
       "<head>\n",
       "<title>My first emotional webpage</title>\n",
       "</head>\n",
       "<body>\n",
       "<marquee><font color=\"blue\" size=\"20\"> Welcome to my first emotional webpage. </font></marquee>\n",
       "<marquee direction=\"right\"><font color=\"red\" size=\"20\"> Welcome to my first emotional webpage. </font></marquee>\n",
       "<a href=\"https://github.com/metehanayhan\" target=\"blank\"> Go my github from here. </a>\n",
       "<p>\n",
       "<pre>\n",
       "Lorem ipsum dolor sit amet consectetur adipisicing elit. Quam, earum deleniti possimus corrupti pariatur quasi temporibus hic eligendi quas optio\n",
       " distinctio explicabo consequuntur, repudiandae sint quaerat eaque nemo numquam, ipsam laudantium minus neque eos dolorem? Consequuntur alias pariatu\n",
       " r sed quod sunt voluptate officia laborum recusandae exercitationem vero modi esse facere autem, dolore, obcaecati ad adipisci error doloremque volupta\n",
       " tem? Consectetur quas consequatur deleniti rerum eius cumque laudantium aliquid. Eaque nam dolor fuga voluptatum. Odit, ducimus repudiandae consequatur\n",
       "  neque architecto soluta, distinctio corrupti voluptatum cumque nemo earum accusamus eaque, voluptatem cupiditate. Ipsam commodi non molestiae fugit \n",
       "  facilis voluptates eaque vero reiciendis assumenda!\n",
       "</pre></p>\n",
       "</body>\n",
       "</html>>"
      ]
     },
     "execution_count": 72,
     "metadata": {},
     "output_type": "execute_result"
    }
   ],
   "source": [
    "soup.prettify"
   ]
  },
  {
   "cell_type": "code",
   "execution_count": 74,
   "metadata": {},
   "outputs": [],
   "source": [
    "notes = soup.find('p')"
   ]
  },
  {
   "cell_type": "code",
   "execution_count": 76,
   "metadata": {},
   "outputs": [
    {
     "data": {
      "text/plain": [
       "'\\n\\nLorem ipsum dolor sit amet consectetur adipisicing elit. Quam, earum deleniti possimus corrupti pariatur quasi temporibus hic eligendi quas optio\\n distinctio explicabo consequuntur, repudiandae sint quaerat eaque nemo numquam, ipsam laudantium minus neque eos dolorem? Consequuntur alias pariatu\\n r sed quod sunt voluptate officia laborum recusandae exercitationem vero modi esse facere autem, dolore, obcaecati ad adipisci error doloremque volupta\\n tem? Consectetur quas consequatur deleniti rerum eius cumque laudantium aliquid. Eaque nam dolor fuga voluptatum. Odit, ducimus repudiandae consequatur\\n  neque architecto soluta, distinctio corrupti voluptatum cumque nemo earum accusamus eaque, voluptatem cupiditate. Ipsam commodi non molestiae fugit \\n  facilis voluptates eaque vero reiciendis assumenda!\\n'"
      ]
     },
     "execution_count": 76,
     "metadata": {},
     "output_type": "execute_result"
    }
   ],
   "source": [
    "notes.text"
   ]
  },
  {
   "cell_type": "code",
   "execution_count": 78,
   "metadata": {},
   "outputs": [],
   "source": [
    "page = requests.get(\"https://www.karar.com/yazarlar/zafer-acar/astronot-001-1589950\")"
   ]
  },
  {
   "cell_type": "code",
   "execution_count": 4,
   "metadata": {
    "scrolled": true
   },
   "outputs": [],
   "source": [
    "#page.content"
   ]
  },
  {
   "cell_type": "code",
   "execution_count": 82,
   "metadata": {},
   "outputs": [],
   "source": [
    "soup = BeautifulSoup(page.content,\"html.parser\")"
   ]
  },
  {
   "cell_type": "code",
   "execution_count": 6,
   "metadata": {
    "scrolled": true
   },
   "outputs": [],
   "source": [
    "#soup.prettify"
   ]
  },
  {
   "cell_type": "code",
   "execution_count": 86,
   "metadata": {},
   "outputs": [
    {
     "data": {
      "text/plain": [
       "'Astronot 001'"
      ]
     },
     "execution_count": 86,
     "metadata": {},
     "output_type": "execute_result"
    }
   ],
   "source": [
    "soup.select(\"h1.content-title\")[0].text"
   ]
  },
  {
   "cell_type": "code",
   "execution_count": 88,
   "metadata": {
    "scrolled": true
   },
   "outputs": [
    {
     "data": {
      "text/plain": [
       "'\\n\\nUzay çalışmaları ve uçuşları küçüklüğümden beri hep ilgimi çekmiştir. Özellikle son 12 yıldır nerede bir astronomi etkinliği olursa, fırsat buldukça katılırım. Bazen bu etkinliklere katılmak için şehir değiştirir ve uzun seyahatlere çıkarım. Üniversitede Fizik ve Astronomi bölümünde olmak ve bu konuda bilimsel çalışmalar yapmak hayatta en sevdiğim ve mutlu olduğum bir alan. İnsanın sevdiği işi yapması çok güzel bir duygu. İşim gereği Los Angeles’ta bulunan NASA JPL’e sık sık gidip gelirim.Şimdiye kadar Buzz Aldrin ve Kathryn Sullivan dahil 30’ a yakın astronot ile tanıştım ve onların hayat hikayelerini ve uzayda iken neler hissettiklerini dinledim. Bir keresinde uzayda 878 gün gibi rekor süre geçiren Rus Kozmonot Gennady Ivanovich Padalka ile de görüşme fırsatım oldu. Astronotların hayat hikayesi beni uzaya gitme konusunda hep motive etti ve bildiklerimin ve yaptıklarımın yetmediğini ve daha fazla çalışmam, öğrenmem ve ilerlemem gerektiğini düşünüp hep merak eden ve bilimsel araştırmalar yapan ve uzay çalışmalarını yakından takip eden biri oldum. Hatta milyar dolarlık teleskoplardan gelen bilimsel verileri yapay zeka algoritmaları ile analiz ederek öte gezegenleri otomatik tespit eden bir model bile geliştirdim. Halen iyonik sıvıların erime noktalarını yapay zeka algoritmaları ile tahmin eden bir model üzerinde çalışıyorum.\\nTürkiye başta olmak üzere, Dünya’nın değişik bölgelerinde astronomi, uzay, NASA’nın uzay misyonları ve yapay zeka konulu konferanslar veriyorum ve uzay merakımı ve bilgi birikimimi yeni nesillere aktarmaya çalışıyorum. Ancak bunların hiçbirisi bana yetmiyor. Şöyle uzaya bir gidip, yerçekiminin hissedilmediği bir ortamda kalmak ve Dünya’ya uzaktan bakmak en büyük hayalim. Bu hayalimi gerçekleştirmek için birçok yere başvurularım da oldu, lakin başarılı olamadım. Bir gün uzaya gitmek hep içimde bir ukde olarak kaldı. Gidip gelenleri hayranlıkla izledim.Ancak bu isteğim artık gerçek olacak gibi. Zira önümüzdeki haftalarda uzaya 2 uçuş gerçekleştirilecek ve sıradan insanlar uzaya gitmeye başlayacak. 11 Temmuz günü hava şartları uygun olursa Virgin Galactic’in kurucusu Richard Branson, şirketinin SpaceShipTwo isimli uzay aracı ile kendisini uzaya fırlatacak ve kendisine 2 pilot ve 3 teknik personel eşlik edecek. Branson kendisine ‘Astronaut 001’ ünvanını verdi ve sosyal medya hesabından da bunu paylaştı. Kendisinin İngiliz asıllı olması ve James Bond filmlerinden etkilenmesi sebebiyle 001 ünvanını verdiği iddia edildi.Virgin Galactic şirketi 200 bin dolar karşılığı her isteyeni uzaya çıkarıp, yerçekimsiz ortamda bir kaç dakika tuttuktan sonra yeryüzüne indirecek. Bu uçuşa şimdiden 200 bin dolar ödeyip kayıt olan 600 kişi var.İkinci uçuş ise, İnsanlığın Ay’a ayak basışının yıldönümü olan 20 Temmuz günü Dünya’nın en zengin insanı ünvanına sahip olan Jeff Bezos’u uzaya götürecek. Elon Musk’un şirketi SpaceX ile büyük yarış halinde olan Blue Origin şirketinin New Shepard uzay aracı, ilk insanlı uçuşu ile Jeff Bezos, Bezos’un kardeşi Mark, bu uçuşa 28 milyon dolar ödeyen ancak ismi açıklanmayan gizemli bir kişi ve 82 yaşında eski NASA çalışanı Wally Funk’ı uzaya taşıyacak.Wally Funk’ın en önemli özelliği ise benim gibi uzay ve uçuş meraklısı olması ve 1960’lı yıllarda NASA’da astronotluk için gerekli bütün şartları erkeklerden daha iyi yerine getirmesine rağmen sırf kadın olduğu için programdan çıkarılması.Wally Funk küçüklükten beri uçuşa meraklıydı. 17 yaşında pilotluk sertifikasını almıştı. Üniversiteye başladığında dersleri çok kötü idi. Danışman hocası onun aviation bölümünde başarılı olacağını gördü ve bölüm değiştirmesine yardımcı oldu. Bu sayede Funk’ın ders notları düzeldi ve 21 yaşında Amerikan hava kuvvetlerinde pilotluk eğitimi vermeye başladı. Değişik platformlarda 19 bin saat uçuş gerçekleştirdi. En sonunda NASA’nın uzaya kadın astronot gönderme projesine dahil edildi. Bütün testleri başarıyla geçmesine ve uzaya giden diğer erkek astronotlara fark atmasına rağmen, Washington’un projeyi duyması ve zamanın başkan yardımcısının ‘kadından astronot olmaz bu projeyi durdurun’ talimatıyla uzaya gidemedi. Ancak Funk bu isteğinden vazgeçmedi ve 82 yaşında hala pilot adaylarına uçuş eğitimi veriyor. Uzaya gitmek onun içinde de bir ukde olarak kalmıştı. Ancak şansı 60 yıl sonra yüzüne güldü ve 20 Temmuz günü Jeff Bezos ile beraber, uçuşun onur konuğu olarak uzaya gidecek. Eğer şartlar yolunda giderse 82 yaşında uzaya gideceği için, uzaya giden en yaşlı kişi ünvanını da almış olacak.Peki uzay neresi ve ne kadar uzağa gidersek astronot sayılıyoruz? Atmosferin üstünde, havanın bittiği, basıncın sıfırlandığı ve sıcaklığın eksi 270 derecelere düştüğü boşluğa uzay diyoruz ve yaklaşık 100 kilometre yukarısı. Bu iki uçuşun hedefi de 100 km sınırını geçip yere inmek. Eğer bunu başarırlarsa artık uzaya gidip gelmek git gide ucuzlayacak ve her insanın rahatça gidip gelebileceği bir yolculuk olacak. Elon Musk ise Starship programı ile yakın bir zamanda yüzlerce kişiyi aynı anda ve çok daha ucuza uzaya taşıyacağını söylüyor.Amerikan hükümeti de uzaya çok insan gideceği için, oralarda polislik yapmak üzere, ordusuna ‘Space Force’ yani Uzay Kuvvetlerini de ekledi ve uzayda da asker görevlendirecek.Bu iki araç ile uzaya gitmek özel yetenek ve eğitim gerektirmiyor. Sadece uçaklarda olduğu gibi birkaç saatlik güvenlik eğitiminden sonra herkes uzaya gidebilir duruma gelecek. New Shepard tamamen otomasyon ile uzaya gidip gelecek ve astronotların herhangi bir işlem yapması gerekmeyecek. Kendisini uzaya fırlatan roket ise tekrar kullanılmak üzere kendisi için planlanan alana kontrollü indirilecek. Astronotları uzaya taşıyan kapsül bir müddet yerçekimin hissedilmediği ortamda kaldıktan sonra Dünya atmosferine giriş yapacak ve paraşütlerle yeryüzüne inecek.Virgin Galactic şirketinin Unity isimli uzay aracı ise bir uçakla belirli bir yüksekliğe çıkarıldıktan sonra serbest bırakılacak ve motorları ateşlenecek. Bu aracı 2 pilot kullanacak ve 100 km yukarıya çıktıktan sonra Dünya atmosferine girerek, hızını yavaşlatacak ve bir uçak gibi yere inecek.İşte benim hayallerimin gerçek olması da burada yatıyor. Eğer önümüzdeki birkaç yıl hem haftaiçi, hem geceleri, hem de hafta sonları çalışır ve para biriktirirsem, bu uçuşlardan birine kapağı atar ve uzaya giderim diye düşünüyorum. Ben de kendime şöyle ‘Astronot 001’ demeyi çok isterdim. \\n'"
      ]
     },
     "execution_count": 88,
     "metadata": {},
     "output_type": "execute_result"
    }
   ],
   "source": [
    "soup.select(\"article.article-content\")[0].text"
   ]
  },
  {
   "cell_type": "code",
   "execution_count": 90,
   "metadata": {},
   "outputs": [],
   "source": [
    "page = requests.get(\"https://www.karar.com/yazarlar/zafer-acar\")"
   ]
  },
  {
   "cell_type": "code",
   "execution_count": 92,
   "metadata": {},
   "outputs": [],
   "source": [
    "soup = BeautifulSoup(page.content,\"html.parser\")"
   ]
  },
  {
   "cell_type": "code",
   "execution_count": 94,
   "metadata": {},
   "outputs": [],
   "source": [
    "linkler = soup.find_all(\"article\", {'class': 'item box-shadow'})"
   ]
  },
  {
   "cell_type": "code",
   "execution_count": 8,
   "metadata": {
    "scrolled": true
   },
   "outputs": [],
   "source": [
    "#linkler"
   ]
  },
  {
   "cell_type": "code",
   "execution_count": 98,
   "metadata": {},
   "outputs": [],
   "source": [
    "yazilar = []\n",
    "basliklar = []\n",
    "for link in linkler:\n",
    "    link1 = 'https://www.karar.com' + link.a.get('href')\n",
    "    baslik = link.h3.text\n",
    "    page2 = requests.get(link1)\n",
    "    soup2 = BeautifulSoup(page2.content,'html.parser')\n",
    "    makale = soup2.select('article.article-content')[0].text\n",
    "    yazilar.append(makale)\n",
    "    basliklar.append(baslik)"
   ]
  },
  {
   "cell_type": "code",
   "execution_count": 100,
   "metadata": {},
   "outputs": [],
   "source": [
    "import pandas as pd"
   ]
  },
  {
   "cell_type": "code",
   "execution_count": 102,
   "metadata": {},
   "outputs": [],
   "source": [
    "df = pd.DataFrame(columns=['Title', 'Article'])"
   ]
  },
  {
   "cell_type": "code",
   "execution_count": 104,
   "metadata": {},
   "outputs": [],
   "source": [
    "df['Title'] = basliklar"
   ]
  },
  {
   "cell_type": "code",
   "execution_count": 106,
   "metadata": {},
   "outputs": [],
   "source": [
    "df['Article'] = yazilar"
   ]
  },
  {
   "cell_type": "code",
   "execution_count": 108,
   "metadata": {},
   "outputs": [
    {
     "data": {
      "text/html": [
       "<div>\n",
       "<style scoped>\n",
       "    .dataframe tbody tr th:only-of-type {\n",
       "        vertical-align: middle;\n",
       "    }\n",
       "\n",
       "    .dataframe tbody tr th {\n",
       "        vertical-align: top;\n",
       "    }\n",
       "\n",
       "    .dataframe thead th {\n",
       "        text-align: right;\n",
       "    }\n",
       "</style>\n",
       "<table border=\"1\" class=\"dataframe\">\n",
       "  <thead>\n",
       "    <tr style=\"text-align: right;\">\n",
       "      <th></th>\n",
       "      <th>Title</th>\n",
       "      <th>Article</th>\n",
       "    </tr>\n",
       "  </thead>\n",
       "  <tbody>\n",
       "    <tr>\n",
       "      <th>0</th>\n",
       "      <td>Engellilerin umudu yapay zeka</td>\n",
       "      <td>\\n\\nYapay zeka her alanda büyük değişimler ve ...</td>\n",
       "    </tr>\n",
       "    <tr>\n",
       "      <th>1</th>\n",
       "      <td>Kuantum yapay zeka</td>\n",
       "      <td>\\n\\nTeknolojik gelişmeler baş döndürücü hızla ...</td>\n",
       "    </tr>\n",
       "    <tr>\n",
       "      <th>2</th>\n",
       "      <td>Astronot 001</td>\n",
       "      <td>\\n\\nUzay çalışmaları ve uçuşları küçüklüğümden...</td>\n",
       "    </tr>\n",
       "    <tr>\n",
       "      <th>3</th>\n",
       "      <td>Çin’in uzay programı tam gaz</td>\n",
       "      <td>\\n\\nUzay çalışmalarında ne kadar ileride iseni...</td>\n",
       "    </tr>\n",
       "    <tr>\n",
       "      <th>4</th>\n",
       "      <td>Yapay zeka ile çip tasarımı</td>\n",
       "      <td>\\n\\nGeçtiğimiz hafta Google, bilgisayar çipler...</td>\n",
       "    </tr>\n",
       "  </tbody>\n",
       "</table>\n",
       "</div>"
      ],
      "text/plain": [
       "                           Title  \\\n",
       "0  Engellilerin umudu yapay zeka   \n",
       "1             Kuantum yapay zeka   \n",
       "2                   Astronot 001   \n",
       "3   Çin’in uzay programı tam gaz   \n",
       "4    Yapay zeka ile çip tasarımı   \n",
       "\n",
       "                                             Article  \n",
       "0  \\n\\nYapay zeka her alanda büyük değişimler ve ...  \n",
       "1  \\n\\nTeknolojik gelişmeler baş döndürücü hızla ...  \n",
       "2  \\n\\nUzay çalışmaları ve uçuşları küçüklüğümden...  \n",
       "3  \\n\\nUzay çalışmalarında ne kadar ileride iseni...  \n",
       "4  \\n\\nGeçtiğimiz hafta Google, bilgisayar çipler...  "
      ]
     },
     "execution_count": 108,
     "metadata": {},
     "output_type": "execute_result"
    }
   ],
   "source": [
    "df.head()"
   ]
  },
  {
   "cell_type": "code",
   "execution_count": 110,
   "metadata": {
    "scrolled": true
   },
   "outputs": [
    {
     "data": {
      "text/plain": [
       "'\\n\\nYapay zeka her alanda büyük değişimler ve gelişimler vaad ediyor. Almanya’da yapılan yeni bir araştırma, görme engelli vatandaşlarımızın gerçek dünyada gezinmelerine yardımcı olmak için GPU ile çalışan, taşınabilir bir sistem geliştirdi. Daha önce de yapay zeka ile görme engelli vatandaşlarımızın belirlenen ve işaretlenen yollarda rahatça koşmaları sağlanmıştı. Bu kez sırtınızda taşıyacağınız bir laptop ve gözlüğünüze monte edebileceğiniz bir kamera ile normal insan gibi gezmek, görmek, karşıdan gelen arkadaşlarınızı tanımak ve selam vermek artık problem olmaktan çıkacak.\\nÜlkemizde maalesef fiziksel ve zihinsel özürlü çok sayıda vatandaşımız var. Bunların en zoru muhtemelen görme ve işitme. Tekerlekli sandalyeye mahkum olan veya bir tekerlekli sandalye bile bulamayan çok sayıda engelli vatandaşımız da var. Devletimiz engelli vatandaşlarımıza bir miktar sahip çıksa da, özürlü bir bireye sahip olan aileler, bu meseleyi sanki utanç verici bir şeymiş gibi düşünüyor ve çocuklarını topluma çıkarmama veya bir odaya kapatıp hayatını orada geçirmesini istiyor. Ayrıca engelli vatandaşlarımız bir başkasının yardımı ve desteği olmadan dışarı bile çıkamıyor ve hep bir başkasına bağımlı yaşıyor. Hatta bazen yatalak babasına bakmak için hiç evlenmeyen, babası vefat edince bir işe girmediği için zor durumda kalan kızların hikayelerini duyuyoruz. Tam bu noktada yapay zeka devreye giriyor ve görmeyen gözlere görme, duymayan kulaklara işitme olayını çözmüş gibi görünüyor.Yapay zekanın en önemli iki alanı olan Bilgisayarlı Görme (Computer Vision) ve Doğal Dil İşleme (NLP) ile artık görme ve işitme engelli vatandaşlarımız, Coğrafi Bilgi Sistemler (Geographic Information Systems - GIS) ile de tekerlekli sandalyeye mahkum insanlarımız başkasına bağımlı yaşamaktan kurtuluyor ve normal bir birey gibi seyahat edebiliyor, koşabiliyor ve konuşabiliyorlar.Computer Vision veya Bilgisayarın gözü en büyük gelecek vaat eden yapay zeka alanlarından birisi. Yapay zeka dersi verdiğim öğrenciler, muhtemelen görselliği fazla olduğu için, en çok bu konudan etkileniyorlar ve bu konuda uzmanlaşmak istiyorlar. Çok rahatlıkla geliştirebileceğimiz bir yapay zeka modelini, gözlüğümüze monte edilebilen bir kameraya yüklediğimizde karşıdan gelen insanları yüz tanıma sistemleri ile tanıyıp Doğal Dil İşleme ile kimin yaklaşmakta olduğunu kulağınıza fısıldayabiliyor. Tam konuşma mesafesine geldiğinizde size durmanızı ve selam vermenizi söylüyor. Yine aynı yapay zeka algoritması yoldaki işaretleri okuyup anlayabiliyor. Yürüyüş alanlarında her bir nesneyi ve engeli tanıyor ve gerçek zamanlı olarak görme özürlü vatandaşlarımızı yönlendirebiliyor. Hatta makineler 2017 yılından bu yana insanlardan daha iyi görmeye başladılar. Bu sayede artık görme özürlü kişiler araba bile kullanabilir ve görmemek problem olmaktan çıkar. Ayrıca Bilgisayarlı Görme, Doğal Dil İşleme ile birleştiğinde müthiş bir takım arkadaşı oluyorlar. Çünkü makine gördüğü nesneleri sese çevirmek zorunda. İşte burada doğal dil işleme devreye giriyor ve ve eğittiğimiz modeller gördüğü kişileri ve nesneleri kelimelere doğal dil işleme sayesinde döküyor. Resimler ve videolar bilgisayar için çok boyutlu matrislerden ibaret. Resimler piksellerden oluşur ve bu piksellerde RGB renk modeline göre 3 farklı renkten rakamlar vardır. Diğer bütün renkler RGB (Kırmızı  - Yeşil - Mavi) renklerinin 0’dan 255’e kadar olan değerlerinden oluşur. Bu durumda resimler bilgisayar için Lineer Cebir’de ‘Tensor’ ismini verdiğimiz çok boyutlu matrislerdir. İşte kameralar kendisine daha önce gösterilen resimlerin matrislerine benzer matris gördüklerinde nesneleri ve insanları tanıyabiliyorlar.Geçtiğimiz yıllarda yaz aylarında yaptığım bir bilimsel araştırmanın sonuçlarını Los Angeles’ta akademik bir ortamda anlatıyordum. İşitme özürlü bir öğrencimiz de izlemeye gelmişti. Üniversitemiz bu öğrenciye iki tane interpreter vermiş. Bu kişiler dönüşümlü olarak benim anlattıklarımı işaret dili ile işitme engelli öğrenciye anlatıyorlardı. Bu iki kişi, gün boyu bu öğrencinin derslerine giriyorlar ve profesörlerin derste anlattıklarını işaret diline çeviriyorlar ve bu öğrenci bu sayede üniversite okuyabiliyor. Ancak bu işitme engelli öğrenci akşam evinde veya başka alanlarda olduğunda anlatılanları duyamıyor. Arkadaşlarının söylediklerini anlamıyor. Beraber ders çalışabileceği insanlar yok. Mesela havaalanında tek başına yolculuk yapıyor. Uçağa bineceği kapı numarası son anda değişti. O zaman yapılan anonsları duymayacağı için uçağı kaçırması kuvvetle muhtemel. İşte yapay zekaya daha evvelki konuşmalar ve işaret dilindeki ifadeleri gösterilirse, sanal bir karakter ile bütün konuşmaların işaret diline çevrilmesi işten bile değil. Bu konuda da ciddi çalışmalar mevcut ve çok büyük başarılar elde edildi. Hal böyle olunca konuşulanları,duyuruları ve anonsları cep telefonu ekranında işaret diline çeviren bir uygulama ile işitme engeli artık engel olmaktan çıkıyor.Yapay zekanın başka bir parlayan yıldızı ise coğrafi bilgi sistemleridir. Bu sistem sayesinde veriler haritalar üzerine yüklenebiliyor ve veri analizi ile hangi konumda ne iş yapılırsa başarılı olur ve bir işyeri en optimum düzeyde nasıl çalışır gibi veriye dayalı kararlar verilebiliyor. Otonom araçlar, coğrafi bilgi sistemleri, bilgisayarlı görme, RADAR ve LIDAR teknolojileri ile yollarını bulabiliyorlar. Bu teknoloji ile tekerlekli sandalyeye mahkum yakınlarımız cep telefonlarına gitmek istedikleri adresi girecekler veya söyleyecekler. Yapay zeka ile donanımlı araçlar onları kimseye muhtaç olmadan gitmek istedikleri yerlere götürecekler. Akrabaları ise bu araçları hem görüntülü, hem de harita üzerinde takip edip yakınımızın güvende olup olmadığını takip edeceğiz.Gençlerimizde son zamanlarda gördüğüm şey çok vahim. Bilim insanlarına, bilim ve teknolojiye, yapay zekaya ilgi duyacaklarına, parası ve nüfuzu olan kişilere özeniyorlar, filmler ve diziler basit küfürler ve birbirinin tuzağını kuran sığ tartışmalardan ibaret.On binlerce kişi milletvekili olabilmek için varlarını yoklarını satıp aday adayı başvurusu yapıyorlar,  lakin bilim insanı olmak için aynı gayreti göremiyoruz. Dizilerde ve filmlerde uzay, bilim, teknoloji ve yapay zeka konuları sık sık işlenmeli. Yüksek teknoloji, yapay zeka, kuantum bilgisayar çağı kapıya geldi dayandı. Biz ise gereksiz siyasi tartışmalarla ömrümüzü harcıyoruz. \\n'"
      ]
     },
     "execution_count": 110,
     "metadata": {},
     "output_type": "execute_result"
    }
   ],
   "source": [
    "df['Article'][0]"
   ]
  },
  {
   "cell_type": "code",
   "execution_count": 112,
   "metadata": {},
   "outputs": [
    {
     "data": {
      "text/plain": [
       "(48, 2)"
      ]
     },
     "execution_count": 112,
     "metadata": {},
     "output_type": "execute_result"
    }
   ],
   "source": [
    "df.shape"
   ]
  },
  {
   "cell_type": "code",
   "execution_count": 114,
   "metadata": {},
   "outputs": [],
   "source": [
    "df['Article'] = df['Article'].str.replace('\\n', '') "
   ]
  },
  {
   "cell_type": "code",
   "execution_count": 145,
   "metadata": {},
   "outputs": [
    {
     "data": {
      "text/plain": [
       "'Yapay zeka her alanda büyük değişimler ve gelişimler vaad ediyor. Almanya’da yapılan yeni bir araştırma, görme engelli vatandaşlarımızın gerçek dünyada gezinmelerine yardımcı olmak için GPU ile çalışan, taşınabilir bir sistem geliştirdi. Daha önce de yapay zeka ile görme engelli vatandaşlarımızın belirlenen ve işaretlenen yollarda rahatça koşmaları sağlanmıştı. Bu kez sırtınızda taşıyacağınız bir laptop ve gözlüğünüze monte edebileceğiniz bir kamera ile normal insan gibi gezmek, görmek, karşıdan gelen arkadaşlarınızı tanımak ve selam vermek artık problem olmaktan çıkacak.Ülkemizde maalesef fiziksel ve zihinsel özürlü çok sayıda vatandaşımız var. Bunların en zoru muhtemelen görme ve işitme. Tekerlekli sandalyeye mahkum olan veya bir tekerlekli sandalye bile bulamayan çok sayıda engelli vatandaşımız da var. Devletimiz engelli vatandaşlarımıza bir miktar sahip çıksa da, özürlü bir bireye sahip olan aileler, bu meseleyi sanki utanç verici bir şeymiş gibi düşünüyor ve çocuklarını topluma çıkarmama veya bir odaya kapatıp hayatını orada geçirmesini istiyor. Ayrıca engelli vatandaşlarımız bir başkasının yardımı ve desteği olmadan dışarı bile çıkamıyor ve hep bir başkasına bağımlı yaşıyor. Hatta bazen yatalak babasına bakmak için hiç evlenmeyen, babası vefat edince bir işe girmediği için zor durumda kalan kızların hikayelerini duyuyoruz. Tam bu noktada yapay zeka devreye giriyor ve görmeyen gözlere görme, duymayan kulaklara işitme olayını çözmüş gibi görünüyor.Yapay zekanın en önemli iki alanı olan Bilgisayarlı Görme (Computer Vision) ve Doğal Dil İşleme (NLP) ile artık görme ve işitme engelli vatandaşlarımız, Coğrafi Bilgi Sistemler (Geographic Information Systems - GIS) ile de tekerlekli sandalyeye mahkum insanlarımız başkasına bağımlı yaşamaktan kurtuluyor ve normal bir birey gibi seyahat edebiliyor, koşabiliyor ve konuşabiliyorlar.Computer Vision veya Bilgisayarın gözü en büyük gelecek vaat eden yapay zeka alanlarından birisi. Yapay zeka dersi verdiğim öğrenciler, muhtemelen görselliği fazla olduğu için, en çok bu konudan etkileniyorlar ve bu konuda uzmanlaşmak istiyorlar. Çok rahatlıkla geliştirebileceğimiz bir yapay zeka modelini, gözlüğümüze monte edilebilen bir kameraya yüklediğimizde karşıdan gelen insanları yüz tanıma sistemleri ile tanıyıp Doğal Dil İşleme ile kimin yaklaşmakta olduğunu kulağınıza fısıldayabiliyor. Tam konuşma mesafesine geldiğinizde size durmanızı ve selam vermenizi söylüyor. Yine aynı yapay zeka algoritması yoldaki işaretleri okuyup anlayabiliyor. Yürüyüş alanlarında her bir nesneyi ve engeli tanıyor ve gerçek zamanlı olarak görme özürlü vatandaşlarımızı yönlendirebiliyor. Hatta makineler 2017 yılından bu yana insanlardan daha iyi görmeye başladılar. Bu sayede artık görme özürlü kişiler araba bile kullanabilir ve görmemek problem olmaktan çıkar. Ayrıca Bilgisayarlı Görme, Doğal Dil İşleme ile birleştiğinde müthiş bir takım arkadaşı oluyorlar. Çünkü makine gördüğü nesneleri sese çevirmek zorunda. İşte burada doğal dil işleme devreye giriyor ve ve eğittiğimiz modeller gördüğü kişileri ve nesneleri kelimelere doğal dil işleme sayesinde döküyor. Resimler ve videolar bilgisayar için çok boyutlu matrislerden ibaret. Resimler piksellerden oluşur ve bu piksellerde RGB renk modeline göre 3 farklı renkten rakamlar vardır. Diğer bütün renkler RGB (Kırmızı  - Yeşil - Mavi) renklerinin 0’dan 255’e kadar olan değerlerinden oluşur. Bu durumda resimler bilgisayar için Lineer Cebir’de ‘Tensor’ ismini verdiğimiz çok boyutlu matrislerdir. İşte kameralar kendisine daha önce gösterilen resimlerin matrislerine benzer matris gördüklerinde nesneleri ve insanları tanıyabiliyorlar.Geçtiğimiz yıllarda yaz aylarında yaptığım bir bilimsel araştırmanın sonuçlarını Los Angeles’ta akademik bir ortamda anlatıyordum. İşitme özürlü bir öğrencimiz de izlemeye gelmişti. Üniversitemiz bu öğrenciye iki tane interpreter vermiş. Bu kişiler dönüşümlü olarak benim anlattıklarımı işaret dili ile işitme engelli öğrenciye anlatıyorlardı. Bu iki kişi, gün boyu bu öğrencinin derslerine giriyorlar ve profesörlerin derste anlattıklarını işaret diline çeviriyorlar ve bu öğrenci bu sayede üniversite okuyabiliyor. Ancak bu işitme engelli öğrenci akşam evinde veya başka alanlarda olduğunda anlatılanları duyamıyor. Arkadaşlarının söylediklerini anlamıyor. Beraber ders çalışabileceği insanlar yok. Mesela havaalanında tek başına yolculuk yapıyor. Uçağa bineceği kapı numarası son anda değişti. O zaman yapılan anonsları duymayacağı için uçağı kaçırması kuvvetle muhtemel. İşte yapay zekaya daha evvelki konuşmalar ve işaret dilindeki ifadeleri gösterilirse, sanal bir karakter ile bütün konuşmaların işaret diline çevrilmesi işten bile değil. Bu konuda da ciddi çalışmalar mevcut ve çok büyük başarılar elde edildi. Hal böyle olunca konuşulanları,duyuruları ve anonsları cep telefonu ekranında işaret diline çeviren bir uygulama ile işitme engeli artık engel olmaktan çıkıyor.Yapay zekanın başka bir parlayan yıldızı ise coğrafi bilgi sistemleridir. Bu sistem sayesinde veriler haritalar üzerine yüklenebiliyor ve veri analizi ile hangi konumda ne iş yapılırsa başarılı olur ve bir işyeri en optimum düzeyde nasıl çalışır gibi veriye dayalı kararlar verilebiliyor. Otonom araçlar, coğrafi bilgi sistemleri, bilgisayarlı görme, RADAR ve LIDAR teknolojileri ile yollarını bulabiliyorlar. Bu teknoloji ile tekerlekli sandalyeye mahkum yakınlarımız cep telefonlarına gitmek istedikleri adresi girecekler veya söyleyecekler. Yapay zeka ile donanımlı araçlar onları kimseye muhtaç olmadan gitmek istedikleri yerlere götürecekler. Akrabaları ise bu araçları hem görüntülü, hem de harita üzerinde takip edip yakınımızın güvende olup olmadığını takip edeceğiz.Gençlerimizde son zamanlarda gördüğüm şey çok vahim. Bilim insanlarına, bilim ve teknolojiye, yapay zekaya ilgi duyacaklarına, parası ve nüfuzu olan kişilere özeniyorlar, filmler ve diziler basit küfürler ve birbirinin tuzağını kuran sığ tartışmalardan ibaret.On binlerce kişi milletvekili olabilmek için varlarını yoklarını satıp aday adayı başvurusu yapıyorlar,  lakin bilim insanı olmak için aynı gayreti göremiyoruz. Dizilerde ve filmlerde uzay, bilim, teknoloji ve yapay zeka konuları sık sık işlenmeli. Yüksek teknoloji, yapay zeka, kuantum bilgisayar çağı kapıya geldi dayandı. Biz ise gereksiz siyasi tartışmalarla ömrümüzü harcıyoruz. '"
      ]
     },
     "execution_count": 145,
     "metadata": {},
     "output_type": "execute_result"
    }
   ],
   "source": [
    "df['Article'][0]"
   ]
  },
  {
   "cell_type": "code",
   "execution_count": null,
   "metadata": {},
   "outputs": [],
   "source": []
  }
 ],
 "metadata": {
  "kernelspec": {
   "display_name": "Python 3 (ipykernel)",
   "language": "python",
   "name": "python3"
  },
  "language_info": {
   "codemirror_mode": {
    "name": "ipython",
    "version": 3
   },
   "file_extension": ".py",
   "mimetype": "text/x-python",
   "name": "python",
   "nbconvert_exporter": "python",
   "pygments_lexer": "ipython3",
   "version": "3.12.4"
  }
 },
 "nbformat": 4,
 "nbformat_minor": 4
}
